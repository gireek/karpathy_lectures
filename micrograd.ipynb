{
  "nbformat": 4,
  "nbformat_minor": 0,
  "metadata": {
    "colab": {
      "provenance": [],
      "authorship_tag": "ABX9TyMNGLj/Rnj9KZ/eljVvAR0H",
      "include_colab_link": true
    },
    "kernelspec": {
      "name": "python3",
      "display_name": "Python 3"
    },
    "language_info": {
      "name": "python"
    }
  },
  "cells": [
    {
      "cell_type": "markdown",
      "metadata": {
        "id": "view-in-github",
        "colab_type": "text"
      },
      "source": [
        "<a href=\"https://colab.research.google.com/github/gireek/karpathy_lectures/blob/main/micrograd.ipynb\" target=\"_parent\"><img src=\"https://colab.research.google.com/assets/colab-badge.svg\" alt=\"Open In Colab\"/></a>"
      ]
    },
    {
      "cell_type": "markdown",
      "source": [
        "https://github.com/karpathy/micrograd\n",
        "\n",
        "Only has 2 files"
      ],
      "metadata": {
        "id": "kW7BaMMpUF-p"
      }
    },
    {
      "cell_type": "code",
      "source": [
        "import math\n",
        "import numpy as np\n",
        "import matplotlib.pyplot as plt\n",
        "from graphviz import Digraph\n",
        "\n",
        "%matplotlib inline"
      ],
      "metadata": {
        "id": "BntqCX4wRORN"
      },
      "execution_count": 8,
      "outputs": []
    },
    {
      "cell_type": "code",
      "source": [
        "def f(x):\n",
        "  return 3*x**2 - 4*x + 5"
      ],
      "metadata": {
        "id": "8uAFzBNX_wFw"
      },
      "execution_count": 3,
      "outputs": []
    },
    {
      "cell_type": "code",
      "source": [
        "f(3.0)"
      ],
      "metadata": {
        "colab": {
          "base_uri": "https://localhost:8080/"
        },
        "id": "F789R32L_0Ze",
        "outputId": "952a8202-3e94-4ced-c7b6-459d7f7e0216"
      },
      "execution_count": 4,
      "outputs": [
        {
          "output_type": "execute_result",
          "data": {
            "text/plain": [
              "20.0"
            ]
          },
          "metadata": {},
          "execution_count": 4
        }
      ]
    },
    {
      "cell_type": "code",
      "source": [
        "xs = np.arange(-5, 5, 0.25)\n",
        "ys = f(xs)\n",
        "plt.plot(xs, ys)"
      ],
      "metadata": {
        "colab": {
          "base_uri": "https://localhost:8080/",
          "height": 448
        },
        "id": "ntV0cJRf_38f",
        "outputId": "1b9e5364-8d89-4c17-941d-958eb15f334d"
      },
      "execution_count": 5,
      "outputs": [
        {
          "output_type": "execute_result",
          "data": {
            "text/plain": [
              "[<matplotlib.lines.Line2D at 0x784538c45f00>]"
            ]
          },
          "metadata": {},
          "execution_count": 5
        },
        {
          "output_type": "display_data",
          "data": {
            "text/plain": [
              "<Figure size 640x480 with 1 Axes>"
            ],
            "image/png": "[encoded data removed]"
          },
          "metadata": {}
        }
      ]
    },
    {
      "cell_type": "markdown",
      "source": [
        "You cant do rule based derivatives for neural net models"
      ],
      "metadata": {
        "id": "yRjCBnS9ARvQ"
      }
    },
    {
      "cell_type": "code",
      "source": [
        "h = 0.00000001\n",
        "x = 2/3\n",
        "f(x+h)"
      ],
      "metadata": {
        "colab": {
          "base_uri": "https://localhost:8080/"
        },
        "id": "truZ6CCw_9Xz",
        "outputId": "bf821c90-2edb-422d-fc8e-0878318b306d"
      },
      "execution_count": 6,
      "outputs": [
        {
          "output_type": "execute_result",
          "data": {
            "text/plain": [
              "3.666666666666667"
            ]
          },
          "metadata": {},
          "execution_count": 6
        }
      ]
    },
    {
      "cell_type": "code",
      "source": [
        "(f(x+h) - f(x))/h\n",
        "# is 0 bcz derivative is zero at that point"
      ],
      "metadata": {
        "colab": {
          "base_uri": "https://localhost:8080/"
        },
        "id": "S38ioCinAsQC",
        "outputId": "a0332657-4709-4e33-bd76-87afeefa8a64"
      },
      "execution_count": 7,
      "outputs": [
        {
          "output_type": "execute_result",
          "data": {
            "text/plain": [
              "0.0"
            ]
          },
          "metadata": {},
          "execution_count": 7
        }
      ]
    },
    {
      "cell_type": "code",
      "source": [
        "# little complex\n",
        "\n",
        "#inputs\n",
        "a = 2.0\n",
        "b = -3.0\n",
        "c = 10.0\n",
        "\n",
        "# d computation\n",
        "d = a*b + c\n",
        "d"
      ],
      "metadata": {
        "colab": {
          "base_uri": "https://localhost:8080/"
        },
        "id": "SI8nstcrAy7q",
        "outputId": "53076a87-15b9-4c8a-f076-70db0d08d3bd"
      },
      "execution_count": 8,
      "outputs": [
        {
          "output_type": "execute_result",
          "data": {
            "text/plain": [
              "4.0"
            ]
          },
          "metadata": {},
          "execution_count": 8
        }
      ]
    },
    {
      "cell_type": "markdown",
      "source": [
        "t4esting for derivtive on a,b,c"
      ],
      "metadata": {
        "id": "oBuXWRDjeKy0"
      }
    },
    {
      "cell_type": "code",
      "source": [
        "d1 = a*b + c\n",
        "a += h\n",
        "d2 = a*b + c\n",
        "\n",
        "(d2 - d1)/h"
      ],
      "metadata": {
        "colab": {
          "base_uri": "https://localhost:8080/"
        },
        "id": "gvq2iOyaBqje",
        "outputId": "9840a9e5-e43c-4a27-9050-5d06799366a6"
      },
      "execution_count": 9,
      "outputs": [
        {
          "output_type": "execute_result",
          "data": {
            "text/plain": [
              "-2.999999981767587"
            ]
          },
          "metadata": {},
          "execution_count": 9
        }
      ]
    },
    {
      "cell_type": "code",
      "source": [
        "d1 = a*b + c\n",
        "b += h\n",
        "d2 = a*b + c\n",
        "\n",
        "(d2 - d1)/h"
      ],
      "metadata": {
        "colab": {
          "base_uri": "https://localhost:8080/"
        },
        "id": "WRUXH461B-1U",
        "outputId": "8685b7c2-6fff-4afd-852f-89590cd4359e"
      },
      "execution_count": 10,
      "outputs": [
        {
          "output_type": "execute_result",
          "data": {
            "text/plain": [
              "1.999999987845058"
            ]
          },
          "metadata": {},
          "execution_count": 10
        }
      ]
    },
    {
      "cell_type": "code",
      "source": [
        "d1 = a*b + c\n",
        "c += h\n",
        "d2 = a*b + c\n",
        "\n",
        "(d2 - d1)/h"
      ],
      "metadata": {
        "colab": {
          "base_uri": "https://localhost:8080/"
        },
        "id": "8571P4V-CczQ",
        "outputId": "ef88b8a2-5baa-4c46-e190-4a055f985657"
      },
      "execution_count": 11,
      "outputs": [
        {
          "output_type": "execute_result",
          "data": {
            "text/plain": [
              "1.000000082740371"
            ]
          },
          "metadata": {},
          "execution_count": 11
        }
      ]
    },
    {
      "cell_type": "code",
      "source": [],
      "metadata": {
        "id": "E8Rmad44Chwr"
      },
      "execution_count": 11,
      "outputs": []
    },
    {
      "cell_type": "markdown",
      "source": [
        "Value object"
      ],
      "metadata": {
        "id": "Ly-iRCoVCxBS"
      }
    },
    {
      "cell_type": "code",
      "source": [
        "class Value:\n",
        "    def __init__(self, data, _children=(), _op=\"\", label = ''): #_children is tuple but set inside\n",
        "      self.data= data\n",
        "      self._prev = set(_children)\n",
        "      self._op = _op\n",
        "      self.label = label\n",
        "      self.grad = 0.0\n",
        "\n",
        "\n",
        "    def __repr__(self):\n",
        "        return f\"Value(data={self.data})\"\n",
        "\n",
        "\n",
        "    def __add__(self, other): # using __add__ it will automatically be invoked when val1 + val2 is called\n",
        "      out = Value(self.data + other.data, (self, other), \"+\")\n",
        "      return out\n",
        "\n",
        "\n",
        "    def __mul__(self, other): # using __mul__ it will automatically be invoked when val1*val2 is called\n",
        "      out = Value(self.data*other.data, (self, other), \"*\")\n",
        "      return out\n",
        "\n",
        "\n",
        "\n",
        "a = Value(2.0)\n",
        "b = Value(3.0)\n",
        "print(a + b)\n",
        "print(b.__add__(a))\n",
        "print(a.__add__(b))\n",
        "\n",
        "print(a*b)\n",
        "print(b.__mul__(a))\n"
      ],
      "metadata": {
        "colab": {
          "base_uri": "https://localhost:8080/"
        },
        "id": "q7ECd5SlCr-I",
        "outputId": "4c57a02a-b005-4f0d-98c2-b0a51542fb0a"
      },
      "execution_count": 12,
      "outputs": [
        {
          "output_type": "stream",
          "name": "stdout",
          "text": [
            "Value(data=5.0)\n",
            "Value(data=5.0)\n",
            "Value(data=5.0)\n",
            "Value(data=6.0)\n",
            "Value(data=6.0)\n"
          ]
        }
      ]
    },
    {
      "cell_type": "code",
      "source": [
        "a = Value(2.0, label = 'a')\n",
        "b = Value(-3.0, label = 'b')\n",
        "c = Value(10.0, label = 'c')\n",
        "e = a*b\n",
        "e.label = 'e'\n",
        "d = e + c\n",
        "d.label = 'd'\n",
        "f = Value(-2.0, label = 'f')\n",
        "L = d*f\n",
        "L.label = \"L\""
      ],
      "metadata": {
        "id": "IKLK2IEaDPGx"
      },
      "execution_count": 13,
      "outputs": []
    },
    {
      "cell_type": "code",
      "source": [
        "d._prev"
      ],
      "metadata": {
        "colab": {
          "base_uri": "https://localhost:8080/"
        },
        "id": "-_0g7LgPXP0j",
        "outputId": "58984f21-6a93-49ba-dd4d-cc76389ac9c2"
      },
      "execution_count": 14,
      "outputs": [
        {
          "output_type": "execute_result",
          "data": {
            "text/plain": [
              "{Value(data=-6.0), Value(data=10.0)}"
            ]
          },
          "metadata": {},
          "execution_count": 14
        }
      ]
    },
    {
      "cell_type": "code",
      "source": [
        "d._op"
      ],
      "metadata": {
        "colab": {
          "base_uri": "https://localhost:8080/",
          "height": 35
        },
        "id": "h-6M6dYIXRpd",
        "outputId": "86d996c4-c497-4978-a405-fc761cd35d2c"
      },
      "execution_count": 15,
      "outputs": [
        {
          "output_type": "execute_result",
          "data": {
            "text/plain": [
              "'+'"
            ],
            "application/vnd.google.colaboratory.intrinsic+json": {
              "type": "string"
            }
          },
          "metadata": {},
          "execution_count": 15
        }
      ]
    },
    {
      "cell_type": "code",
      "source": [
        "def trace(root):\n",
        "    nodes, edges = set(), set()\n",
        "    def build(v):\n",
        "        if v not in nodes:\n",
        "            nodes.add(v)\n",
        "            for child in v._prev:\n",
        "                edges.add((child, v))\n",
        "                build(child)\n",
        "    build(root)\n",
        "    return nodes, edges\n",
        "\n",
        "def draw_dot(root, format='svg', rankdir='LR'):\n",
        "    \"\"\"\n",
        "    format: png | svg | ...\n",
        "    rankdir: TB (top to bottom graph) | LR (left to right)\n",
        "    \"\"\"\n",
        "    assert rankdir in ['LR', 'TB']\n",
        "    nodes, edges = trace(root)\n",
        "    dot = Digraph(format=format, graph_attr={'rankdir': rankdir}) #, node_attr={'rankdir': 'TB'})\n",
        "\n",
        "    for n in nodes:\n",
        "        dot.node(name=str(id(n)), label = \"{ data %.4f | %s | grad %.4f}\" % (n.data, n.label, n.grad), shape='record')\n",
        "        if n._op:\n",
        "            dot.node(name=str(id(n)) + n._op, label=n._op)\n",
        "            dot.edge(str(id(n)) + n._op, str(id(n)))\n",
        "\n",
        "    for n1, n2 in edges:\n",
        "        dot.edge(str(id(n1)), str(id(n2)) + n2._op)\n",
        "\n",
        "    return dot"
      ],
      "metadata": {
        "id": "vPkuXKZjXkdZ"
      },
      "execution_count": 16,
      "outputs": []
    },
    {
      "cell_type": "code",
      "source": [
        "draw_dot(L)"
      ],
      "metadata": {
        "colab": {
          "base_uri": "https://localhost:8080/",
          "height": 249
        },
        "id": "7-KKOh08XxT6",
        "outputId": "068d135b-dd1c-4a98-fb9b-5280764ab1b6"
      },
      "execution_count": 17,
      "outputs": [
        {
          "output_type": "execute_result",
          "data": {
            "image/svg+xml": "<?xml version=\"1.0\" encoding=\"UTF-8\" standalone=\"no\"?>\n<!DOCTYPE svg PUBLIC \"-//W3C//DTD SVG 1.1//EN\"\n \"http://www.w3.org/Graphics/SVG/1.1/DTD/svg11.dtd\">\n<!-- Generated by graphviz version 2.43.0 (0)\n -->\n<!-- Title: %3 Pages: 1 -->\n<svg width=\"1148pt\" height=\"156pt\"\n viewBox=\"0.00 0.00 1148.00 156.00\" xmlns=\"http://www.w3.org/2000/svg\" xmlns:xlink=\"http://www.w3.org/1999/xlink\">\n<g id=\"graph0\" class=\"graph\" transform=\"scale(1 1) rotate(0) translate(4 152)\">\n<title>%3</title>\n<polygon fill=\"white\" stroke=\"transparent\" points=\"-4,4 -4,-152 1144,-152 1144,4 -4,4\"/>\n<!-- 132238688723600 -->\n<g id=\"node1\" class=\"node\">\n<title>132238688723600</title>\n<polygon fill=\"none\" stroke=\"black\" points=\"2.5,-111.5 2.5,-147.5 187.5,-147.5 187.5,-111.5 2.5,-111.5\"/>\n<text text-anchor=\"middle\" x=\"42.5\" y=\"-125.8\" font-family=\"Times,serif\" font-size=\"14.00\">data 2.0000</text>\n<polyline fill=\"none\" stroke=\"black\" points=\"82.5,-111.5 82.5,-147.5 \"/>\n<text text-anchor=\"middle\" x=\"94\" y=\"-125.8\" font-family=\"Times,serif\" font-size=\"14.00\">a</text>\n<polyline fill=\"none\" stroke=\"black\" points=\"105.5,-111.5 105.5,-147.5 \"/>\n<text text-anchor=\"middle\" x=\"146.5\" y=\"-125.8\" font-family=\"Times,serif\" font-size=\"14.00\">grad 0.0000</text>\n</g>\n<!-- 132238700465840* -->\n<g id=\"node3\" class=\"node\">\n<title>132238700465840*</title>\n<ellipse fill=\"none\" stroke=\"black\" cx=\"253\" cy=\"-101.5\" rx=\"27\" ry=\"18\"/>\n<text text-anchor=\"middle\" x=\"253\" y=\"-97.8\" font-family=\"Times,serif\" font-size=\"14.00\">*</text>\n</g>\n<!-- 132238688723600&#45;&gt;132238700465840* -->\n<g id=\"edge5\" class=\"edge\">\n<title>132238688723600&#45;&gt;132238700465840*</title>\n<path fill=\"none\" stroke=\"black\" d=\"M187.65,-113.05C197.94,-111.2 207.91,-109.41 216.81,-107.82\"/>\n<polygon fill=\"black\" stroke=\"black\" points=\"217.48,-111.25 226.71,-106.04 216.25,-104.36 217.48,-111.25\"/>\n</g>\n<!-- 132238700465840 -->\n<g id=\"node2\" class=\"node\">\n<title>132238700465840</title>\n<polygon fill=\"none\" stroke=\"black\" points=\"317,-83.5 317,-119.5 507,-119.5 507,-83.5 317,-83.5\"/>\n<text text-anchor=\"middle\" x=\"359.5\" y=\"-97.8\" font-family=\"Times,serif\" font-size=\"14.00\">data &#45;6.0000</text>\n<polyline fill=\"none\" stroke=\"black\" points=\"402,-83.5 402,-119.5 \"/>\n<text text-anchor=\"middle\" x=\"413.5\" y=\"-97.8\" font-family=\"Times,serif\" font-size=\"14.00\">e</text>\n<polyline fill=\"none\" stroke=\"black\" points=\"425,-83.5 425,-119.5 \"/>\n<text text-anchor=\"middle\" x=\"466\" y=\"-97.8\" font-family=\"Times,serif\" font-size=\"14.00\">grad 0.0000</text>\n</g>\n<!-- 132238688729888+ -->\n<g id=\"node8\" class=\"node\">\n<title>132238688729888+</title>\n<ellipse fill=\"none\" stroke=\"black\" cx=\"571\" cy=\"-73.5\" rx=\"27\" ry=\"18\"/>\n<text text-anchor=\"middle\" x=\"571\" y=\"-69.8\" font-family=\"Times,serif\" font-size=\"14.00\">+</text>\n</g>\n<!-- 132238700465840&#45;&gt;132238688729888+ -->\n<g id=\"edge8\" class=\"edge\">\n<title>132238700465840&#45;&gt;132238688729888+</title>\n<path fill=\"none\" stroke=\"black\" d=\"M507.05,-84.73C516.89,-82.97 526.39,-81.28 534.9,-79.76\"/>\n<polygon fill=\"black\" stroke=\"black\" points=\"535.52,-83.2 544.75,-78 534.29,-76.31 535.52,-83.2\"/>\n</g>\n<!-- 132238700465840*&#45;&gt;132238700465840 -->\n<g id=\"edge1\" class=\"edge\">\n<title>132238700465840*&#45;&gt;132238700465840</title>\n<path fill=\"none\" stroke=\"black\" d=\"M280.28,-101.5C288.05,-101.5 297.08,-101.5 306.68,-101.5\"/>\n<polygon fill=\"black\" stroke=\"black\" points=\"306.88,-105 316.88,-101.5 306.88,-98 306.88,-105\"/>\n</g>\n<!-- 132238700465888 -->\n<g id=\"node4\" class=\"node\">\n<title>132238700465888</title>\n<polygon fill=\"none\" stroke=\"black\" points=\"948,-27.5 948,-63.5 1140,-63.5 1140,-27.5 948,-27.5\"/>\n<text text-anchor=\"middle\" x=\"990.5\" y=\"-41.8\" font-family=\"Times,serif\" font-size=\"14.00\">data &#45;8.0000</text>\n<polyline fill=\"none\" stroke=\"black\" points=\"1033,-27.5 1033,-63.5 \"/>\n<text text-anchor=\"middle\" x=\"1045.5\" y=\"-41.8\" font-family=\"Times,serif\" font-size=\"14.00\">L</text>\n<polyline fill=\"none\" stroke=\"black\" points=\"1058,-27.5 1058,-63.5 \"/>\n<text text-anchor=\"middle\" x=\"1099\" y=\"-41.8\" font-family=\"Times,serif\" font-size=\"14.00\">grad 0.0000</text>\n</g>\n<!-- 132238700465888* -->\n<g id=\"node5\" class=\"node\">\n<title>132238700465888*</title>\n<ellipse fill=\"none\" stroke=\"black\" cx=\"885\" cy=\"-45.5\" rx=\"27\" ry=\"18\"/>\n<text text-anchor=\"middle\" x=\"885\" y=\"-41.8\" font-family=\"Times,serif\" font-size=\"14.00\">*</text>\n</g>\n<!-- 132238700465888*&#45;&gt;132238700465888 -->\n<g id=\"edge2\" class=\"edge\">\n<title>132238700465888*&#45;&gt;132238700465888</title>\n<path fill=\"none\" stroke=\"black\" d=\"M912.28,-45.5C919.78,-45.5 928.44,-45.5 937.67,-45.5\"/>\n<polygon fill=\"black\" stroke=\"black\" points=\"937.87,-49 947.87,-45.5 937.87,-42 937.87,-49\"/>\n</g>\n<!-- 132238688727824 -->\n<g id=\"node6\" class=\"node\">\n<title>132238688727824</title>\n<polygon fill=\"none\" stroke=\"black\" points=\"634,-0.5 634,-36.5 822,-36.5 822,-0.5 634,-0.5\"/>\n<text text-anchor=\"middle\" x=\"676.5\" y=\"-14.8\" font-family=\"Times,serif\" font-size=\"14.00\">data &#45;2.0000</text>\n<polyline fill=\"none\" stroke=\"black\" points=\"719,-0.5 719,-36.5 \"/>\n<text text-anchor=\"middle\" x=\"729.5\" y=\"-14.8\" font-family=\"Times,serif\" font-size=\"14.00\">f</text>\n<polyline fill=\"none\" stroke=\"black\" points=\"740,-0.5 740,-36.5 \"/>\n<text text-anchor=\"middle\" x=\"781\" y=\"-14.8\" font-family=\"Times,serif\" font-size=\"14.00\">grad 0.0000</text>\n</g>\n<!-- 132238688727824&#45;&gt;132238700465888* -->\n<g id=\"edge9\" class=\"edge\">\n<title>132238688727824&#45;&gt;132238700465888*</title>\n<path fill=\"none\" stroke=\"black\" d=\"M822.29,-34.75C831.57,-36.37 840.52,-37.93 848.61,-39.33\"/>\n<polygon fill=\"black\" stroke=\"black\" points=\"848.22,-42.82 858.68,-41.09 849.42,-35.92 848.22,-42.82\"/>\n</g>\n<!-- 132238688729888 -->\n<g id=\"node7\" class=\"node\">\n<title>132238688729888</title>\n<polygon fill=\"none\" stroke=\"black\" points=\"635.5,-55.5 635.5,-91.5 820.5,-91.5 820.5,-55.5 635.5,-55.5\"/>\n<text text-anchor=\"middle\" x=\"675.5\" y=\"-69.8\" font-family=\"Times,serif\" font-size=\"14.00\">data 4.0000</text>\n<polyline fill=\"none\" stroke=\"black\" points=\"715.5,-55.5 715.5,-91.5 \"/>\n<text text-anchor=\"middle\" x=\"727\" y=\"-69.8\" font-family=\"Times,serif\" font-size=\"14.00\">d</text>\n<polyline fill=\"none\" stroke=\"black\" points=\"738.5,-55.5 738.5,-91.5 \"/>\n<text text-anchor=\"middle\" x=\"779.5\" y=\"-69.8\" font-family=\"Times,serif\" font-size=\"14.00\">grad 0.0000</text>\n</g>\n<!-- 132238688729888&#45;&gt;132238700465888* -->\n<g id=\"edge7\" class=\"edge\">\n<title>132238688729888&#45;&gt;132238700465888*</title>\n<path fill=\"none\" stroke=\"black\" d=\"M820.51,-56.97C830.48,-55.17 840.13,-53.42 848.77,-51.86\"/>\n<polygon fill=\"black\" stroke=\"black\" points=\"849.55,-55.28 858.77,-50.06 848.3,-48.39 849.55,-55.28\"/>\n</g>\n<!-- 132238688729888+&#45;&gt;132238688729888 -->\n<g id=\"edge3\" class=\"edge\">\n<title>132238688729888+&#45;&gt;132238688729888</title>\n<path fill=\"none\" stroke=\"black\" d=\"M598.29,-73.5C606.26,-73.5 615.54,-73.5 625.39,-73.5\"/>\n<polygon fill=\"black\" stroke=\"black\" points=\"625.41,-77 635.41,-73.5 625.41,-70 625.41,-77\"/>\n</g>\n<!-- 132238700465936 -->\n<g id=\"node9\" class=\"node\">\n<title>132238700465936</title>\n<polygon fill=\"none\" stroke=\"black\" points=\"316,-28.5 316,-64.5 508,-64.5 508,-28.5 316,-28.5\"/>\n<text text-anchor=\"middle\" x=\"359.5\" y=\"-42.8\" font-family=\"Times,serif\" font-size=\"14.00\">data 10.0000</text>\n<polyline fill=\"none\" stroke=\"black\" points=\"403,-28.5 403,-64.5 \"/>\n<text text-anchor=\"middle\" x=\"414.5\" y=\"-42.8\" font-family=\"Times,serif\" font-size=\"14.00\">c</text>\n<polyline fill=\"none\" stroke=\"black\" points=\"426,-28.5 426,-64.5 \"/>\n<text text-anchor=\"middle\" x=\"467\" y=\"-42.8\" font-family=\"Times,serif\" font-size=\"14.00\">grad 0.0000</text>\n</g>\n<!-- 132238700465936&#45;&gt;132238688729888+ -->\n<g id=\"edge4\" class=\"edge\">\n<title>132238700465936&#45;&gt;132238688729888+</title>\n<path fill=\"none\" stroke=\"black\" d=\"M508.4,-62.91C517.69,-64.5 526.64,-66.04 534.71,-67.43\"/>\n<polygon fill=\"black\" stroke=\"black\" points=\"534.32,-70.91 544.76,-69.16 535.5,-64.02 534.32,-70.91\"/>\n</g>\n<!-- 132238688726816 -->\n<g id=\"node10\" class=\"node\">\n<title>132238688726816</title>\n<polygon fill=\"none\" stroke=\"black\" points=\"0,-56.5 0,-92.5 190,-92.5 190,-56.5 0,-56.5\"/>\n<text text-anchor=\"middle\" x=\"42.5\" y=\"-70.8\" font-family=\"Times,serif\" font-size=\"14.00\">data &#45;3.0000</text>\n<polyline fill=\"none\" stroke=\"black\" points=\"85,-56.5 85,-92.5 \"/>\n<text text-anchor=\"middle\" x=\"96.5\" y=\"-70.8\" font-family=\"Times,serif\" font-size=\"14.00\">b</text>\n<polyline fill=\"none\" stroke=\"black\" points=\"108,-56.5 108,-92.5 \"/>\n<text text-anchor=\"middle\" x=\"149\" y=\"-70.8\" font-family=\"Times,serif\" font-size=\"14.00\">grad 0.0000</text>\n</g>\n<!-- 132238688726816&#45;&gt;132238700465840* -->\n<g id=\"edge6\" class=\"edge\">\n<title>132238688726816&#45;&gt;132238700465840*</title>\n<path fill=\"none\" stroke=\"black\" d=\"M190.34,-90.83C199.62,-92.44 208.58,-93.99 216.66,-95.38\"/>\n<polygon fill=\"black\" stroke=\"black\" points=\"216.27,-98.87 226.72,-97.12 217.46,-91.97 216.27,-98.87\"/>\n</g>\n</g>\n</svg>\n",
            "text/plain": [
              "<graphviz.graphs.Digraph at 0x78454bfc1270>"
            ]
          },
          "metadata": {},
          "execution_count": 17
        }
      ]
    },
    {
      "cell_type": "code",
      "source": [
        "L.grad = 1"
      ],
      "metadata": {
        "id": "qXubjVoeaTl6"
      },
      "execution_count": 18,
      "outputs": []
    },
    {
      "cell_type": "code",
      "source": [
        "def backprop(last_node):\n",
        "  grad_here = last_node.grad\n",
        "\n",
        "  if last_node._op == \"+\":\n",
        "    for child in last_node._prev:\n",
        "      child.grad = grad_here\n",
        "      backprop(child)\n",
        "\n",
        "  elif last_node._op == \"*\":\n",
        "    child1,child2 = list(last_node._prev)[0], list(last_node._prev)[1]\n",
        "\n",
        "    child1.grad = grad_here * child2.data\n",
        "    backprop(child1)\n",
        "    child2.grad = grad_here * child1.data\n",
        "    backprop(child2)\n",
        "\n",
        "  else:\n",
        "    return\n",
        "\n",
        "backprop(L)"
      ],
      "metadata": {
        "id": "OEylXOvqghNd"
      },
      "execution_count": 19,
      "outputs": []
    },
    {
      "cell_type": "code",
      "source": [
        "for i in range(10):\n",
        "\n",
        "  a.data += 0.01 * a.grad\n",
        "  b.data += 0.01 * b.grad\n",
        "  c.data += 0.01 * c.grad\n",
        "  f.data += 0.01 * f.grad\n",
        "\n",
        "  e = a*b\n",
        "  d = e + c\n",
        "  L = d*f\n",
        "\n",
        "  print(L.data)\n",
        "\n",
        "  L.grad = 1\n",
        "  backprop(L)"
      ],
      "metadata": {
        "colab": {
          "base_uri": "https://localhost:8080/"
        },
        "id": "ddWyjK0zlxz3",
        "outputId": "08684cdc-1386-42e8-8acc-9064cf3ff3f1"
      },
      "execution_count": 20,
      "outputs": [
        {
          "output_type": "stream",
          "name": "stdout",
          "text": [
            "-7.286496\n",
            "-6.597755834428276\n",
            "-5.9314458386892275\n",
            "-5.285081843134573\n",
            "-4.6560150657269235\n",
            "-4.041415395804313\n",
            "-3.438251441813934\n",
            "-2.8432666409313563\n",
            "-2.252950632362309\n",
            "-1.6635049738718164\n"
          ]
        }
      ]
    },
    {
      "cell_type": "code",
      "source": [
        "def lol():\n",
        "  h = 0.0001\n",
        "\n",
        "  a = Value(2.0, label = 'a')\n",
        "  b = Value(-3.0, label = 'b')\n",
        "  c = Value(10.0, label = 'c')\n",
        "  d = a*b + c\n",
        "  d.label = 'd'\n",
        "  f = Value(-2.0, label = 'f')\n",
        "  L = d*f\n",
        "  L.label = \"L\"\n",
        "  L1 = L.data\n",
        "\n",
        "  a = Value(2.0 + h, label = 'a')\n",
        "  b = Value(-3.0, label = 'b')\n",
        "  c = Value(10.0, label = 'c')\n",
        "  d = a*b + c\n",
        "  d.label = 'd'\n",
        "  f = Value(-2.0, label = 'f')\n",
        "  L = d*f\n",
        "  L.label = \"L\"\n",
        "  L2 = L.data\n",
        "\n",
        "  print((L2 - L1)/h)\n",
        "\n",
        "lol()"
      ],
      "metadata": {
        "colab": {
          "base_uri": "https://localhost:8080/"
        },
        "id": "QxuDyTI1X9bB",
        "outputId": "ac3ccf0c-b147-4af9-cd6a-43b631edae15"
      },
      "execution_count": 21,
      "outputs": [
        {
          "output_type": "stream",
          "name": "stdout",
          "text": [
            "6.000000000021544\n"
          ]
        }
      ]
    },
    {
      "cell_type": "code",
      "source": [],
      "metadata": {
        "id": "tpLMI24maQ-7"
      },
      "execution_count": 21,
      "outputs": []
    },
    {
      "cell_type": "code",
      "source": [],
      "metadata": {
        "id": "ffPOZNZk2AAL"
      },
      "execution_count": 21,
      "outputs": []
    },
    {
      "cell_type": "code",
      "source": [
        "class Value:\n",
        "    def __init__(self, data, _children=(), _op=\"\", label = ''): #_children is tuple but set inside\n",
        "      self.data= data\n",
        "      self._prev = set(_children)\n",
        "      self._op = _op\n",
        "      self.label = label\n",
        "      self.grad = 0.0\n",
        "\n",
        "\n",
        "    def __repr__(self):\n",
        "        return f\"Value(data={self.data})\"\n",
        "\n",
        "\n",
        "    def __add__(self, other): # using __add__ it will automatically be invoked when val1 + val2 is called\n",
        "      out = Value(self.data + other.data, (self, other), \"+\")\n",
        "      return out\n",
        "\n",
        "\n",
        "    def __mul__(self, other): # using __mul__ it will automatically be invoked when val1*val2 is called\n",
        "      out = Value(self.data*other.data, (self, other), \"*\")\n",
        "      return out\n",
        "\n",
        "    def tanh(self):\n",
        "      x = self.data\n",
        "      t = ((math.exp(2*x) - 1)/(math.exp(2*x) + 1))\n",
        "      out = Value(t, (self,), 'tanh')\n",
        "      return out"
      ],
      "metadata": {
        "id": "-FGaFv661_7h"
      },
      "execution_count": 23,
      "outputs": []
    },
    {
      "cell_type": "code",
      "source": [
        "# NEURON\n",
        "\n",
        "x1 = Value(2.0, label='x1')\n",
        "x2 = Value(0.0, label='x2')\n",
        "\n",
        "w1 = Value(-3.0, label = \"w1\")\n",
        "w2 = Value(1.0, label = \"w2\")\n",
        "\n",
        "b = Value(6.8813, label=\"b\")\n",
        "\n",
        "x1w1 = x1*w1\n",
        "x1w1.label = \"x1w1\"\n",
        "\n",
        "x2w2 = x2*w2\n",
        "x2w2.label = \"x2w2\"\n",
        "\n",
        "a = x1w1 + x2w2\n",
        "a.label = \"a\"\n",
        "\n",
        "z = a + b\n",
        "z.label = \"z\"\n",
        "\n",
        "o = z.tanh()\n",
        "o.label = 'o'\n",
        "\n",
        "draw_dot(o)"
      ],
      "metadata": {
        "colab": {
          "base_uri": "https://localhost:8080/",
          "height": 321
        },
        "id": "agNdjy4lp6IV",
        "outputId": "6a885b73-78da-45bc-e84b-3118b93a9321"
      },
      "execution_count": 26,
      "outputs": [
        {
          "output_type": "execute_result",
          "data": {
            "image/svg+xml": "<?xml version=\"1.0\" encoding=\"UTF-8\" standalone=\"no\"?>\n<!DOCTYPE svg PUBLIC \"-//W3C//DTD SVG 1.1//EN\"\n \"http://www.w3.org/Graphics/SVG/1.1/DTD/svg11.dtd\">\n<!-- Generated by graphviz version 2.43.0 (0)\n -->\n<!-- Title: %3 Pages: 1 -->\n<svg width=\"1486pt\" height=\"210pt\"\n viewBox=\"0.00 0.00 1486.00 210.00\" xmlns=\"http://www.w3.org/2000/svg\" xmlns:xlink=\"http://www.w3.org/1999/xlink\">\n<g id=\"graph0\" class=\"graph\" transform=\"scale(1 1) rotate(0) translate(4 206)\">\n<title>%3</title>\n<polygon fill=\"white\" stroke=\"transparent\" points=\"-4,4 -4,-206 1482,-206 1482,4 -4,4\"/>\n<!-- 132238688727632 -->\n<g id=\"node1\" class=\"node\">\n<title>132238688727632</title>\n<polygon fill=\"none\" stroke=\"black\" points=\"668.5,-137.5 668.5,-173.5 853.5,-173.5 853.5,-137.5 668.5,-137.5\"/>\n<text text-anchor=\"middle\" x=\"708.5\" y=\"-151.8\" font-family=\"Times,serif\" font-size=\"14.00\">data 6.8813</text>\n<polyline fill=\"none\" stroke=\"black\" points=\"748.5,-137.5 748.5,-173.5 \"/>\n<text text-anchor=\"middle\" x=\"760\" y=\"-151.8\" font-family=\"Times,serif\" font-size=\"14.00\">b</text>\n<polyline fill=\"none\" stroke=\"black\" points=\"771.5,-137.5 771.5,-173.5 \"/>\n<text text-anchor=\"middle\" x=\"812.5\" y=\"-151.8\" font-family=\"Times,serif\" font-size=\"14.00\">grad 0.0000</text>\n</g>\n<!-- 132238688728832+ -->\n<g id=\"node6\" class=\"node\">\n<title>132238688728832+</title>\n<ellipse fill=\"none\" stroke=\"black\" cx=\"919\" cy=\"-127.5\" rx=\"27\" ry=\"18\"/>\n<text text-anchor=\"middle\" x=\"919\" y=\"-123.8\" font-family=\"Times,serif\" font-size=\"14.00\">+</text>\n</g>\n<!-- 132238688727632&#45;&gt;132238688728832+ -->\n<g id=\"edge8\" class=\"edge\">\n<title>132238688727632&#45;&gt;132238688728832+</title>\n<path fill=\"none\" stroke=\"black\" d=\"M853.65,-139.05C863.94,-137.2 873.91,-135.41 882.81,-133.82\"/>\n<polygon fill=\"black\" stroke=\"black\" points=\"883.48,-137.25 892.71,-132.04 882.25,-130.36 883.48,-137.25\"/>\n</g>\n<!-- 132238688725184 -->\n<g id=\"node2\" class=\"node\">\n<title>132238688725184</title>\n<polygon fill=\"none\" stroke=\"black\" points=\"328.5,-110.5 328.5,-146.5 537.5,-146.5 537.5,-110.5 328.5,-110.5\"/>\n<text text-anchor=\"middle\" x=\"368.5\" y=\"-124.8\" font-family=\"Times,serif\" font-size=\"14.00\">data 0.0000</text>\n<polyline fill=\"none\" stroke=\"black\" points=\"408.5,-110.5 408.5,-146.5 \"/>\n<text text-anchor=\"middle\" x=\"432\" y=\"-124.8\" font-family=\"Times,serif\" font-size=\"14.00\">x2w2</text>\n<polyline fill=\"none\" stroke=\"black\" points=\"455.5,-110.5 455.5,-146.5 \"/>\n<text text-anchor=\"middle\" x=\"496.5\" y=\"-124.8\" font-family=\"Times,serif\" font-size=\"14.00\">grad 0.0000</text>\n</g>\n<!-- 132238688726864+ -->\n<g id=\"node9\" class=\"node\">\n<title>132238688726864+</title>\n<ellipse fill=\"none\" stroke=\"black\" cx=\"603\" cy=\"-100.5\" rx=\"27\" ry=\"18\"/>\n<text text-anchor=\"middle\" x=\"603\" y=\"-96.8\" font-family=\"Times,serif\" font-size=\"14.00\">+</text>\n</g>\n<!-- 132238688725184&#45;&gt;132238688726864+ -->\n<g id=\"edge12\" class=\"edge\">\n<title>132238688725184&#45;&gt;132238688726864+</title>\n<path fill=\"none\" stroke=\"black\" d=\"M537.53,-111.25C547.8,-109.53 557.66,-107.89 566.45,-106.43\"/>\n<polygon fill=\"black\" stroke=\"black\" points=\"567.3,-109.83 576.59,-104.74 566.15,-102.93 567.3,-109.83\"/>\n</g>\n<!-- 132238688725184* -->\n<g id=\"node3\" class=\"node\">\n<title>132238688725184*</title>\n<ellipse fill=\"none\" stroke=\"black\" cx=\"263\" cy=\"-128.5\" rx=\"27\" ry=\"18\"/>\n<text text-anchor=\"middle\" x=\"263\" y=\"-124.8\" font-family=\"Times,serif\" font-size=\"14.00\">*</text>\n</g>\n<!-- 132238688725184*&#45;&gt;132238688725184 -->\n<g id=\"edge1\" class=\"edge\">\n<title>132238688725184*&#45;&gt;132238688725184</title>\n<path fill=\"none\" stroke=\"black\" d=\"M290.25,-128.5C298.43,-128.5 308.03,-128.5 318.31,-128.5\"/>\n<polygon fill=\"black\" stroke=\"black\" points=\"318.35,-132 328.35,-128.5 318.35,-125 318.35,-132\"/>\n</g>\n<!-- 132238688724176 -->\n<g id=\"node4\" class=\"node\">\n<title>132238688724176</title>\n<polygon fill=\"none\" stroke=\"black\" points=\"2.5,-165.5 2.5,-201.5 197.5,-201.5 197.5,-165.5 2.5,-165.5\"/>\n<text text-anchor=\"middle\" x=\"42.5\" y=\"-179.8\" font-family=\"Times,serif\" font-size=\"14.00\">data 1.0000</text>\n<polyline fill=\"none\" stroke=\"black\" points=\"82.5,-165.5 82.5,-201.5 \"/>\n<text text-anchor=\"middle\" x=\"99\" y=\"-179.8\" font-family=\"Times,serif\" font-size=\"14.00\">w2</text>\n<polyline fill=\"none\" stroke=\"black\" points=\"115.5,-165.5 115.5,-201.5 \"/>\n<text text-anchor=\"middle\" x=\"156.5\" y=\"-179.8\" font-family=\"Times,serif\" font-size=\"14.00\">grad 0.0000</text>\n</g>\n<!-- 132238688724176&#45;&gt;132238688725184* -->\n<g id=\"edge13\" class=\"edge\">\n<title>132238688724176&#45;&gt;132238688725184*</title>\n<path fill=\"none\" stroke=\"black\" d=\"M172.53,-165.44C181.84,-162.67 191.2,-159.67 200,-156.5 210.53,-152.71 221.75,-147.9 231.72,-143.33\"/>\n<polygon fill=\"black\" stroke=\"black\" points=\"233.25,-146.48 240.82,-139.07 230.28,-140.14 233.25,-146.48\"/>\n</g>\n<!-- 132238688728832 -->\n<g id=\"node5\" class=\"node\">\n<title>132238688728832</title>\n<polygon fill=\"none\" stroke=\"black\" points=\"982,-109.5 982,-145.5 1167,-145.5 1167,-109.5 982,-109.5\"/>\n<text text-anchor=\"middle\" x=\"1022\" y=\"-123.8\" font-family=\"Times,serif\" font-size=\"14.00\">data 0.8813</text>\n<polyline fill=\"none\" stroke=\"black\" points=\"1062,-109.5 1062,-145.5 \"/>\n<text text-anchor=\"middle\" x=\"1073.5\" y=\"-123.8\" font-family=\"Times,serif\" font-size=\"14.00\">z</text>\n<polyline fill=\"none\" stroke=\"black\" points=\"1085,-109.5 1085,-145.5 \"/>\n<text text-anchor=\"middle\" x=\"1126\" y=\"-123.8\" font-family=\"Times,serif\" font-size=\"14.00\">grad 0.0000</text>\n</g>\n<!-- 132238688724944tanh -->\n<g id=\"node15\" class=\"node\">\n<title>132238688724944tanh</title>\n<ellipse fill=\"none\" stroke=\"black\" cx=\"1230\" cy=\"-127.5\" rx=\"27\" ry=\"18\"/>\n<text text-anchor=\"middle\" x=\"1230\" y=\"-123.8\" font-family=\"Times,serif\" font-size=\"14.00\">tanh</text>\n</g>\n<!-- 132238688728832&#45;&gt;132238688724944tanh -->\n<g id=\"edge7\" class=\"edge\">\n<title>132238688728832&#45;&gt;132238688724944tanh</title>\n<path fill=\"none\" stroke=\"black\" d=\"M1167.01,-127.5C1176.01,-127.5 1184.74,-127.5 1192.66,-127.5\"/>\n<polygon fill=\"black\" stroke=\"black\" points=\"1192.91,-131 1202.91,-127.5 1192.91,-124 1192.91,-131\"/>\n</g>\n<!-- 132238688728832+&#45;&gt;132238688728832 -->\n<g id=\"edge2\" class=\"edge\">\n<title>132238688728832+&#45;&gt;132238688728832</title>\n<path fill=\"none\" stroke=\"black\" d=\"M946.04,-127.5C953.58,-127.5 962.3,-127.5 971.57,-127.5\"/>\n<polygon fill=\"black\" stroke=\"black\" points=\"971.81,-131 981.81,-127.5 971.81,-124 971.81,-131\"/>\n</g>\n<!-- 132238688723264 -->\n<g id=\"node7\" class=\"node\">\n<title>132238688723264</title>\n<polygon fill=\"none\" stroke=\"black\" points=\"4,-55.5 4,-91.5 196,-91.5 196,-55.5 4,-55.5\"/>\n<text text-anchor=\"middle\" x=\"44\" y=\"-69.8\" font-family=\"Times,serif\" font-size=\"14.00\">data 2.0000</text>\n<polyline fill=\"none\" stroke=\"black\" points=\"84,-55.5 84,-91.5 \"/>\n<text text-anchor=\"middle\" x=\"99\" y=\"-69.8\" font-family=\"Times,serif\" font-size=\"14.00\">x1</text>\n<polyline fill=\"none\" stroke=\"black\" points=\"114,-55.5 114,-91.5 \"/>\n<text text-anchor=\"middle\" x=\"155\" y=\"-69.8\" font-family=\"Times,serif\" font-size=\"14.00\">grad 0.0000</text>\n</g>\n<!-- 132238688725856* -->\n<g id=\"node11\" class=\"node\">\n<title>132238688725856*</title>\n<ellipse fill=\"none\" stroke=\"black\" cx=\"263\" cy=\"-73.5\" rx=\"27\" ry=\"18\"/>\n<text text-anchor=\"middle\" x=\"263\" y=\"-69.8\" font-family=\"Times,serif\" font-size=\"14.00\">*</text>\n</g>\n<!-- 132238688723264&#45;&gt;132238688725856* -->\n<g id=\"edge14\" class=\"edge\">\n<title>132238688723264&#45;&gt;132238688725856*</title>\n<path fill=\"none\" stroke=\"black\" d=\"M196.05,-73.5C206.52,-73.5 216.65,-73.5 225.71,-73.5\"/>\n<polygon fill=\"black\" stroke=\"black\" points=\"225.79,-77 235.79,-73.5 225.79,-70 225.79,-77\"/>\n</g>\n<!-- 132238688726864 -->\n<g id=\"node8\" class=\"node\">\n<title>132238688726864</title>\n<polygon fill=\"none\" stroke=\"black\" points=\"666,-82.5 666,-118.5 856,-118.5 856,-82.5 666,-82.5\"/>\n<text text-anchor=\"middle\" x=\"708.5\" y=\"-96.8\" font-family=\"Times,serif\" font-size=\"14.00\">data &#45;6.0000</text>\n<polyline fill=\"none\" stroke=\"black\" points=\"751,-82.5 751,-118.5 \"/>\n<text text-anchor=\"middle\" x=\"762.5\" y=\"-96.8\" font-family=\"Times,serif\" font-size=\"14.00\">a</text>\n<polyline fill=\"none\" stroke=\"black\" points=\"774,-82.5 774,-118.5 \"/>\n<text text-anchor=\"middle\" x=\"815\" y=\"-96.8\" font-family=\"Times,serif\" font-size=\"14.00\">grad 0.0000</text>\n</g>\n<!-- 132238688726864&#45;&gt;132238688728832+ -->\n<g id=\"edge10\" class=\"edge\">\n<title>132238688726864&#45;&gt;132238688728832+</title>\n<path fill=\"none\" stroke=\"black\" d=\"M856.34,-116.83C865.62,-118.44 874.58,-119.99 882.66,-121.38\"/>\n<polygon fill=\"black\" stroke=\"black\" points=\"882.27,-124.87 892.72,-123.12 883.46,-117.97 882.27,-124.87\"/>\n</g>\n<!-- 132238688726864+&#45;&gt;132238688726864 -->\n<g id=\"edge3\" class=\"edge\">\n<title>132238688726864+&#45;&gt;132238688726864</title>\n<path fill=\"none\" stroke=\"black\" d=\"M630.11,-100.5C637.63,-100.5 646.32,-100.5 655.58,-100.5\"/>\n<polygon fill=\"black\" stroke=\"black\" points=\"655.81,-104 665.81,-100.5 655.81,-97 655.81,-104\"/>\n</g>\n<!-- 132238688725856 -->\n<g id=\"node10\" class=\"node\">\n<title>132238688725856</title>\n<polygon fill=\"none\" stroke=\"black\" points=\"326,-55.5 326,-91.5 540,-91.5 540,-55.5 326,-55.5\"/>\n<text text-anchor=\"middle\" x=\"368.5\" y=\"-69.8\" font-family=\"Times,serif\" font-size=\"14.00\">data &#45;6.0000</text>\n<polyline fill=\"none\" stroke=\"black\" points=\"411,-55.5 411,-91.5 \"/>\n<text text-anchor=\"middle\" x=\"434.5\" y=\"-69.8\" font-family=\"Times,serif\" font-size=\"14.00\">x1w1</text>\n<polyline fill=\"none\" stroke=\"black\" points=\"458,-55.5 458,-91.5 \"/>\n<text text-anchor=\"middle\" x=\"499\" y=\"-69.8\" font-family=\"Times,serif\" font-size=\"14.00\">grad 0.0000</text>\n</g>\n<!-- 132238688725856&#45;&gt;132238688726864+ -->\n<g id=\"edge11\" class=\"edge\">\n<title>132238688725856&#45;&gt;132238688726864+</title>\n<path fill=\"none\" stroke=\"black\" d=\"M540.4,-90.6C549.72,-92.1 558.65,-93.53 566.68,-94.82\"/>\n<polygon fill=\"black\" stroke=\"black\" points=\"566.24,-98.3 576.66,-96.43 567.35,-91.39 566.24,-98.3\"/>\n</g>\n<!-- 132238688725856*&#45;&gt;132238688725856 -->\n<g id=\"edge4\" class=\"edge\">\n<title>132238688725856*&#45;&gt;132238688725856</title>\n<path fill=\"none\" stroke=\"black\" d=\"M290.25,-73.5C297.7,-73.5 306.34,-73.5 315.59,-73.5\"/>\n<polygon fill=\"black\" stroke=\"black\" points=\"315.84,-77 325.84,-73.5 315.84,-70 315.84,-77\"/>\n</g>\n<!-- 132238688723840 -->\n<g id=\"node12\" class=\"node\">\n<title>132238688723840</title>\n<polygon fill=\"none\" stroke=\"black\" points=\"4,-110.5 4,-146.5 196,-146.5 196,-110.5 4,-110.5\"/>\n<text text-anchor=\"middle\" x=\"44\" y=\"-124.8\" font-family=\"Times,serif\" font-size=\"14.00\">data 0.0000</text>\n<polyline fill=\"none\" stroke=\"black\" points=\"84,-110.5 84,-146.5 \"/>\n<text text-anchor=\"middle\" x=\"99\" y=\"-124.8\" font-family=\"Times,serif\" font-size=\"14.00\">x2</text>\n<polyline fill=\"none\" stroke=\"black\" points=\"114,-110.5 114,-146.5 \"/>\n<text text-anchor=\"middle\" x=\"155\" y=\"-124.8\" font-family=\"Times,serif\" font-size=\"14.00\">grad 0.0000</text>\n</g>\n<!-- 132238688723840&#45;&gt;132238688725184* -->\n<g id=\"edge6\" class=\"edge\">\n<title>132238688723840&#45;&gt;132238688725184*</title>\n<path fill=\"none\" stroke=\"black\" d=\"M196.05,-128.5C206.52,-128.5 216.65,-128.5 225.71,-128.5\"/>\n<polygon fill=\"black\" stroke=\"black\" points=\"225.79,-132 235.79,-128.5 225.79,-125 225.79,-132\"/>\n</g>\n<!-- 132238688729504 -->\n<g id=\"node13\" class=\"node\">\n<title>132238688729504</title>\n<polygon fill=\"none\" stroke=\"black\" points=\"0,-0.5 0,-36.5 200,-36.5 200,-0.5 0,-0.5\"/>\n<text text-anchor=\"middle\" x=\"42.5\" y=\"-14.8\" font-family=\"Times,serif\" font-size=\"14.00\">data &#45;3.0000</text>\n<polyline fill=\"none\" stroke=\"black\" points=\"85,-0.5 85,-36.5 \"/>\n<text text-anchor=\"middle\" x=\"101.5\" y=\"-14.8\" font-family=\"Times,serif\" font-size=\"14.00\">w1</text>\n<polyline fill=\"none\" stroke=\"black\" points=\"118,-0.5 118,-36.5 \"/>\n<text text-anchor=\"middle\" x=\"159\" y=\"-14.8\" font-family=\"Times,serif\" font-size=\"14.00\">grad 0.0000</text>\n</g>\n<!-- 132238688729504&#45;&gt;132238688725856* -->\n<g id=\"edge9\" class=\"edge\">\n<title>132238688729504&#45;&gt;132238688725856*</title>\n<path fill=\"none\" stroke=\"black\" d=\"M169.28,-36.5C179.65,-39.61 190.16,-42.98 200,-46.5 210.28,-50.17 221.28,-54.74 231.11,-59.07\"/>\n<polygon fill=\"black\" stroke=\"black\" points=\"229.93,-62.37 240.48,-63.27 232.79,-55.99 229.93,-62.37\"/>\n</g>\n<!-- 132238688724944 -->\n<g id=\"node14\" class=\"node\">\n<title>132238688724944</title>\n<polygon fill=\"none\" stroke=\"black\" points=\"1293,-109.5 1293,-145.5 1478,-145.5 1478,-109.5 1293,-109.5\"/>\n<text text-anchor=\"middle\" x=\"1333\" y=\"-123.8\" font-family=\"Times,serif\" font-size=\"14.00\">data 0.7071</text>\n<polyline fill=\"none\" stroke=\"black\" points=\"1373,-109.5 1373,-145.5 \"/>\n<text text-anchor=\"middle\" x=\"1384.5\" y=\"-123.8\" font-family=\"Times,serif\" font-size=\"14.00\">o</text>\n<polyline fill=\"none\" stroke=\"black\" points=\"1396,-109.5 1396,-145.5 \"/>\n<text text-anchor=\"middle\" x=\"1437\" y=\"-123.8\" font-family=\"Times,serif\" font-size=\"14.00\">grad 0.0000</text>\n</g>\n<!-- 132238688724944tanh&#45;&gt;132238688724944 -->\n<g id=\"edge5\" class=\"edge\">\n<title>132238688724944tanh&#45;&gt;132238688724944</title>\n<path fill=\"none\" stroke=\"black\" d=\"M1257.04,-127.5C1264.58,-127.5 1273.3,-127.5 1282.57,-127.5\"/>\n<polygon fill=\"black\" stroke=\"black\" points=\"1282.81,-131 1292.81,-127.5 1282.81,-124 1282.81,-131\"/>\n</g>\n</g>\n</svg>\n",
            "text/plain": [
              "<graphviz.graphs.Digraph at 0x784538111840>"
            ]
          },
          "metadata": {},
          "execution_count": 26
        }
      ]
    },
    {
      "cell_type": "code",
      "source": [
        "o.grad = 1\n",
        "\n",
        "def backprop(last_node):\n",
        "  grad_here = last_node.grad\n",
        "\n",
        "  if last_node._op == \"+\":\n",
        "    for child in last_node._prev:\n",
        "      child.grad = grad_here\n",
        "      backprop(child)\n",
        "\n",
        "  elif last_node._op == \"*\":\n",
        "    child1,child2 = list(last_node._prev)[0], list(last_node._prev)[1]\n",
        "\n",
        "    child1.grad = grad_here * child2.data\n",
        "    backprop(child1)\n",
        "    child2.grad = grad_here * child1.data\n",
        "    backprop(child2)\n",
        "\n",
        "  elif last_node._op == \"tanh\":\n",
        "    child1 = list(last_node._prev)[0]\n",
        "    child1.grad = grad_here * (1 - last_node.data*last_node.data)\n",
        "    backprop(child1)\n",
        "\n",
        "  else:\n",
        "    return\n",
        "\n",
        "backprop(o)"
      ],
      "metadata": {
        "id": "exBQ8cDe1_5I"
      },
      "execution_count": 27,
      "outputs": []
    },
    {
      "cell_type": "code",
      "source": [
        "draw_dot(o)"
      ],
      "metadata": {
        "colab": {
          "base_uri": "https://localhost:8080/",
          "height": 321
        },
        "id": "IS9pmddL1_22",
        "outputId": "a696fb03-f011-4110-85ce-e9dc3167e1b7"
      },
      "execution_count": 28,
      "outputs": [
        {
          "output_type": "execute_result",
          "data": {
            "image/svg+xml": "<?xml version=\"1.0\" encoding=\"UTF-8\" standalone=\"no\"?>\n<!DOCTYPE svg PUBLIC \"-//W3C//DTD SVG 1.1//EN\"\n \"http://www.w3.org/Graphics/SVG/1.1/DTD/svg11.dtd\">\n<!-- Generated by graphviz version 2.43.0 (0)\n -->\n<!-- Title: %3 Pages: 1 -->\n<svg width=\"1486pt\" height=\"210pt\"\n viewBox=\"0.00 0.00 1486.00 210.00\" xmlns=\"http://www.w3.org/2000/svg\" xmlns:xlink=\"http://www.w3.org/1999/xlink\">\n<g id=\"graph0\" class=\"graph\" transform=\"scale(1 1) rotate(0) translate(4 206)\">\n<title>%3</title>\n<polygon fill=\"white\" stroke=\"transparent\" points=\"-4,4 -4,-206 1482,-206 1482,4 -4,4\"/>\n<!-- 132238688727632 -->\n<g id=\"node1\" class=\"node\">\n<title>132238688727632</title>\n<polygon fill=\"none\" stroke=\"black\" points=\"668.5,-137.5 668.5,-173.5 853.5,-173.5 853.5,-137.5 668.5,-137.5\"/>\n<text text-anchor=\"middle\" x=\"708.5\" y=\"-151.8\" font-family=\"Times,serif\" font-size=\"14.00\">data 6.8813</text>\n<polyline fill=\"none\" stroke=\"black\" points=\"748.5,-137.5 748.5,-173.5 \"/>\n<text text-anchor=\"middle\" x=\"760\" y=\"-151.8\" font-family=\"Times,serif\" font-size=\"14.00\">b</text>\n<polyline fill=\"none\" stroke=\"black\" points=\"771.5,-137.5 771.5,-173.5 \"/>\n<text text-anchor=\"middle\" x=\"812.5\" y=\"-151.8\" font-family=\"Times,serif\" font-size=\"14.00\">grad 0.5001</text>\n</g>\n<!-- 132238688728832+ -->\n<g id=\"node6\" class=\"node\">\n<title>132238688728832+</title>\n<ellipse fill=\"none\" stroke=\"black\" cx=\"919\" cy=\"-127.5\" rx=\"27\" ry=\"18\"/>\n<text text-anchor=\"middle\" x=\"919\" y=\"-123.8\" font-family=\"Times,serif\" font-size=\"14.00\">+</text>\n</g>\n<!-- 132238688727632&#45;&gt;132238688728832+ -->\n<g id=\"edge8\" class=\"edge\">\n<title>132238688727632&#45;&gt;132238688728832+</title>\n<path fill=\"none\" stroke=\"black\" d=\"M853.65,-139.05C863.94,-137.2 873.91,-135.41 882.81,-133.82\"/>\n<polygon fill=\"black\" stroke=\"black\" points=\"883.48,-137.25 892.71,-132.04 882.25,-130.36 883.48,-137.25\"/>\n</g>\n<!-- 132238688725184 -->\n<g id=\"node2\" class=\"node\">\n<title>132238688725184</title>\n<polygon fill=\"none\" stroke=\"black\" points=\"328.5,-110.5 328.5,-146.5 537.5,-146.5 537.5,-110.5 328.5,-110.5\"/>\n<text text-anchor=\"middle\" x=\"368.5\" y=\"-124.8\" font-family=\"Times,serif\" font-size=\"14.00\">data 0.0000</text>\n<polyline fill=\"none\" stroke=\"black\" points=\"408.5,-110.5 408.5,-146.5 \"/>\n<text text-anchor=\"middle\" x=\"432\" y=\"-124.8\" font-family=\"Times,serif\" font-size=\"14.00\">x2w2</text>\n<polyline fill=\"none\" stroke=\"black\" points=\"455.5,-110.5 455.5,-146.5 \"/>\n<text text-anchor=\"middle\" x=\"496.5\" y=\"-124.8\" font-family=\"Times,serif\" font-size=\"14.00\">grad 0.5001</text>\n</g>\n<!-- 132238688726864+ -->\n<g id=\"node9\" class=\"node\">\n<title>132238688726864+</title>\n<ellipse fill=\"none\" stroke=\"black\" cx=\"603\" cy=\"-100.5\" rx=\"27\" ry=\"18\"/>\n<text text-anchor=\"middle\" x=\"603\" y=\"-96.8\" font-family=\"Times,serif\" font-size=\"14.00\">+</text>\n</g>\n<!-- 132238688725184&#45;&gt;132238688726864+ -->\n<g id=\"edge12\" class=\"edge\">\n<title>132238688725184&#45;&gt;132238688726864+</title>\n<path fill=\"none\" stroke=\"black\" d=\"M537.53,-111.25C547.8,-109.53 557.66,-107.89 566.45,-106.43\"/>\n<polygon fill=\"black\" stroke=\"black\" points=\"567.3,-109.83 576.59,-104.74 566.15,-102.93 567.3,-109.83\"/>\n</g>\n<!-- 132238688725184* -->\n<g id=\"node3\" class=\"node\">\n<title>132238688725184*</title>\n<ellipse fill=\"none\" stroke=\"black\" cx=\"263\" cy=\"-128.5\" rx=\"27\" ry=\"18\"/>\n<text text-anchor=\"middle\" x=\"263\" y=\"-124.8\" font-family=\"Times,serif\" font-size=\"14.00\">*</text>\n</g>\n<!-- 132238688725184*&#45;&gt;132238688725184 -->\n<g id=\"edge1\" class=\"edge\">\n<title>132238688725184*&#45;&gt;132238688725184</title>\n<path fill=\"none\" stroke=\"black\" d=\"M290.25,-128.5C298.43,-128.5 308.03,-128.5 318.31,-128.5\"/>\n<polygon fill=\"black\" stroke=\"black\" points=\"318.35,-132 328.35,-128.5 318.35,-125 318.35,-132\"/>\n</g>\n<!-- 132238688724176 -->\n<g id=\"node4\" class=\"node\">\n<title>132238688724176</title>\n<polygon fill=\"none\" stroke=\"black\" points=\"2.5,-165.5 2.5,-201.5 197.5,-201.5 197.5,-165.5 2.5,-165.5\"/>\n<text text-anchor=\"middle\" x=\"42.5\" y=\"-179.8\" font-family=\"Times,serif\" font-size=\"14.00\">data 1.0000</text>\n<polyline fill=\"none\" stroke=\"black\" points=\"82.5,-165.5 82.5,-201.5 \"/>\n<text text-anchor=\"middle\" x=\"99\" y=\"-179.8\" font-family=\"Times,serif\" font-size=\"14.00\">w2</text>\n<polyline fill=\"none\" stroke=\"black\" points=\"115.5,-165.5 115.5,-201.5 \"/>\n<text text-anchor=\"middle\" x=\"156.5\" y=\"-179.8\" font-family=\"Times,serif\" font-size=\"14.00\">grad 0.0000</text>\n</g>\n<!-- 132238688724176&#45;&gt;132238688725184* -->\n<g id=\"edge13\" class=\"edge\">\n<title>132238688724176&#45;&gt;132238688725184*</title>\n<path fill=\"none\" stroke=\"black\" d=\"M172.53,-165.44C181.84,-162.67 191.2,-159.67 200,-156.5 210.53,-152.71 221.75,-147.9 231.72,-143.33\"/>\n<polygon fill=\"black\" stroke=\"black\" points=\"233.25,-146.48 240.82,-139.07 230.28,-140.14 233.25,-146.48\"/>\n</g>\n<!-- 132238688728832 -->\n<g id=\"node5\" class=\"node\">\n<title>132238688728832</title>\n<polygon fill=\"none\" stroke=\"black\" points=\"982,-109.5 982,-145.5 1167,-145.5 1167,-109.5 982,-109.5\"/>\n<text text-anchor=\"middle\" x=\"1022\" y=\"-123.8\" font-family=\"Times,serif\" font-size=\"14.00\">data 0.8813</text>\n<polyline fill=\"none\" stroke=\"black\" points=\"1062,-109.5 1062,-145.5 \"/>\n<text text-anchor=\"middle\" x=\"1073.5\" y=\"-123.8\" font-family=\"Times,serif\" font-size=\"14.00\">z</text>\n<polyline fill=\"none\" stroke=\"black\" points=\"1085,-109.5 1085,-145.5 \"/>\n<text text-anchor=\"middle\" x=\"1126\" y=\"-123.8\" font-family=\"Times,serif\" font-size=\"14.00\">grad 0.5001</text>\n</g>\n<!-- 132238688724944tanh -->\n<g id=\"node15\" class=\"node\">\n<title>132238688724944tanh</title>\n<ellipse fill=\"none\" stroke=\"black\" cx=\"1230\" cy=\"-127.5\" rx=\"27\" ry=\"18\"/>\n<text text-anchor=\"middle\" x=\"1230\" y=\"-123.8\" font-family=\"Times,serif\" font-size=\"14.00\">tanh</text>\n</g>\n<!-- 132238688728832&#45;&gt;132238688724944tanh -->\n<g id=\"edge7\" class=\"edge\">\n<title>132238688728832&#45;&gt;132238688724944tanh</title>\n<path fill=\"none\" stroke=\"black\" d=\"M1167.01,-127.5C1176.01,-127.5 1184.74,-127.5 1192.66,-127.5\"/>\n<polygon fill=\"black\" stroke=\"black\" points=\"1192.91,-131 1202.91,-127.5 1192.91,-124 1192.91,-131\"/>\n</g>\n<!-- 132238688728832+&#45;&gt;132238688728832 -->\n<g id=\"edge2\" class=\"edge\">\n<title>132238688728832+&#45;&gt;132238688728832</title>\n<path fill=\"none\" stroke=\"black\" d=\"M946.04,-127.5C953.58,-127.5 962.3,-127.5 971.57,-127.5\"/>\n<polygon fill=\"black\" stroke=\"black\" points=\"971.81,-131 981.81,-127.5 971.81,-124 971.81,-131\"/>\n</g>\n<!-- 132238688723264 -->\n<g id=\"node7\" class=\"node\">\n<title>132238688723264</title>\n<polygon fill=\"none\" stroke=\"black\" points=\"2,-55.5 2,-91.5 198,-91.5 198,-55.5 2,-55.5\"/>\n<text text-anchor=\"middle\" x=\"42\" y=\"-69.8\" font-family=\"Times,serif\" font-size=\"14.00\">data 2.0000</text>\n<polyline fill=\"none\" stroke=\"black\" points=\"82,-55.5 82,-91.5 \"/>\n<text text-anchor=\"middle\" x=\"97\" y=\"-69.8\" font-family=\"Times,serif\" font-size=\"14.00\">x1</text>\n<polyline fill=\"none\" stroke=\"black\" points=\"112,-55.5 112,-91.5 \"/>\n<text text-anchor=\"middle\" x=\"155\" y=\"-69.8\" font-family=\"Times,serif\" font-size=\"14.00\">grad &#45;1.5002</text>\n</g>\n<!-- 132238688725856* -->\n<g id=\"node11\" class=\"node\">\n<title>132238688725856*</title>\n<ellipse fill=\"none\" stroke=\"black\" cx=\"263\" cy=\"-73.5\" rx=\"27\" ry=\"18\"/>\n<text text-anchor=\"middle\" x=\"263\" y=\"-69.8\" font-family=\"Times,serif\" font-size=\"14.00\">*</text>\n</g>\n<!-- 132238688723264&#45;&gt;132238688725856* -->\n<g id=\"edge14\" class=\"edge\">\n<title>132238688723264&#45;&gt;132238688725856*</title>\n<path fill=\"none\" stroke=\"black\" d=\"M198.37,-73.5C208.05,-73.5 217.4,-73.5 225.8,-73.5\"/>\n<polygon fill=\"black\" stroke=\"black\" points=\"225.91,-77 235.91,-73.5 225.91,-70 225.91,-77\"/>\n</g>\n<!-- 132238688726864 -->\n<g id=\"node8\" class=\"node\">\n<title>132238688726864</title>\n<polygon fill=\"none\" stroke=\"black\" points=\"666,-82.5 666,-118.5 856,-118.5 856,-82.5 666,-82.5\"/>\n<text text-anchor=\"middle\" x=\"708.5\" y=\"-96.8\" font-family=\"Times,serif\" font-size=\"14.00\">data &#45;6.0000</text>\n<polyline fill=\"none\" stroke=\"black\" points=\"751,-82.5 751,-118.5 \"/>\n<text text-anchor=\"middle\" x=\"762.5\" y=\"-96.8\" font-family=\"Times,serif\" font-size=\"14.00\">a</text>\n<polyline fill=\"none\" stroke=\"black\" points=\"774,-82.5 774,-118.5 \"/>\n<text text-anchor=\"middle\" x=\"815\" y=\"-96.8\" font-family=\"Times,serif\" font-size=\"14.00\">grad 0.5001</text>\n</g>\n<!-- 132238688726864&#45;&gt;132238688728832+ -->\n<g id=\"edge10\" class=\"edge\">\n<title>132238688726864&#45;&gt;132238688728832+</title>\n<path fill=\"none\" stroke=\"black\" d=\"M856.34,-116.83C865.62,-118.44 874.58,-119.99 882.66,-121.38\"/>\n<polygon fill=\"black\" stroke=\"black\" points=\"882.27,-124.87 892.72,-123.12 883.46,-117.97 882.27,-124.87\"/>\n</g>\n<!-- 132238688726864+&#45;&gt;132238688726864 -->\n<g id=\"edge3\" class=\"edge\">\n<title>132238688726864+&#45;&gt;132238688726864</title>\n<path fill=\"none\" stroke=\"black\" d=\"M630.11,-100.5C637.63,-100.5 646.32,-100.5 655.58,-100.5\"/>\n<polygon fill=\"black\" stroke=\"black\" points=\"655.81,-104 665.81,-100.5 655.81,-97 655.81,-104\"/>\n</g>\n<!-- 132238688725856 -->\n<g id=\"node10\" class=\"node\">\n<title>132238688725856</title>\n<polygon fill=\"none\" stroke=\"black\" points=\"326,-55.5 326,-91.5 540,-91.5 540,-55.5 326,-55.5\"/>\n<text text-anchor=\"middle\" x=\"368.5\" y=\"-69.8\" font-family=\"Times,serif\" font-size=\"14.00\">data &#45;6.0000</text>\n<polyline fill=\"none\" stroke=\"black\" points=\"411,-55.5 411,-91.5 \"/>\n<text text-anchor=\"middle\" x=\"434.5\" y=\"-69.8\" font-family=\"Times,serif\" font-size=\"14.00\">x1w1</text>\n<polyline fill=\"none\" stroke=\"black\" points=\"458,-55.5 458,-91.5 \"/>\n<text text-anchor=\"middle\" x=\"499\" y=\"-69.8\" font-family=\"Times,serif\" font-size=\"14.00\">grad 0.5001</text>\n</g>\n<!-- 132238688725856&#45;&gt;132238688726864+ -->\n<g id=\"edge11\" class=\"edge\">\n<title>132238688725856&#45;&gt;132238688726864+</title>\n<path fill=\"none\" stroke=\"black\" d=\"M540.4,-90.6C549.72,-92.1 558.65,-93.53 566.68,-94.82\"/>\n<polygon fill=\"black\" stroke=\"black\" points=\"566.24,-98.3 576.66,-96.43 567.35,-91.39 566.24,-98.3\"/>\n</g>\n<!-- 132238688725856*&#45;&gt;132238688725856 -->\n<g id=\"edge4\" class=\"edge\">\n<title>132238688725856*&#45;&gt;132238688725856</title>\n<path fill=\"none\" stroke=\"black\" d=\"M290.25,-73.5C297.7,-73.5 306.34,-73.5 315.59,-73.5\"/>\n<polygon fill=\"black\" stroke=\"black\" points=\"315.84,-77 325.84,-73.5 315.84,-70 315.84,-77\"/>\n</g>\n<!-- 132238688723840 -->\n<g id=\"node12\" class=\"node\">\n<title>132238688723840</title>\n<polygon fill=\"none\" stroke=\"black\" points=\"4,-110.5 4,-146.5 196,-146.5 196,-110.5 4,-110.5\"/>\n<text text-anchor=\"middle\" x=\"44\" y=\"-124.8\" font-family=\"Times,serif\" font-size=\"14.00\">data 0.0000</text>\n<polyline fill=\"none\" stroke=\"black\" points=\"84,-110.5 84,-146.5 \"/>\n<text text-anchor=\"middle\" x=\"99\" y=\"-124.8\" font-family=\"Times,serif\" font-size=\"14.00\">x2</text>\n<polyline fill=\"none\" stroke=\"black\" points=\"114,-110.5 114,-146.5 \"/>\n<text text-anchor=\"middle\" x=\"155\" y=\"-124.8\" font-family=\"Times,serif\" font-size=\"14.00\">grad 0.5001</text>\n</g>\n<!-- 132238688723840&#45;&gt;132238688725184* -->\n<g id=\"edge6\" class=\"edge\">\n<title>132238688723840&#45;&gt;132238688725184*</title>\n<path fill=\"none\" stroke=\"black\" d=\"M196.05,-128.5C206.52,-128.5 216.65,-128.5 225.71,-128.5\"/>\n<polygon fill=\"black\" stroke=\"black\" points=\"225.79,-132 235.79,-128.5 225.79,-125 225.79,-132\"/>\n</g>\n<!-- 132238688729504 -->\n<g id=\"node13\" class=\"node\">\n<title>132238688729504</title>\n<polygon fill=\"none\" stroke=\"black\" points=\"0,-0.5 0,-36.5 200,-36.5 200,-0.5 0,-0.5\"/>\n<text text-anchor=\"middle\" x=\"42.5\" y=\"-14.8\" font-family=\"Times,serif\" font-size=\"14.00\">data &#45;3.0000</text>\n<polyline fill=\"none\" stroke=\"black\" points=\"85,-0.5 85,-36.5 \"/>\n<text text-anchor=\"middle\" x=\"101.5\" y=\"-14.8\" font-family=\"Times,serif\" font-size=\"14.00\">w1</text>\n<polyline fill=\"none\" stroke=\"black\" points=\"118,-0.5 118,-36.5 \"/>\n<text text-anchor=\"middle\" x=\"159\" y=\"-14.8\" font-family=\"Times,serif\" font-size=\"14.00\">grad 1.0001</text>\n</g>\n<!-- 132238688729504&#45;&gt;132238688725856* -->\n<g id=\"edge9\" class=\"edge\">\n<title>132238688729504&#45;&gt;132238688725856*</title>\n<path fill=\"none\" stroke=\"black\" d=\"M169.28,-36.5C179.65,-39.61 190.16,-42.98 200,-46.5 210.28,-50.17 221.28,-54.74 231.11,-59.07\"/>\n<polygon fill=\"black\" stroke=\"black\" points=\"229.93,-62.37 240.48,-63.27 232.79,-55.99 229.93,-62.37\"/>\n</g>\n<!-- 132238688724944 -->\n<g id=\"node14\" class=\"node\">\n<title>132238688724944</title>\n<polygon fill=\"none\" stroke=\"black\" points=\"1293,-109.5 1293,-145.5 1478,-145.5 1478,-109.5 1293,-109.5\"/>\n<text text-anchor=\"middle\" x=\"1333\" y=\"-123.8\" font-family=\"Times,serif\" font-size=\"14.00\">data 0.7071</text>\n<polyline fill=\"none\" stroke=\"black\" points=\"1373,-109.5 1373,-145.5 \"/>\n<text text-anchor=\"middle\" x=\"1384.5\" y=\"-123.8\" font-family=\"Times,serif\" font-size=\"14.00\">o</text>\n<polyline fill=\"none\" stroke=\"black\" points=\"1396,-109.5 1396,-145.5 \"/>\n<text text-anchor=\"middle\" x=\"1437\" y=\"-123.8\" font-family=\"Times,serif\" font-size=\"14.00\">grad 1.0000</text>\n</g>\n<!-- 132238688724944tanh&#45;&gt;132238688724944 -->\n<g id=\"edge5\" class=\"edge\">\n<title>132238688724944tanh&#45;&gt;132238688724944</title>\n<path fill=\"none\" stroke=\"black\" d=\"M1257.04,-127.5C1264.58,-127.5 1273.3,-127.5 1282.57,-127.5\"/>\n<polygon fill=\"black\" stroke=\"black\" points=\"1282.81,-131 1292.81,-127.5 1282.81,-124 1282.81,-131\"/>\n</g>\n</g>\n</svg>\n",
            "text/plain": [
              "<graphviz.graphs.Digraph at 0x784538088040>"
            ]
          },
          "metadata": {},
          "execution_count": 28
        }
      ]
    },
    {
      "cell_type": "code",
      "source": [
        "# without an explicit backward function\n",
        "\n",
        "\n",
        "\n",
        "class Value:\n",
        "    def __init__(self, data, _children=(), _op=\"\", label = ''): #_children is tuple but set inside\n",
        "      self.data= data\n",
        "      self._prev = set(_children)\n",
        "      self._backward = lambda: None #empty function bcz for leaf node it needs to do nothing and return. therefore cant be None\n",
        "      self._op = _op\n",
        "      self.label = label\n",
        "      self.grad = 0.0\n",
        "\n",
        "\n",
        "    def __repr__(self):\n",
        "        return f\"Value(data={self.data})\"\n",
        "\n",
        "\n",
        "    def __add__(self, other): # using __add__ it will automatically be invoked when val1 + val2 is called\n",
        "      out = Value(self.data + other.data, (self, other), \"+\")\n",
        "\n",
        "      def _backward():\n",
        "        self.grad = 1.0 * out.grad\n",
        "        other.grad = 1.0 * out.grad\n",
        "      out._backward = _backward\n",
        "\n",
        "      return out\n",
        "\n",
        "\n",
        "    def __mul__(self, other): # using __mul__ it will automatically be invoked when val1*val2 is called\n",
        "      out = Value(self.data*other.data, (self, other), \"*\")\n",
        "\n",
        "      def _backward():\n",
        "        self.grad = other.data * out.grad\n",
        "        other.grad = self.data * out.grad\n",
        "      out._backward = _backward\n",
        "\n",
        "      return out\n",
        "\n",
        "    def tanh(self):\n",
        "      x = self.data\n",
        "      t = ((math.exp(2*x) - 1)/(math.exp(2*x) + 1))\n",
        "      out = Value(t, (self,), 'tanh')\n",
        "\n",
        "      def _backward():\n",
        "        self.grad = (1 - t**2) * out.grad\n",
        "      out._backward = _backward\n",
        "\n",
        "      return out\n"
      ],
      "metadata": {
        "id": "Mpn8yQaO1_0g"
      },
      "execution_count": 55,
      "outputs": []
    },
    {
      "cell_type": "code",
      "source": [
        "# NEURON\n",
        "\n",
        "x1 = Value(2.0, label='x1')\n",
        "x2 = Value(0.0, label='x2')\n",
        "\n",
        "w1 = Value(-3.0, label = \"w1\")\n",
        "w2 = Value(1.0, label = \"w2\")\n",
        "\n",
        "b = Value(6.8813, label=\"b\")\n",
        "\n",
        "x1w1 = x1*w1\n",
        "x1w1.label = \"x1w1\"\n",
        "\n",
        "x2w2 = x2*w2\n",
        "x2w2.label = \"x2w2\"\n",
        "\n",
        "a = x1w1 + x2w2\n",
        "a.label = \"a\"\n",
        "\n",
        "z = a + b\n",
        "z.label = \"z\"\n",
        "\n",
        "o = z.tanh()\n",
        "o.label = 'o'\n",
        "\n",
        "draw_dot(o)"
      ],
      "metadata": {
        "colab": {
          "base_uri": "https://localhost:8080/",
          "height": 321
        },
        "id": "P3HbF4c8pyRe",
        "outputId": "4726d5e4-4ca4-4a1d-967f-392daae8cba8"
      },
      "execution_count": 56,
      "outputs": [
        {
          "output_type": "execute_result",
          "data": {
            "image/svg+xml": "<?xml version=\"1.0\" encoding=\"UTF-8\" standalone=\"no\"?>\n<!DOCTYPE svg PUBLIC \"-//W3C//DTD SVG 1.1//EN\"\n \"http://www.w3.org/Graphics/SVG/1.1/DTD/svg11.dtd\">\n<!-- Generated by graphviz version 2.43.0 (0)\n -->\n<!-- Title: %3 Pages: 1 -->\n<svg width=\"1486pt\" height=\"210pt\"\n viewBox=\"0.00 0.00 1486.00 210.00\" xmlns=\"http://www.w3.org/2000/svg\" xmlns:xlink=\"http://www.w3.org/1999/xlink\">\n<g id=\"graph0\" class=\"graph\" transform=\"scale(1 1) rotate(0) translate(4 206)\">\n<title>%3</title>\n<polygon fill=\"white\" stroke=\"transparent\" points=\"-4,4 -4,-206 1482,-206 1482,4 -4,4\"/>\n<!-- 132238688937504 -->\n<g id=\"node1\" class=\"node\">\n<title>132238688937504</title>\n<polygon fill=\"none\" stroke=\"black\" points=\"666,-82.5 666,-118.5 856,-118.5 856,-82.5 666,-82.5\"/>\n<text text-anchor=\"middle\" x=\"708.5\" y=\"-96.8\" font-family=\"Times,serif\" font-size=\"14.00\">data &#45;6.0000</text>\n<polyline fill=\"none\" stroke=\"black\" points=\"751,-82.5 751,-118.5 \"/>\n<text text-anchor=\"middle\" x=\"762.5\" y=\"-96.8\" font-family=\"Times,serif\" font-size=\"14.00\">a</text>\n<polyline fill=\"none\" stroke=\"black\" points=\"774,-82.5 774,-118.5 \"/>\n<text text-anchor=\"middle\" x=\"815\" y=\"-96.8\" font-family=\"Times,serif\" font-size=\"14.00\">grad 0.0000</text>\n</g>\n<!-- 132238688942064+ -->\n<g id=\"node15\" class=\"node\">\n<title>132238688942064+</title>\n<ellipse fill=\"none\" stroke=\"black\" cx=\"919\" cy=\"-127.5\" rx=\"27\" ry=\"18\"/>\n<text text-anchor=\"middle\" x=\"919\" y=\"-123.8\" font-family=\"Times,serif\" font-size=\"14.00\">+</text>\n</g>\n<!-- 132238688937504&#45;&gt;132238688942064+ -->\n<g id=\"edge10\" class=\"edge\">\n<title>132238688937504&#45;&gt;132238688942064+</title>\n<path fill=\"none\" stroke=\"black\" d=\"M856.34,-116.83C865.62,-118.44 874.58,-119.99 882.66,-121.38\"/>\n<polygon fill=\"black\" stroke=\"black\" points=\"882.27,-124.87 892.72,-123.12 883.46,-117.97 882.27,-124.87\"/>\n</g>\n<!-- 132238688937504+ -->\n<g id=\"node2\" class=\"node\">\n<title>132238688937504+</title>\n<ellipse fill=\"none\" stroke=\"black\" cx=\"603\" cy=\"-100.5\" rx=\"27\" ry=\"18\"/>\n<text text-anchor=\"middle\" x=\"603\" y=\"-96.8\" font-family=\"Times,serif\" font-size=\"14.00\">+</text>\n</g>\n<!-- 132238688937504+&#45;&gt;132238688937504 -->\n<g id=\"edge1\" class=\"edge\">\n<title>132238688937504+&#45;&gt;132238688937504</title>\n<path fill=\"none\" stroke=\"black\" d=\"M630.11,-100.5C637.63,-100.5 646.32,-100.5 655.58,-100.5\"/>\n<polygon fill=\"black\" stroke=\"black\" points=\"655.81,-104 665.81,-100.5 655.81,-97 655.81,-104\"/>\n</g>\n<!-- 132238688930352 -->\n<g id=\"node3\" class=\"node\">\n<title>132238688930352</title>\n<polygon fill=\"none\" stroke=\"black\" points=\"326,-110.5 326,-146.5 540,-146.5 540,-110.5 326,-110.5\"/>\n<text text-anchor=\"middle\" x=\"368.5\" y=\"-124.8\" font-family=\"Times,serif\" font-size=\"14.00\">data &#45;6.0000</text>\n<polyline fill=\"none\" stroke=\"black\" points=\"411,-110.5 411,-146.5 \"/>\n<text text-anchor=\"middle\" x=\"434.5\" y=\"-124.8\" font-family=\"Times,serif\" font-size=\"14.00\">x1w1</text>\n<polyline fill=\"none\" stroke=\"black\" points=\"458,-110.5 458,-146.5 \"/>\n<text text-anchor=\"middle\" x=\"499\" y=\"-124.8\" font-family=\"Times,serif\" font-size=\"14.00\">grad 0.0000</text>\n</g>\n<!-- 132238688930352&#45;&gt;132238688937504+ -->\n<g id=\"edge8\" class=\"edge\">\n<title>132238688930352&#45;&gt;132238688937504+</title>\n<path fill=\"none\" stroke=\"black\" d=\"M540.4,-110.77C549.72,-109.21 558.65,-107.72 566.68,-106.39\"/>\n<polygon fill=\"black\" stroke=\"black\" points=\"567.38,-109.82 576.66,-104.72 566.22,-102.91 567.38,-109.82\"/>\n</g>\n<!-- 132238688930352* -->\n<g id=\"node4\" class=\"node\">\n<title>132238688930352*</title>\n<ellipse fill=\"none\" stroke=\"black\" cx=\"263\" cy=\"-128.5\" rx=\"27\" ry=\"18\"/>\n<text text-anchor=\"middle\" x=\"263\" y=\"-124.8\" font-family=\"Times,serif\" font-size=\"14.00\">*</text>\n</g>\n<!-- 132238688930352*&#45;&gt;132238688930352 -->\n<g id=\"edge2\" class=\"edge\">\n<title>132238688930352*&#45;&gt;132238688930352</title>\n<path fill=\"none\" stroke=\"black\" d=\"M290.25,-128.5C297.7,-128.5 306.34,-128.5 315.59,-128.5\"/>\n<polygon fill=\"black\" stroke=\"black\" points=\"315.84,-132 325.84,-128.5 315.84,-125 315.84,-132\"/>\n</g>\n<!-- 132238688931312 -->\n<g id=\"node5\" class=\"node\">\n<title>132238688931312</title>\n<polygon fill=\"none\" stroke=\"black\" points=\"4,-165.5 4,-201.5 196,-201.5 196,-165.5 4,-165.5\"/>\n<text text-anchor=\"middle\" x=\"44\" y=\"-179.8\" font-family=\"Times,serif\" font-size=\"14.00\">data 2.0000</text>\n<polyline fill=\"none\" stroke=\"black\" points=\"84,-165.5 84,-201.5 \"/>\n<text text-anchor=\"middle\" x=\"99\" y=\"-179.8\" font-family=\"Times,serif\" font-size=\"14.00\">x1</text>\n<polyline fill=\"none\" stroke=\"black\" points=\"114,-165.5 114,-201.5 \"/>\n<text text-anchor=\"middle\" x=\"155\" y=\"-179.8\" font-family=\"Times,serif\" font-size=\"14.00\">grad 0.0000</text>\n</g>\n<!-- 132238688931312&#45;&gt;132238688930352* -->\n<g id=\"edge7\" class=\"edge\">\n<title>132238688931312&#45;&gt;132238688930352*</title>\n<path fill=\"none\" stroke=\"black\" d=\"M172.53,-165.44C181.84,-162.67 191.2,-159.67 200,-156.5 210.53,-152.71 221.75,-147.9 231.72,-143.33\"/>\n<polygon fill=\"black\" stroke=\"black\" points=\"233.25,-146.48 240.82,-139.07 230.28,-140.14 233.25,-146.48\"/>\n</g>\n<!-- 132238688930448 -->\n<g id=\"node6\" class=\"node\">\n<title>132238688930448</title>\n<polygon fill=\"none\" stroke=\"black\" points=\"328.5,-55.5 328.5,-91.5 537.5,-91.5 537.5,-55.5 328.5,-55.5\"/>\n<text text-anchor=\"middle\" x=\"368.5\" y=\"-69.8\" font-family=\"Times,serif\" font-size=\"14.00\">data 0.0000</text>\n<polyline fill=\"none\" stroke=\"black\" points=\"408.5,-55.5 408.5,-91.5 \"/>\n<text text-anchor=\"middle\" x=\"432\" y=\"-69.8\" font-family=\"Times,serif\" font-size=\"14.00\">x2w2</text>\n<polyline fill=\"none\" stroke=\"black\" points=\"455.5,-55.5 455.5,-91.5 \"/>\n<text text-anchor=\"middle\" x=\"496.5\" y=\"-69.8\" font-family=\"Times,serif\" font-size=\"14.00\">grad 0.0000</text>\n</g>\n<!-- 132238688930448&#45;&gt;132238688937504+ -->\n<g id=\"edge9\" class=\"edge\">\n<title>132238688930448&#45;&gt;132238688937504+</title>\n<path fill=\"none\" stroke=\"black\" d=\"M537.53,-90.14C547.8,-91.79 557.66,-93.37 566.45,-94.79\"/>\n<polygon fill=\"black\" stroke=\"black\" points=\"566.16,-98.28 576.59,-96.42 567.27,-91.37 566.16,-98.28\"/>\n</g>\n<!-- 132238688930448* -->\n<g id=\"node7\" class=\"node\">\n<title>132238688930448*</title>\n<ellipse fill=\"none\" stroke=\"black\" cx=\"263\" cy=\"-73.5\" rx=\"27\" ry=\"18\"/>\n<text text-anchor=\"middle\" x=\"263\" y=\"-69.8\" font-family=\"Times,serif\" font-size=\"14.00\">*</text>\n</g>\n<!-- 132238688930448*&#45;&gt;132238688930448 -->\n<g id=\"edge3\" class=\"edge\">\n<title>132238688930448*&#45;&gt;132238688930448</title>\n<path fill=\"none\" stroke=\"black\" d=\"M290.25,-73.5C298.43,-73.5 308.03,-73.5 318.31,-73.5\"/>\n<polygon fill=\"black\" stroke=\"black\" points=\"318.35,-77 328.35,-73.5 318.35,-70 318.35,-77\"/>\n</g>\n<!-- 132238688939184 -->\n<g id=\"node8\" class=\"node\">\n<title>132238688939184</title>\n<polygon fill=\"none\" stroke=\"black\" points=\"668.5,-137.5 668.5,-173.5 853.5,-173.5 853.5,-137.5 668.5,-137.5\"/>\n<text text-anchor=\"middle\" x=\"708.5\" y=\"-151.8\" font-family=\"Times,serif\" font-size=\"14.00\">data 6.8813</text>\n<polyline fill=\"none\" stroke=\"black\" points=\"748.5,-137.5 748.5,-173.5 \"/>\n<text text-anchor=\"middle\" x=\"760\" y=\"-151.8\" font-family=\"Times,serif\" font-size=\"14.00\">b</text>\n<polyline fill=\"none\" stroke=\"black\" points=\"771.5,-137.5 771.5,-173.5 \"/>\n<text text-anchor=\"middle\" x=\"812.5\" y=\"-151.8\" font-family=\"Times,serif\" font-size=\"14.00\">grad 0.0000</text>\n</g>\n<!-- 132238688939184&#45;&gt;132238688942064+ -->\n<g id=\"edge12\" class=\"edge\">\n<title>132238688939184&#45;&gt;132238688942064+</title>\n<path fill=\"none\" stroke=\"black\" d=\"M853.65,-139.05C863.94,-137.2 873.91,-135.41 882.81,-133.82\"/>\n<polygon fill=\"black\" stroke=\"black\" points=\"883.48,-137.25 892.71,-132.04 882.25,-130.36 883.48,-137.25\"/>\n</g>\n<!-- 132238688938704 -->\n<g id=\"node9\" class=\"node\">\n<title>132238688938704</title>\n<polygon fill=\"none\" stroke=\"black\" points=\"1293,-109.5 1293,-145.5 1478,-145.5 1478,-109.5 1293,-109.5\"/>\n<text text-anchor=\"middle\" x=\"1333\" y=\"-123.8\" font-family=\"Times,serif\" font-size=\"14.00\">data 0.7071</text>\n<polyline fill=\"none\" stroke=\"black\" points=\"1373,-109.5 1373,-145.5 \"/>\n<text text-anchor=\"middle\" x=\"1384.5\" y=\"-123.8\" font-family=\"Times,serif\" font-size=\"14.00\">o</text>\n<polyline fill=\"none\" stroke=\"black\" points=\"1396,-109.5 1396,-145.5 \"/>\n<text text-anchor=\"middle\" x=\"1437\" y=\"-123.8\" font-family=\"Times,serif\" font-size=\"14.00\">grad 0.0000</text>\n</g>\n<!-- 132238688938704tanh -->\n<g id=\"node10\" class=\"node\">\n<title>132238688938704tanh</title>\n<ellipse fill=\"none\" stroke=\"black\" cx=\"1230\" cy=\"-127.5\" rx=\"27\" ry=\"18\"/>\n<text text-anchor=\"middle\" x=\"1230\" y=\"-123.8\" font-family=\"Times,serif\" font-size=\"14.00\">tanh</text>\n</g>\n<!-- 132238688938704tanh&#45;&gt;132238688938704 -->\n<g id=\"edge4\" class=\"edge\">\n<title>132238688938704tanh&#45;&gt;132238688938704</title>\n<path fill=\"none\" stroke=\"black\" d=\"M1257.04,-127.5C1264.58,-127.5 1273.3,-127.5 1282.57,-127.5\"/>\n<polygon fill=\"black\" stroke=\"black\" points=\"1282.81,-131 1292.81,-127.5 1282.81,-124 1282.81,-131\"/>\n</g>\n<!-- 132238688930544 -->\n<g id=\"node11\" class=\"node\">\n<title>132238688930544</title>\n<polygon fill=\"none\" stroke=\"black\" points=\"2.5,-55.5 2.5,-91.5 197.5,-91.5 197.5,-55.5 2.5,-55.5\"/>\n<text text-anchor=\"middle\" x=\"42.5\" y=\"-69.8\" font-family=\"Times,serif\" font-size=\"14.00\">data 1.0000</text>\n<polyline fill=\"none\" stroke=\"black\" points=\"82.5,-55.5 82.5,-91.5 \"/>\n<text text-anchor=\"middle\" x=\"99\" y=\"-69.8\" font-family=\"Times,serif\" font-size=\"14.00\">w2</text>\n<polyline fill=\"none\" stroke=\"black\" points=\"115.5,-55.5 115.5,-91.5 \"/>\n<text text-anchor=\"middle\" x=\"156.5\" y=\"-69.8\" font-family=\"Times,serif\" font-size=\"14.00\">grad 0.0000</text>\n</g>\n<!-- 132238688930544&#45;&gt;132238688930448* -->\n<g id=\"edge11\" class=\"edge\">\n<title>132238688930544&#45;&gt;132238688930448*</title>\n<path fill=\"none\" stroke=\"black\" d=\"M197.91,-73.5C207.65,-73.5 217.05,-73.5 225.52,-73.5\"/>\n<polygon fill=\"black\" stroke=\"black\" points=\"225.7,-77 235.7,-73.5 225.7,-70 225.7,-77\"/>\n</g>\n<!-- 132238688928144 -->\n<g id=\"node12\" class=\"node\">\n<title>132238688928144</title>\n<polygon fill=\"none\" stroke=\"black\" points=\"0,-110.5 0,-146.5 200,-146.5 200,-110.5 0,-110.5\"/>\n<text text-anchor=\"middle\" x=\"42.5\" y=\"-124.8\" font-family=\"Times,serif\" font-size=\"14.00\">data &#45;3.0000</text>\n<polyline fill=\"none\" stroke=\"black\" points=\"85,-110.5 85,-146.5 \"/>\n<text text-anchor=\"middle\" x=\"101.5\" y=\"-124.8\" font-family=\"Times,serif\" font-size=\"14.00\">w1</text>\n<polyline fill=\"none\" stroke=\"black\" points=\"118,-110.5 118,-146.5 \"/>\n<text text-anchor=\"middle\" x=\"159\" y=\"-124.8\" font-family=\"Times,serif\" font-size=\"14.00\">grad 0.0000</text>\n</g>\n<!-- 132238688928144&#45;&gt;132238688930352* -->\n<g id=\"edge6\" class=\"edge\">\n<title>132238688928144&#45;&gt;132238688930352*</title>\n<path fill=\"none\" stroke=\"black\" d=\"M200.21,-128.5C209.2,-128.5 217.86,-128.5 225.7,-128.5\"/>\n<polygon fill=\"black\" stroke=\"black\" points=\"225.85,-132 235.85,-128.5 225.85,-125 225.85,-132\"/>\n</g>\n<!-- 132238688930208 -->\n<g id=\"node13\" class=\"node\">\n<title>132238688930208</title>\n<polygon fill=\"none\" stroke=\"black\" points=\"4,-0.5 4,-36.5 196,-36.5 196,-0.5 4,-0.5\"/>\n<text text-anchor=\"middle\" x=\"44\" y=\"-14.8\" font-family=\"Times,serif\" font-size=\"14.00\">data 0.0000</text>\n<polyline fill=\"none\" stroke=\"black\" points=\"84,-0.5 84,-36.5 \"/>\n<text text-anchor=\"middle\" x=\"99\" y=\"-14.8\" font-family=\"Times,serif\" font-size=\"14.00\">x2</text>\n<polyline fill=\"none\" stroke=\"black\" points=\"114,-0.5 114,-36.5 \"/>\n<text text-anchor=\"middle\" x=\"155\" y=\"-14.8\" font-family=\"Times,serif\" font-size=\"14.00\">grad 0.0000</text>\n</g>\n<!-- 132238688930208&#45;&gt;132238688930448* -->\n<g id=\"edge13\" class=\"edge\">\n<title>132238688930208&#45;&gt;132238688930448*</title>\n<path fill=\"none\" stroke=\"black\" d=\"M169.28,-36.5C179.65,-39.61 190.16,-42.98 200,-46.5 210.28,-50.17 221.28,-54.74 231.11,-59.07\"/>\n<polygon fill=\"black\" stroke=\"black\" points=\"229.93,-62.37 240.48,-63.27 232.79,-55.99 229.93,-62.37\"/>\n</g>\n<!-- 132238688942064 -->\n<g id=\"node14\" class=\"node\">\n<title>132238688942064</title>\n<polygon fill=\"none\" stroke=\"black\" points=\"982,-109.5 982,-145.5 1167,-145.5 1167,-109.5 982,-109.5\"/>\n<text text-anchor=\"middle\" x=\"1022\" y=\"-123.8\" font-family=\"Times,serif\" font-size=\"14.00\">data 0.8813</text>\n<polyline fill=\"none\" stroke=\"black\" points=\"1062,-109.5 1062,-145.5 \"/>\n<text text-anchor=\"middle\" x=\"1073.5\" y=\"-123.8\" font-family=\"Times,serif\" font-size=\"14.00\">z</text>\n<polyline fill=\"none\" stroke=\"black\" points=\"1085,-109.5 1085,-145.5 \"/>\n<text text-anchor=\"middle\" x=\"1126\" y=\"-123.8\" font-family=\"Times,serif\" font-size=\"14.00\">grad 0.0000</text>\n</g>\n<!-- 132238688942064&#45;&gt;132238688938704tanh -->\n<g id=\"edge14\" class=\"edge\">\n<title>132238688942064&#45;&gt;132238688938704tanh</title>\n<path fill=\"none\" stroke=\"black\" d=\"M1167.01,-127.5C1176.01,-127.5 1184.74,-127.5 1192.66,-127.5\"/>\n<polygon fill=\"black\" stroke=\"black\" points=\"1192.91,-131 1202.91,-127.5 1192.91,-124 1192.91,-131\"/>\n</g>\n<!-- 132238688942064+&#45;&gt;132238688942064 -->\n<g id=\"edge5\" class=\"edge\">\n<title>132238688942064+&#45;&gt;132238688942064</title>\n<path fill=\"none\" stroke=\"black\" d=\"M946.04,-127.5C953.58,-127.5 962.3,-127.5 971.57,-127.5\"/>\n<polygon fill=\"black\" stroke=\"black\" points=\"971.81,-131 981.81,-127.5 971.81,-124 971.81,-131\"/>\n</g>\n</g>\n</svg>\n",
            "text/plain": [
              "<graphviz.graphs.Digraph at 0x784538147040>"
            ]
          },
          "metadata": {},
          "execution_count": 56
        }
      ]
    },
    {
      "cell_type": "code",
      "source": [
        "o.grad = 1\n",
        "\n",
        "o._backward()"
      ],
      "metadata": {
        "id": "f0zm5U4TqMeg"
      },
      "execution_count": 57,
      "outputs": []
    },
    {
      "cell_type": "code",
      "source": [
        "draw_dot(o)"
      ],
      "metadata": {
        "colab": {
          "base_uri": "https://localhost:8080/",
          "height": 321
        },
        "id": "siTp-tlwsT41",
        "outputId": "7a663e33-d0f2-4e0f-93af-a8b1526816cd"
      },
      "execution_count": 58,
      "outputs": [
        {
          "output_type": "execute_result",
          "data": {
            "image/svg+xml": "<?xml version=\"1.0\" encoding=\"UTF-8\" standalone=\"no\"?>\n<!DOCTYPE svg PUBLIC \"-//W3C//DTD SVG 1.1//EN\"\n \"http://www.w3.org/Graphics/SVG/1.1/DTD/svg11.dtd\">\n<!-- Generated by graphviz version 2.43.0 (0)\n -->\n<!-- Title: %3 Pages: 1 -->\n<svg width=\"1486pt\" height=\"210pt\"\n viewBox=\"0.00 0.00 1486.00 210.00\" xmlns=\"http://www.w3.org/2000/svg\" xmlns:xlink=\"http://www.w3.org/1999/xlink\">\n<g id=\"graph0\" class=\"graph\" transform=\"scale(1 1) rotate(0) translate(4 206)\">\n<title>%3</title>\n<polygon fill=\"white\" stroke=\"transparent\" points=\"-4,4 -4,-206 1482,-206 1482,4 -4,4\"/>\n<!-- 132238688937504 -->\n<g id=\"node1\" class=\"node\">\n<title>132238688937504</title>\n<polygon fill=\"none\" stroke=\"black\" points=\"666,-82.5 666,-118.5 856,-118.5 856,-82.5 666,-82.5\"/>\n<text text-anchor=\"middle\" x=\"708.5\" y=\"-96.8\" font-family=\"Times,serif\" font-size=\"14.00\">data &#45;6.0000</text>\n<polyline fill=\"none\" stroke=\"black\" points=\"751,-82.5 751,-118.5 \"/>\n<text text-anchor=\"middle\" x=\"762.5\" y=\"-96.8\" font-family=\"Times,serif\" font-size=\"14.00\">a</text>\n<polyline fill=\"none\" stroke=\"black\" points=\"774,-82.5 774,-118.5 \"/>\n<text text-anchor=\"middle\" x=\"815\" y=\"-96.8\" font-family=\"Times,serif\" font-size=\"14.00\">grad 0.0000</text>\n</g>\n<!-- 132238688942064+ -->\n<g id=\"node15\" class=\"node\">\n<title>132238688942064+</title>\n<ellipse fill=\"none\" stroke=\"black\" cx=\"919\" cy=\"-127.5\" rx=\"27\" ry=\"18\"/>\n<text text-anchor=\"middle\" x=\"919\" y=\"-123.8\" font-family=\"Times,serif\" font-size=\"14.00\">+</text>\n</g>\n<!-- 132238688937504&#45;&gt;132238688942064+ -->\n<g id=\"edge10\" class=\"edge\">\n<title>132238688937504&#45;&gt;132238688942064+</title>\n<path fill=\"none\" stroke=\"black\" d=\"M856.34,-116.83C865.62,-118.44 874.58,-119.99 882.66,-121.38\"/>\n<polygon fill=\"black\" stroke=\"black\" points=\"882.27,-124.87 892.72,-123.12 883.46,-117.97 882.27,-124.87\"/>\n</g>\n<!-- 132238688937504+ -->\n<g id=\"node2\" class=\"node\">\n<title>132238688937504+</title>\n<ellipse fill=\"none\" stroke=\"black\" cx=\"603\" cy=\"-100.5\" rx=\"27\" ry=\"18\"/>\n<text text-anchor=\"middle\" x=\"603\" y=\"-96.8\" font-family=\"Times,serif\" font-size=\"14.00\">+</text>\n</g>\n<!-- 132238688937504+&#45;&gt;132238688937504 -->\n<g id=\"edge1\" class=\"edge\">\n<title>132238688937504+&#45;&gt;132238688937504</title>\n<path fill=\"none\" stroke=\"black\" d=\"M630.11,-100.5C637.63,-100.5 646.32,-100.5 655.58,-100.5\"/>\n<polygon fill=\"black\" stroke=\"black\" points=\"655.81,-104 665.81,-100.5 655.81,-97 655.81,-104\"/>\n</g>\n<!-- 132238688930352 -->\n<g id=\"node3\" class=\"node\">\n<title>132238688930352</title>\n<polygon fill=\"none\" stroke=\"black\" points=\"326,-110.5 326,-146.5 540,-146.5 540,-110.5 326,-110.5\"/>\n<text text-anchor=\"middle\" x=\"368.5\" y=\"-124.8\" font-family=\"Times,serif\" font-size=\"14.00\">data &#45;6.0000</text>\n<polyline fill=\"none\" stroke=\"black\" points=\"411,-110.5 411,-146.5 \"/>\n<text text-anchor=\"middle\" x=\"434.5\" y=\"-124.8\" font-family=\"Times,serif\" font-size=\"14.00\">x1w1</text>\n<polyline fill=\"none\" stroke=\"black\" points=\"458,-110.5 458,-146.5 \"/>\n<text text-anchor=\"middle\" x=\"499\" y=\"-124.8\" font-family=\"Times,serif\" font-size=\"14.00\">grad 0.0000</text>\n</g>\n<!-- 132238688930352&#45;&gt;132238688937504+ -->\n<g id=\"edge8\" class=\"edge\">\n<title>132238688930352&#45;&gt;132238688937504+</title>\n<path fill=\"none\" stroke=\"black\" d=\"M540.4,-110.77C549.72,-109.21 558.65,-107.72 566.68,-106.39\"/>\n<polygon fill=\"black\" stroke=\"black\" points=\"567.38,-109.82 576.66,-104.72 566.22,-102.91 567.38,-109.82\"/>\n</g>\n<!-- 132238688930352* -->\n<g id=\"node4\" class=\"node\">\n<title>132238688930352*</title>\n<ellipse fill=\"none\" stroke=\"black\" cx=\"263\" cy=\"-128.5\" rx=\"27\" ry=\"18\"/>\n<text text-anchor=\"middle\" x=\"263\" y=\"-124.8\" font-family=\"Times,serif\" font-size=\"14.00\">*</text>\n</g>\n<!-- 132238688930352*&#45;&gt;132238688930352 -->\n<g id=\"edge2\" class=\"edge\">\n<title>132238688930352*&#45;&gt;132238688930352</title>\n<path fill=\"none\" stroke=\"black\" d=\"M290.25,-128.5C297.7,-128.5 306.34,-128.5 315.59,-128.5\"/>\n<polygon fill=\"black\" stroke=\"black\" points=\"315.84,-132 325.84,-128.5 315.84,-125 315.84,-132\"/>\n</g>\n<!-- 132238688931312 -->\n<g id=\"node5\" class=\"node\">\n<title>132238688931312</title>\n<polygon fill=\"none\" stroke=\"black\" points=\"4,-165.5 4,-201.5 196,-201.5 196,-165.5 4,-165.5\"/>\n<text text-anchor=\"middle\" x=\"44\" y=\"-179.8\" font-family=\"Times,serif\" font-size=\"14.00\">data 2.0000</text>\n<polyline fill=\"none\" stroke=\"black\" points=\"84,-165.5 84,-201.5 \"/>\n<text text-anchor=\"middle\" x=\"99\" y=\"-179.8\" font-family=\"Times,serif\" font-size=\"14.00\">x1</text>\n<polyline fill=\"none\" stroke=\"black\" points=\"114,-165.5 114,-201.5 \"/>\n<text text-anchor=\"middle\" x=\"155\" y=\"-179.8\" font-family=\"Times,serif\" font-size=\"14.00\">grad 0.0000</text>\n</g>\n<!-- 132238688931312&#45;&gt;132238688930352* -->\n<g id=\"edge7\" class=\"edge\">\n<title>132238688931312&#45;&gt;132238688930352*</title>\n<path fill=\"none\" stroke=\"black\" d=\"M172.53,-165.44C181.84,-162.67 191.2,-159.67 200,-156.5 210.53,-152.71 221.75,-147.9 231.72,-143.33\"/>\n<polygon fill=\"black\" stroke=\"black\" points=\"233.25,-146.48 240.82,-139.07 230.28,-140.14 233.25,-146.48\"/>\n</g>\n<!-- 132238688930448 -->\n<g id=\"node6\" class=\"node\">\n<title>132238688930448</title>\n<polygon fill=\"none\" stroke=\"black\" points=\"328.5,-55.5 328.5,-91.5 537.5,-91.5 537.5,-55.5 328.5,-55.5\"/>\n<text text-anchor=\"middle\" x=\"368.5\" y=\"-69.8\" font-family=\"Times,serif\" font-size=\"14.00\">data 0.0000</text>\n<polyline fill=\"none\" stroke=\"black\" points=\"408.5,-55.5 408.5,-91.5 \"/>\n<text text-anchor=\"middle\" x=\"432\" y=\"-69.8\" font-family=\"Times,serif\" font-size=\"14.00\">x2w2</text>\n<polyline fill=\"none\" stroke=\"black\" points=\"455.5,-55.5 455.5,-91.5 \"/>\n<text text-anchor=\"middle\" x=\"496.5\" y=\"-69.8\" font-family=\"Times,serif\" font-size=\"14.00\">grad 0.0000</text>\n</g>\n<!-- 132238688930448&#45;&gt;132238688937504+ -->\n<g id=\"edge9\" class=\"edge\">\n<title>132238688930448&#45;&gt;132238688937504+</title>\n<path fill=\"none\" stroke=\"black\" d=\"M537.53,-90.14C547.8,-91.79 557.66,-93.37 566.45,-94.79\"/>\n<polygon fill=\"black\" stroke=\"black\" points=\"566.16,-98.28 576.59,-96.42 567.27,-91.37 566.16,-98.28\"/>\n</g>\n<!-- 132238688930448* -->\n<g id=\"node7\" class=\"node\">\n<title>132238688930448*</title>\n<ellipse fill=\"none\" stroke=\"black\" cx=\"263\" cy=\"-73.5\" rx=\"27\" ry=\"18\"/>\n<text text-anchor=\"middle\" x=\"263\" y=\"-69.8\" font-family=\"Times,serif\" font-size=\"14.00\">*</text>\n</g>\n<!-- 132238688930448*&#45;&gt;132238688930448 -->\n<g id=\"edge3\" class=\"edge\">\n<title>132238688930448*&#45;&gt;132238688930448</title>\n<path fill=\"none\" stroke=\"black\" d=\"M290.25,-73.5C298.43,-73.5 308.03,-73.5 318.31,-73.5\"/>\n<polygon fill=\"black\" stroke=\"black\" points=\"318.35,-77 328.35,-73.5 318.35,-70 318.35,-77\"/>\n</g>\n<!-- 132238688939184 -->\n<g id=\"node8\" class=\"node\">\n<title>132238688939184</title>\n<polygon fill=\"none\" stroke=\"black\" points=\"668.5,-137.5 668.5,-173.5 853.5,-173.5 853.5,-137.5 668.5,-137.5\"/>\n<text text-anchor=\"middle\" x=\"708.5\" y=\"-151.8\" font-family=\"Times,serif\" font-size=\"14.00\">data 6.8813</text>\n<polyline fill=\"none\" stroke=\"black\" points=\"748.5,-137.5 748.5,-173.5 \"/>\n<text text-anchor=\"middle\" x=\"760\" y=\"-151.8\" font-family=\"Times,serif\" font-size=\"14.00\">b</text>\n<polyline fill=\"none\" stroke=\"black\" points=\"771.5,-137.5 771.5,-173.5 \"/>\n<text text-anchor=\"middle\" x=\"812.5\" y=\"-151.8\" font-family=\"Times,serif\" font-size=\"14.00\">grad 0.0000</text>\n</g>\n<!-- 132238688939184&#45;&gt;132238688942064+ -->\n<g id=\"edge12\" class=\"edge\">\n<title>132238688939184&#45;&gt;132238688942064+</title>\n<path fill=\"none\" stroke=\"black\" d=\"M853.65,-139.05C863.94,-137.2 873.91,-135.41 882.81,-133.82\"/>\n<polygon fill=\"black\" stroke=\"black\" points=\"883.48,-137.25 892.71,-132.04 882.25,-130.36 883.48,-137.25\"/>\n</g>\n<!-- 132238688938704 -->\n<g id=\"node9\" class=\"node\">\n<title>132238688938704</title>\n<polygon fill=\"none\" stroke=\"black\" points=\"1293,-109.5 1293,-145.5 1478,-145.5 1478,-109.5 1293,-109.5\"/>\n<text text-anchor=\"middle\" x=\"1333\" y=\"-123.8\" font-family=\"Times,serif\" font-size=\"14.00\">data 0.7071</text>\n<polyline fill=\"none\" stroke=\"black\" points=\"1373,-109.5 1373,-145.5 \"/>\n<text text-anchor=\"middle\" x=\"1384.5\" y=\"-123.8\" font-family=\"Times,serif\" font-size=\"14.00\">o</text>\n<polyline fill=\"none\" stroke=\"black\" points=\"1396,-109.5 1396,-145.5 \"/>\n<text text-anchor=\"middle\" x=\"1437\" y=\"-123.8\" font-family=\"Times,serif\" font-size=\"14.00\">grad 1.0000</text>\n</g>\n<!-- 132238688938704tanh -->\n<g id=\"node10\" class=\"node\">\n<title>132238688938704tanh</title>\n<ellipse fill=\"none\" stroke=\"black\" cx=\"1230\" cy=\"-127.5\" rx=\"27\" ry=\"18\"/>\n<text text-anchor=\"middle\" x=\"1230\" y=\"-123.8\" font-family=\"Times,serif\" font-size=\"14.00\">tanh</text>\n</g>\n<!-- 132238688938704tanh&#45;&gt;132238688938704 -->\n<g id=\"edge4\" class=\"edge\">\n<title>132238688938704tanh&#45;&gt;132238688938704</title>\n<path fill=\"none\" stroke=\"black\" d=\"M1257.04,-127.5C1264.58,-127.5 1273.3,-127.5 1282.57,-127.5\"/>\n<polygon fill=\"black\" stroke=\"black\" points=\"1282.81,-131 1292.81,-127.5 1282.81,-124 1282.81,-131\"/>\n</g>\n<!-- 132238688930544 -->\n<g id=\"node11\" class=\"node\">\n<title>132238688930544</title>\n<polygon fill=\"none\" stroke=\"black\" points=\"2.5,-55.5 2.5,-91.5 197.5,-91.5 197.5,-55.5 2.5,-55.5\"/>\n<text text-anchor=\"middle\" x=\"42.5\" y=\"-69.8\" font-family=\"Times,serif\" font-size=\"14.00\">data 1.0000</text>\n<polyline fill=\"none\" stroke=\"black\" points=\"82.5,-55.5 82.5,-91.5 \"/>\n<text text-anchor=\"middle\" x=\"99\" y=\"-69.8\" font-family=\"Times,serif\" font-size=\"14.00\">w2</text>\n<polyline fill=\"none\" stroke=\"black\" points=\"115.5,-55.5 115.5,-91.5 \"/>\n<text text-anchor=\"middle\" x=\"156.5\" y=\"-69.8\" font-family=\"Times,serif\" font-size=\"14.00\">grad 0.0000</text>\n</g>\n<!-- 132238688930544&#45;&gt;132238688930448* -->\n<g id=\"edge11\" class=\"edge\">\n<title>132238688930544&#45;&gt;132238688930448*</title>\n<path fill=\"none\" stroke=\"black\" d=\"M197.91,-73.5C207.65,-73.5 217.05,-73.5 225.52,-73.5\"/>\n<polygon fill=\"black\" stroke=\"black\" points=\"225.7,-77 235.7,-73.5 225.7,-70 225.7,-77\"/>\n</g>\n<!-- 132238688928144 -->\n<g id=\"node12\" class=\"node\">\n<title>132238688928144</title>\n<polygon fill=\"none\" stroke=\"black\" points=\"0,-110.5 0,-146.5 200,-146.5 200,-110.5 0,-110.5\"/>\n<text text-anchor=\"middle\" x=\"42.5\" y=\"-124.8\" font-family=\"Times,serif\" font-size=\"14.00\">data &#45;3.0000</text>\n<polyline fill=\"none\" stroke=\"black\" points=\"85,-110.5 85,-146.5 \"/>\n<text text-anchor=\"middle\" x=\"101.5\" y=\"-124.8\" font-family=\"Times,serif\" font-size=\"14.00\">w1</text>\n<polyline fill=\"none\" stroke=\"black\" points=\"118,-110.5 118,-146.5 \"/>\n<text text-anchor=\"middle\" x=\"159\" y=\"-124.8\" font-family=\"Times,serif\" font-size=\"14.00\">grad 0.0000</text>\n</g>\n<!-- 132238688928144&#45;&gt;132238688930352* -->\n<g id=\"edge6\" class=\"edge\">\n<title>132238688928144&#45;&gt;132238688930352*</title>\n<path fill=\"none\" stroke=\"black\" d=\"M200.21,-128.5C209.2,-128.5 217.86,-128.5 225.7,-128.5\"/>\n<polygon fill=\"black\" stroke=\"black\" points=\"225.85,-132 235.85,-128.5 225.85,-125 225.85,-132\"/>\n</g>\n<!-- 132238688930208 -->\n<g id=\"node13\" class=\"node\">\n<title>132238688930208</title>\n<polygon fill=\"none\" stroke=\"black\" points=\"4,-0.5 4,-36.5 196,-36.5 196,-0.5 4,-0.5\"/>\n<text text-anchor=\"middle\" x=\"44\" y=\"-14.8\" font-family=\"Times,serif\" font-size=\"14.00\">data 0.0000</text>\n<polyline fill=\"none\" stroke=\"black\" points=\"84,-0.5 84,-36.5 \"/>\n<text text-anchor=\"middle\" x=\"99\" y=\"-14.8\" font-family=\"Times,serif\" font-size=\"14.00\">x2</text>\n<polyline fill=\"none\" stroke=\"black\" points=\"114,-0.5 114,-36.5 \"/>\n<text text-anchor=\"middle\" x=\"155\" y=\"-14.8\" font-family=\"Times,serif\" font-size=\"14.00\">grad 0.0000</text>\n</g>\n<!-- 132238688930208&#45;&gt;132238688930448* -->\n<g id=\"edge13\" class=\"edge\">\n<title>132238688930208&#45;&gt;132238688930448*</title>\n<path fill=\"none\" stroke=\"black\" d=\"M169.28,-36.5C179.65,-39.61 190.16,-42.98 200,-46.5 210.28,-50.17 221.28,-54.74 231.11,-59.07\"/>\n<polygon fill=\"black\" stroke=\"black\" points=\"229.93,-62.37 240.48,-63.27 232.79,-55.99 229.93,-62.37\"/>\n</g>\n<!-- 132238688942064 -->\n<g id=\"node14\" class=\"node\">\n<title>132238688942064</title>\n<polygon fill=\"none\" stroke=\"black\" points=\"982,-109.5 982,-145.5 1167,-145.5 1167,-109.5 982,-109.5\"/>\n<text text-anchor=\"middle\" x=\"1022\" y=\"-123.8\" font-family=\"Times,serif\" font-size=\"14.00\">data 0.8813</text>\n<polyline fill=\"none\" stroke=\"black\" points=\"1062,-109.5 1062,-145.5 \"/>\n<text text-anchor=\"middle\" x=\"1073.5\" y=\"-123.8\" font-family=\"Times,serif\" font-size=\"14.00\">z</text>\n<polyline fill=\"none\" stroke=\"black\" points=\"1085,-109.5 1085,-145.5 \"/>\n<text text-anchor=\"middle\" x=\"1126\" y=\"-123.8\" font-family=\"Times,serif\" font-size=\"14.00\">grad 0.5001</text>\n</g>\n<!-- 132238688942064&#45;&gt;132238688938704tanh -->\n<g id=\"edge14\" class=\"edge\">\n<title>132238688942064&#45;&gt;132238688938704tanh</title>\n<path fill=\"none\" stroke=\"black\" d=\"M1167.01,-127.5C1176.01,-127.5 1184.74,-127.5 1192.66,-127.5\"/>\n<polygon fill=\"black\" stroke=\"black\" points=\"1192.91,-131 1202.91,-127.5 1192.91,-124 1192.91,-131\"/>\n</g>\n<!-- 132238688942064+&#45;&gt;132238688942064 -->\n<g id=\"edge5\" class=\"edge\">\n<title>132238688942064+&#45;&gt;132238688942064</title>\n<path fill=\"none\" stroke=\"black\" d=\"M946.04,-127.5C953.58,-127.5 962.3,-127.5 971.57,-127.5\"/>\n<polygon fill=\"black\" stroke=\"black\" points=\"971.81,-131 981.81,-127.5 971.81,-124 971.81,-131\"/>\n</g>\n</g>\n</svg>\n",
            "text/plain": [
              "<graphviz.graphs.Digraph at 0x784538145e40>"
            ]
          },
          "metadata": {},
          "execution_count": 58
        }
      ]
    },
    {
      "cell_type": "code",
      "source": [
        "z._backward()"
      ],
      "metadata": {
        "id": "Nv_EOtmGseMm"
      },
      "execution_count": 59,
      "outputs": []
    },
    {
      "cell_type": "code",
      "source": [
        "draw_dot(o)"
      ],
      "metadata": {
        "colab": {
          "base_uri": "https://localhost:8080/",
          "height": 321
        },
        "id": "jn_rEteHsha9",
        "outputId": "b752fe28-79ac-4202-a4db-1a611f93b0a3"
      },
      "execution_count": 60,
      "outputs": [
        {
          "output_type": "execute_result",
          "data": {
            "image/svg+xml": "<?xml version=\"1.0\" encoding=\"UTF-8\" standalone=\"no\"?>\n<!DOCTYPE svg PUBLIC \"-//W3C//DTD SVG 1.1//EN\"\n \"http://www.w3.org/Graphics/SVG/1.1/DTD/svg11.dtd\">\n<!-- Generated by graphviz version 2.43.0 (0)\n -->\n<!-- Title: %3 Pages: 1 -->\n<svg width=\"1486pt\" height=\"210pt\"\n viewBox=\"0.00 0.00 1486.00 210.00\" xmlns=\"http://www.w3.org/2000/svg\" xmlns:xlink=\"http://www.w3.org/1999/xlink\">\n<g id=\"graph0\" class=\"graph\" transform=\"scale(1 1) rotate(0) translate(4 206)\">\n<title>%3</title>\n<polygon fill=\"white\" stroke=\"transparent\" points=\"-4,4 -4,-206 1482,-206 1482,4 -4,4\"/>\n<!-- 132238688937504 -->\n<g id=\"node1\" class=\"node\">\n<title>132238688937504</title>\n<polygon fill=\"none\" stroke=\"black\" points=\"666,-82.5 666,-118.5 856,-118.5 856,-82.5 666,-82.5\"/>\n<text text-anchor=\"middle\" x=\"708.5\" y=\"-96.8\" font-family=\"Times,serif\" font-size=\"14.00\">data &#45;6.0000</text>\n<polyline fill=\"none\" stroke=\"black\" points=\"751,-82.5 751,-118.5 \"/>\n<text text-anchor=\"middle\" x=\"762.5\" y=\"-96.8\" font-family=\"Times,serif\" font-size=\"14.00\">a</text>\n<polyline fill=\"none\" stroke=\"black\" points=\"774,-82.5 774,-118.5 \"/>\n<text text-anchor=\"middle\" x=\"815\" y=\"-96.8\" font-family=\"Times,serif\" font-size=\"14.00\">grad 0.5001</text>\n</g>\n<!-- 132238688942064+ -->\n<g id=\"node15\" class=\"node\">\n<title>132238688942064+</title>\n<ellipse fill=\"none\" stroke=\"black\" cx=\"919\" cy=\"-127.5\" rx=\"27\" ry=\"18\"/>\n<text text-anchor=\"middle\" x=\"919\" y=\"-123.8\" font-family=\"Times,serif\" font-size=\"14.00\">+</text>\n</g>\n<!-- 132238688937504&#45;&gt;132238688942064+ -->\n<g id=\"edge10\" class=\"edge\">\n<title>132238688937504&#45;&gt;132238688942064+</title>\n<path fill=\"none\" stroke=\"black\" d=\"M856.34,-116.83C865.62,-118.44 874.58,-119.99 882.66,-121.38\"/>\n<polygon fill=\"black\" stroke=\"black\" points=\"882.27,-124.87 892.72,-123.12 883.46,-117.97 882.27,-124.87\"/>\n</g>\n<!-- 132238688937504+ -->\n<g id=\"node2\" class=\"node\">\n<title>132238688937504+</title>\n<ellipse fill=\"none\" stroke=\"black\" cx=\"603\" cy=\"-100.5\" rx=\"27\" ry=\"18\"/>\n<text text-anchor=\"middle\" x=\"603\" y=\"-96.8\" font-family=\"Times,serif\" font-size=\"14.00\">+</text>\n</g>\n<!-- 132238688937504+&#45;&gt;132238688937504 -->\n<g id=\"edge1\" class=\"edge\">\n<title>132238688937504+&#45;&gt;132238688937504</title>\n<path fill=\"none\" stroke=\"black\" d=\"M630.11,-100.5C637.63,-100.5 646.32,-100.5 655.58,-100.5\"/>\n<polygon fill=\"black\" stroke=\"black\" points=\"655.81,-104 665.81,-100.5 655.81,-97 655.81,-104\"/>\n</g>\n<!-- 132238688930352 -->\n<g id=\"node3\" class=\"node\">\n<title>132238688930352</title>\n<polygon fill=\"none\" stroke=\"black\" points=\"326,-110.5 326,-146.5 540,-146.5 540,-110.5 326,-110.5\"/>\n<text text-anchor=\"middle\" x=\"368.5\" y=\"-124.8\" font-family=\"Times,serif\" font-size=\"14.00\">data &#45;6.0000</text>\n<polyline fill=\"none\" stroke=\"black\" points=\"411,-110.5 411,-146.5 \"/>\n<text text-anchor=\"middle\" x=\"434.5\" y=\"-124.8\" font-family=\"Times,serif\" font-size=\"14.00\">x1w1</text>\n<polyline fill=\"none\" stroke=\"black\" points=\"458,-110.5 458,-146.5 \"/>\n<text text-anchor=\"middle\" x=\"499\" y=\"-124.8\" font-family=\"Times,serif\" font-size=\"14.00\">grad 0.0000</text>\n</g>\n<!-- 132238688930352&#45;&gt;132238688937504+ -->\n<g id=\"edge8\" class=\"edge\">\n<title>132238688930352&#45;&gt;132238688937504+</title>\n<path fill=\"none\" stroke=\"black\" d=\"M540.4,-110.77C549.72,-109.21 558.65,-107.72 566.68,-106.39\"/>\n<polygon fill=\"black\" stroke=\"black\" points=\"567.38,-109.82 576.66,-104.72 566.22,-102.91 567.38,-109.82\"/>\n</g>\n<!-- 132238688930352* -->\n<g id=\"node4\" class=\"node\">\n<title>132238688930352*</title>\n<ellipse fill=\"none\" stroke=\"black\" cx=\"263\" cy=\"-128.5\" rx=\"27\" ry=\"18\"/>\n<text text-anchor=\"middle\" x=\"263\" y=\"-124.8\" font-family=\"Times,serif\" font-size=\"14.00\">*</text>\n</g>\n<!-- 132238688930352*&#45;&gt;132238688930352 -->\n<g id=\"edge2\" class=\"edge\">\n<title>132238688930352*&#45;&gt;132238688930352</title>\n<path fill=\"none\" stroke=\"black\" d=\"M290.25,-128.5C297.7,-128.5 306.34,-128.5 315.59,-128.5\"/>\n<polygon fill=\"black\" stroke=\"black\" points=\"315.84,-132 325.84,-128.5 315.84,-125 315.84,-132\"/>\n</g>\n<!-- 132238688931312 -->\n<g id=\"node5\" class=\"node\">\n<title>132238688931312</title>\n<polygon fill=\"none\" stroke=\"black\" points=\"4,-165.5 4,-201.5 196,-201.5 196,-165.5 4,-165.5\"/>\n<text text-anchor=\"middle\" x=\"44\" y=\"-179.8\" font-family=\"Times,serif\" font-size=\"14.00\">data 2.0000</text>\n<polyline fill=\"none\" stroke=\"black\" points=\"84,-165.5 84,-201.5 \"/>\n<text text-anchor=\"middle\" x=\"99\" y=\"-179.8\" font-family=\"Times,serif\" font-size=\"14.00\">x1</text>\n<polyline fill=\"none\" stroke=\"black\" points=\"114,-165.5 114,-201.5 \"/>\n<text text-anchor=\"middle\" x=\"155\" y=\"-179.8\" font-family=\"Times,serif\" font-size=\"14.00\">grad 0.0000</text>\n</g>\n<!-- 132238688931312&#45;&gt;132238688930352* -->\n<g id=\"edge7\" class=\"edge\">\n<title>132238688931312&#45;&gt;132238688930352*</title>\n<path fill=\"none\" stroke=\"black\" d=\"M172.53,-165.44C181.84,-162.67 191.2,-159.67 200,-156.5 210.53,-152.71 221.75,-147.9 231.72,-143.33\"/>\n<polygon fill=\"black\" stroke=\"black\" points=\"233.25,-146.48 240.82,-139.07 230.28,-140.14 233.25,-146.48\"/>\n</g>\n<!-- 132238688930448 -->\n<g id=\"node6\" class=\"node\">\n<title>132238688930448</title>\n<polygon fill=\"none\" stroke=\"black\" points=\"328.5,-55.5 328.5,-91.5 537.5,-91.5 537.5,-55.5 328.5,-55.5\"/>\n<text text-anchor=\"middle\" x=\"368.5\" y=\"-69.8\" font-family=\"Times,serif\" font-size=\"14.00\">data 0.0000</text>\n<polyline fill=\"none\" stroke=\"black\" points=\"408.5,-55.5 408.5,-91.5 \"/>\n<text text-anchor=\"middle\" x=\"432\" y=\"-69.8\" font-family=\"Times,serif\" font-size=\"14.00\">x2w2</text>\n<polyline fill=\"none\" stroke=\"black\" points=\"455.5,-55.5 455.5,-91.5 \"/>\n<text text-anchor=\"middle\" x=\"496.5\" y=\"-69.8\" font-family=\"Times,serif\" font-size=\"14.00\">grad 0.0000</text>\n</g>\n<!-- 132238688930448&#45;&gt;132238688937504+ -->\n<g id=\"edge9\" class=\"edge\">\n<title>132238688930448&#45;&gt;132238688937504+</title>\n<path fill=\"none\" stroke=\"black\" d=\"M537.53,-90.14C547.8,-91.79 557.66,-93.37 566.45,-94.79\"/>\n<polygon fill=\"black\" stroke=\"black\" points=\"566.16,-98.28 576.59,-96.42 567.27,-91.37 566.16,-98.28\"/>\n</g>\n<!-- 132238688930448* -->\n<g id=\"node7\" class=\"node\">\n<title>132238688930448*</title>\n<ellipse fill=\"none\" stroke=\"black\" cx=\"263\" cy=\"-73.5\" rx=\"27\" ry=\"18\"/>\n<text text-anchor=\"middle\" x=\"263\" y=\"-69.8\" font-family=\"Times,serif\" font-size=\"14.00\">*</text>\n</g>\n<!-- 132238688930448*&#45;&gt;132238688930448 -->\n<g id=\"edge3\" class=\"edge\">\n<title>132238688930448*&#45;&gt;132238688930448</title>\n<path fill=\"none\" stroke=\"black\" d=\"M290.25,-73.5C298.43,-73.5 308.03,-73.5 318.31,-73.5\"/>\n<polygon fill=\"black\" stroke=\"black\" points=\"318.35,-77 328.35,-73.5 318.35,-70 318.35,-77\"/>\n</g>\n<!-- 132238688939184 -->\n<g id=\"node8\" class=\"node\">\n<title>132238688939184</title>\n<polygon fill=\"none\" stroke=\"black\" points=\"668.5,-137.5 668.5,-173.5 853.5,-173.5 853.5,-137.5 668.5,-137.5\"/>\n<text text-anchor=\"middle\" x=\"708.5\" y=\"-151.8\" font-family=\"Times,serif\" font-size=\"14.00\">data 6.8813</text>\n<polyline fill=\"none\" stroke=\"black\" points=\"748.5,-137.5 748.5,-173.5 \"/>\n<text text-anchor=\"middle\" x=\"760\" y=\"-151.8\" font-family=\"Times,serif\" font-size=\"14.00\">b</text>\n<polyline fill=\"none\" stroke=\"black\" points=\"771.5,-137.5 771.5,-173.5 \"/>\n<text text-anchor=\"middle\" x=\"812.5\" y=\"-151.8\" font-family=\"Times,serif\" font-size=\"14.00\">grad 0.5001</text>\n</g>\n<!-- 132238688939184&#45;&gt;132238688942064+ -->\n<g id=\"edge12\" class=\"edge\">\n<title>132238688939184&#45;&gt;132238688942064+</title>\n<path fill=\"none\" stroke=\"black\" d=\"M853.65,-139.05C863.94,-137.2 873.91,-135.41 882.81,-133.82\"/>\n<polygon fill=\"black\" stroke=\"black\" points=\"883.48,-137.25 892.71,-132.04 882.25,-130.36 883.48,-137.25\"/>\n</g>\n<!-- 132238688938704 -->\n<g id=\"node9\" class=\"node\">\n<title>132238688938704</title>\n<polygon fill=\"none\" stroke=\"black\" points=\"1293,-109.5 1293,-145.5 1478,-145.5 1478,-109.5 1293,-109.5\"/>\n<text text-anchor=\"middle\" x=\"1333\" y=\"-123.8\" font-family=\"Times,serif\" font-size=\"14.00\">data 0.7071</text>\n<polyline fill=\"none\" stroke=\"black\" points=\"1373,-109.5 1373,-145.5 \"/>\n<text text-anchor=\"middle\" x=\"1384.5\" y=\"-123.8\" font-family=\"Times,serif\" font-size=\"14.00\">o</text>\n<polyline fill=\"none\" stroke=\"black\" points=\"1396,-109.5 1396,-145.5 \"/>\n<text text-anchor=\"middle\" x=\"1437\" y=\"-123.8\" font-family=\"Times,serif\" font-size=\"14.00\">grad 1.0000</text>\n</g>\n<!-- 132238688938704tanh -->\n<g id=\"node10\" class=\"node\">\n<title>132238688938704tanh</title>\n<ellipse fill=\"none\" stroke=\"black\" cx=\"1230\" cy=\"-127.5\" rx=\"27\" ry=\"18\"/>\n<text text-anchor=\"middle\" x=\"1230\" y=\"-123.8\" font-family=\"Times,serif\" font-size=\"14.00\">tanh</text>\n</g>\n<!-- 132238688938704tanh&#45;&gt;132238688938704 -->\n<g id=\"edge4\" class=\"edge\">\n<title>132238688938704tanh&#45;&gt;132238688938704</title>\n<path fill=\"none\" stroke=\"black\" d=\"M1257.04,-127.5C1264.58,-127.5 1273.3,-127.5 1282.57,-127.5\"/>\n<polygon fill=\"black\" stroke=\"black\" points=\"1282.81,-131 1292.81,-127.5 1282.81,-124 1282.81,-131\"/>\n</g>\n<!-- 132238688930544 -->\n<g id=\"node11\" class=\"node\">\n<title>132238688930544</title>\n<polygon fill=\"none\" stroke=\"black\" points=\"2.5,-55.5 2.5,-91.5 197.5,-91.5 197.5,-55.5 2.5,-55.5\"/>\n<text text-anchor=\"middle\" x=\"42.5\" y=\"-69.8\" font-family=\"Times,serif\" font-size=\"14.00\">data 1.0000</text>\n<polyline fill=\"none\" stroke=\"black\" points=\"82.5,-55.5 82.5,-91.5 \"/>\n<text text-anchor=\"middle\" x=\"99\" y=\"-69.8\" font-family=\"Times,serif\" font-size=\"14.00\">w2</text>\n<polyline fill=\"none\" stroke=\"black\" points=\"115.5,-55.5 115.5,-91.5 \"/>\n<text text-anchor=\"middle\" x=\"156.5\" y=\"-69.8\" font-family=\"Times,serif\" font-size=\"14.00\">grad 0.0000</text>\n</g>\n<!-- 132238688930544&#45;&gt;132238688930448* -->\n<g id=\"edge11\" class=\"edge\">\n<title>132238688930544&#45;&gt;132238688930448*</title>\n<path fill=\"none\" stroke=\"black\" d=\"M197.91,-73.5C207.65,-73.5 217.05,-73.5 225.52,-73.5\"/>\n<polygon fill=\"black\" stroke=\"black\" points=\"225.7,-77 235.7,-73.5 225.7,-70 225.7,-77\"/>\n</g>\n<!-- 132238688928144 -->\n<g id=\"node12\" class=\"node\">\n<title>132238688928144</title>\n<polygon fill=\"none\" stroke=\"black\" points=\"0,-110.5 0,-146.5 200,-146.5 200,-110.5 0,-110.5\"/>\n<text text-anchor=\"middle\" x=\"42.5\" y=\"-124.8\" font-family=\"Times,serif\" font-size=\"14.00\">data &#45;3.0000</text>\n<polyline fill=\"none\" stroke=\"black\" points=\"85,-110.5 85,-146.5 \"/>\n<text text-anchor=\"middle\" x=\"101.5\" y=\"-124.8\" font-family=\"Times,serif\" font-size=\"14.00\">w1</text>\n<polyline fill=\"none\" stroke=\"black\" points=\"118,-110.5 118,-146.5 \"/>\n<text text-anchor=\"middle\" x=\"159\" y=\"-124.8\" font-family=\"Times,serif\" font-size=\"14.00\">grad 0.0000</text>\n</g>\n<!-- 132238688928144&#45;&gt;132238688930352* -->\n<g id=\"edge6\" class=\"edge\">\n<title>132238688928144&#45;&gt;132238688930352*</title>\n<path fill=\"none\" stroke=\"black\" d=\"M200.21,-128.5C209.2,-128.5 217.86,-128.5 225.7,-128.5\"/>\n<polygon fill=\"black\" stroke=\"black\" points=\"225.85,-132 235.85,-128.5 225.85,-125 225.85,-132\"/>\n</g>\n<!-- 132238688930208 -->\n<g id=\"node13\" class=\"node\">\n<title>132238688930208</title>\n<polygon fill=\"none\" stroke=\"black\" points=\"4,-0.5 4,-36.5 196,-36.5 196,-0.5 4,-0.5\"/>\n<text text-anchor=\"middle\" x=\"44\" y=\"-14.8\" font-family=\"Times,serif\" font-size=\"14.00\">data 0.0000</text>\n<polyline fill=\"none\" stroke=\"black\" points=\"84,-0.5 84,-36.5 \"/>\n<text text-anchor=\"middle\" x=\"99\" y=\"-14.8\" font-family=\"Times,serif\" font-size=\"14.00\">x2</text>\n<polyline fill=\"none\" stroke=\"black\" points=\"114,-0.5 114,-36.5 \"/>\n<text text-anchor=\"middle\" x=\"155\" y=\"-14.8\" font-family=\"Times,serif\" font-size=\"14.00\">grad 0.0000</text>\n</g>\n<!-- 132238688930208&#45;&gt;132238688930448* -->\n<g id=\"edge13\" class=\"edge\">\n<title>132238688930208&#45;&gt;132238688930448*</title>\n<path fill=\"none\" stroke=\"black\" d=\"M169.28,-36.5C179.65,-39.61 190.16,-42.98 200,-46.5 210.28,-50.17 221.28,-54.74 231.11,-59.07\"/>\n<polygon fill=\"black\" stroke=\"black\" points=\"229.93,-62.37 240.48,-63.27 232.79,-55.99 229.93,-62.37\"/>\n</g>\n<!-- 132238688942064 -->\n<g id=\"node14\" class=\"node\">\n<title>132238688942064</title>\n<polygon fill=\"none\" stroke=\"black\" points=\"982,-109.5 982,-145.5 1167,-145.5 1167,-109.5 982,-109.5\"/>\n<text text-anchor=\"middle\" x=\"1022\" y=\"-123.8\" font-family=\"Times,serif\" font-size=\"14.00\">data 0.8813</text>\n<polyline fill=\"none\" stroke=\"black\" points=\"1062,-109.5 1062,-145.5 \"/>\n<text text-anchor=\"middle\" x=\"1073.5\" y=\"-123.8\" font-family=\"Times,serif\" font-size=\"14.00\">z</text>\n<polyline fill=\"none\" stroke=\"black\" points=\"1085,-109.5 1085,-145.5 \"/>\n<text text-anchor=\"middle\" x=\"1126\" y=\"-123.8\" font-family=\"Times,serif\" font-size=\"14.00\">grad 0.5001</text>\n</g>\n<!-- 132238688942064&#45;&gt;132238688938704tanh -->\n<g id=\"edge14\" class=\"edge\">\n<title>132238688942064&#45;&gt;132238688938704tanh</title>\n<path fill=\"none\" stroke=\"black\" d=\"M1167.01,-127.5C1176.01,-127.5 1184.74,-127.5 1192.66,-127.5\"/>\n<polygon fill=\"black\" stroke=\"black\" points=\"1192.91,-131 1202.91,-127.5 1192.91,-124 1192.91,-131\"/>\n</g>\n<!-- 132238688942064+&#45;&gt;132238688942064 -->\n<g id=\"edge5\" class=\"edge\">\n<title>132238688942064+&#45;&gt;132238688942064</title>\n<path fill=\"none\" stroke=\"black\" d=\"M946.04,-127.5C953.58,-127.5 962.3,-127.5 971.57,-127.5\"/>\n<polygon fill=\"black\" stroke=\"black\" points=\"971.81,-131 981.81,-127.5 971.81,-124 971.81,-131\"/>\n</g>\n</g>\n</svg>\n",
            "text/plain": [
              "<graphviz.graphs.Digraph at 0x784538146ce0>"
            ]
          },
          "metadata": {},
          "execution_count": 60
        }
      ]
    },
    {
      "cell_type": "markdown",
      "source": [
        "and so on....\n",
        "\n",
        "How to call all automatically?"
      ],
      "metadata": {
        "id": "l2RUkUDUskBx"
      }
    },
    {
      "cell_type": "code",
      "source": [
        "topo = []\n",
        "visited = set()\n",
        "def build_topo(v):\n",
        "  if v not in visited:\n",
        "    visited.add(v)\n",
        "    for child in v._prev:\n",
        "      build_topo(child)\n",
        "    topo.append(v)\n",
        "build_topo(o)\n",
        "\n",
        "topo"
      ],
      "metadata": {
        "colab": {
          "base_uri": "https://localhost:8080/"
        },
        "id": "eD-rCcYgsiS6",
        "outputId": "8c4bd975-75a4-42a9-fb72-a6e3cacdfed9"
      },
      "execution_count": 61,
      "outputs": [
        {
          "output_type": "execute_result",
          "data": {
            "text/plain": [
              "[Value(data=0.0),\n",
              " Value(data=1.0),\n",
              " Value(data=0.0),\n",
              " Value(data=-3.0),\n",
              " Value(data=2.0),\n",
              " Value(data=-6.0),\n",
              " Value(data=-6.0),\n",
              " Value(data=6.8813),\n",
              " Value(data=0.8813000000000004),\n",
              " Value(data=0.7070699857622339)]"
            ]
          },
          "metadata": {},
          "execution_count": 61
        }
      ]
    },
    {
      "cell_type": "markdown",
      "source": [
        "call backward on everything whihc has already happened beforehand , basically topological sort"
      ],
      "metadata": {
        "id": "RH_f5Buqs0tw"
      }
    },
    {
      "cell_type": "code",
      "source": [
        "for i in topo[::-1]:\n",
        "  i._backward()"
      ],
      "metadata": {
        "id": "MRU9CXitsx9t"
      },
      "execution_count": 63,
      "outputs": []
    },
    {
      "cell_type": "code",
      "source": [
        "draw_dot(o)"
      ],
      "metadata": {
        "colab": {
          "base_uri": "https://localhost:8080/",
          "height": 321
        },
        "id": "7nJoAcjItCsX",
        "outputId": "8352bcdb-1d0a-4e68-98c0-4794decd2c5b"
      },
      "execution_count": 65,
      "outputs": [
        {
          "output_type": "execute_result",
          "data": {
            "image/svg+xml": "<?xml version=\"1.0\" encoding=\"UTF-8\" standalone=\"no\"?>\n<!DOCTYPE svg PUBLIC \"-//W3C//DTD SVG 1.1//EN\"\n \"http://www.w3.org/Graphics/SVG/1.1/DTD/svg11.dtd\">\n<!-- Generated by graphviz version 2.43.0 (0)\n -->\n<!-- Title: %3 Pages: 1 -->\n<svg width=\"1486pt\" height=\"210pt\"\n viewBox=\"0.00 0.00 1486.00 210.00\" xmlns=\"http://www.w3.org/2000/svg\" xmlns:xlink=\"http://www.w3.org/1999/xlink\">\n<g id=\"graph0\" class=\"graph\" transform=\"scale(1 1) rotate(0) translate(4 206)\">\n<title>%3</title>\n<polygon fill=\"white\" stroke=\"transparent\" points=\"-4,4 -4,-206 1482,-206 1482,4 -4,4\"/>\n<!-- 132238688937504 -->\n<g id=\"node1\" class=\"node\">\n<title>132238688937504</title>\n<polygon fill=\"none\" stroke=\"black\" points=\"666,-82.5 666,-118.5 856,-118.5 856,-82.5 666,-82.5\"/>\n<text text-anchor=\"middle\" x=\"708.5\" y=\"-96.8\" font-family=\"Times,serif\" font-size=\"14.00\">data &#45;6.0000</text>\n<polyline fill=\"none\" stroke=\"black\" points=\"751,-82.5 751,-118.5 \"/>\n<text text-anchor=\"middle\" x=\"762.5\" y=\"-96.8\" font-family=\"Times,serif\" font-size=\"14.00\">a</text>\n<polyline fill=\"none\" stroke=\"black\" points=\"774,-82.5 774,-118.5 \"/>\n<text text-anchor=\"middle\" x=\"815\" y=\"-96.8\" font-family=\"Times,serif\" font-size=\"14.00\">grad 0.5001</text>\n</g>\n<!-- 132238688942064+ -->\n<g id=\"node15\" class=\"node\">\n<title>132238688942064+</title>\n<ellipse fill=\"none\" stroke=\"black\" cx=\"919\" cy=\"-127.5\" rx=\"27\" ry=\"18\"/>\n<text text-anchor=\"middle\" x=\"919\" y=\"-123.8\" font-family=\"Times,serif\" font-size=\"14.00\">+</text>\n</g>\n<!-- 132238688937504&#45;&gt;132238688942064+ -->\n<g id=\"edge10\" class=\"edge\">\n<title>132238688937504&#45;&gt;132238688942064+</title>\n<path fill=\"none\" stroke=\"black\" d=\"M856.34,-116.83C865.62,-118.44 874.58,-119.99 882.66,-121.38\"/>\n<polygon fill=\"black\" stroke=\"black\" points=\"882.27,-124.87 892.72,-123.12 883.46,-117.97 882.27,-124.87\"/>\n</g>\n<!-- 132238688937504+ -->\n<g id=\"node2\" class=\"node\">\n<title>132238688937504+</title>\n<ellipse fill=\"none\" stroke=\"black\" cx=\"603\" cy=\"-100.5\" rx=\"27\" ry=\"18\"/>\n<text text-anchor=\"middle\" x=\"603\" y=\"-96.8\" font-family=\"Times,serif\" font-size=\"14.00\">+</text>\n</g>\n<!-- 132238688937504+&#45;&gt;132238688937504 -->\n<g id=\"edge1\" class=\"edge\">\n<title>132238688937504+&#45;&gt;132238688937504</title>\n<path fill=\"none\" stroke=\"black\" d=\"M630.11,-100.5C637.63,-100.5 646.32,-100.5 655.58,-100.5\"/>\n<polygon fill=\"black\" stroke=\"black\" points=\"655.81,-104 665.81,-100.5 655.81,-97 655.81,-104\"/>\n</g>\n<!-- 132238688930352 -->\n<g id=\"node3\" class=\"node\">\n<title>132238688930352</title>\n<polygon fill=\"none\" stroke=\"black\" points=\"326,-110.5 326,-146.5 540,-146.5 540,-110.5 326,-110.5\"/>\n<text text-anchor=\"middle\" x=\"368.5\" y=\"-124.8\" font-family=\"Times,serif\" font-size=\"14.00\">data &#45;6.0000</text>\n<polyline fill=\"none\" stroke=\"black\" points=\"411,-110.5 411,-146.5 \"/>\n<text text-anchor=\"middle\" x=\"434.5\" y=\"-124.8\" font-family=\"Times,serif\" font-size=\"14.00\">x1w1</text>\n<polyline fill=\"none\" stroke=\"black\" points=\"458,-110.5 458,-146.5 \"/>\n<text text-anchor=\"middle\" x=\"499\" y=\"-124.8\" font-family=\"Times,serif\" font-size=\"14.00\">grad 0.5001</text>\n</g>\n<!-- 132238688930352&#45;&gt;132238688937504+ -->\n<g id=\"edge8\" class=\"edge\">\n<title>132238688930352&#45;&gt;132238688937504+</title>\n<path fill=\"none\" stroke=\"black\" d=\"M540.4,-110.77C549.72,-109.21 558.65,-107.72 566.68,-106.39\"/>\n<polygon fill=\"black\" stroke=\"black\" points=\"567.38,-109.82 576.66,-104.72 566.22,-102.91 567.38,-109.82\"/>\n</g>\n<!-- 132238688930352* -->\n<g id=\"node4\" class=\"node\">\n<title>132238688930352*</title>\n<ellipse fill=\"none\" stroke=\"black\" cx=\"263\" cy=\"-128.5\" rx=\"27\" ry=\"18\"/>\n<text text-anchor=\"middle\" x=\"263\" y=\"-124.8\" font-family=\"Times,serif\" font-size=\"14.00\">*</text>\n</g>\n<!-- 132238688930352*&#45;&gt;132238688930352 -->\n<g id=\"edge2\" class=\"edge\">\n<title>132238688930352*&#45;&gt;132238688930352</title>\n<path fill=\"none\" stroke=\"black\" d=\"M290.25,-128.5C297.7,-128.5 306.34,-128.5 315.59,-128.5\"/>\n<polygon fill=\"black\" stroke=\"black\" points=\"315.84,-132 325.84,-128.5 315.84,-125 315.84,-132\"/>\n</g>\n<!-- 132238688931312 -->\n<g id=\"node5\" class=\"node\">\n<title>132238688931312</title>\n<polygon fill=\"none\" stroke=\"black\" points=\"2,-165.5 2,-201.5 198,-201.5 198,-165.5 2,-165.5\"/>\n<text text-anchor=\"middle\" x=\"42\" y=\"-179.8\" font-family=\"Times,serif\" font-size=\"14.00\">data 2.0000</text>\n<polyline fill=\"none\" stroke=\"black\" points=\"82,-165.5 82,-201.5 \"/>\n<text text-anchor=\"middle\" x=\"97\" y=\"-179.8\" font-family=\"Times,serif\" font-size=\"14.00\">x1</text>\n<polyline fill=\"none\" stroke=\"black\" points=\"112,-165.5 112,-201.5 \"/>\n<text text-anchor=\"middle\" x=\"155\" y=\"-179.8\" font-family=\"Times,serif\" font-size=\"14.00\">grad &#45;1.5002</text>\n</g>\n<!-- 132238688931312&#45;&gt;132238688930352* -->\n<g id=\"edge7\" class=\"edge\">\n<title>132238688931312&#45;&gt;132238688930352*</title>\n<path fill=\"none\" stroke=\"black\" d=\"M172.53,-165.44C181.84,-162.67 191.2,-159.67 200,-156.5 210.53,-152.71 221.75,-147.9 231.72,-143.33\"/>\n<polygon fill=\"black\" stroke=\"black\" points=\"233.25,-146.48 240.82,-139.07 230.28,-140.14 233.25,-146.48\"/>\n</g>\n<!-- 132238688930448 -->\n<g id=\"node6\" class=\"node\">\n<title>132238688930448</title>\n<polygon fill=\"none\" stroke=\"black\" points=\"328.5,-55.5 328.5,-91.5 537.5,-91.5 537.5,-55.5 328.5,-55.5\"/>\n<text text-anchor=\"middle\" x=\"368.5\" y=\"-69.8\" font-family=\"Times,serif\" font-size=\"14.00\">data 0.0000</text>\n<polyline fill=\"none\" stroke=\"black\" points=\"408.5,-55.5 408.5,-91.5 \"/>\n<text text-anchor=\"middle\" x=\"432\" y=\"-69.8\" font-family=\"Times,serif\" font-size=\"14.00\">x2w2</text>\n<polyline fill=\"none\" stroke=\"black\" points=\"455.5,-55.5 455.5,-91.5 \"/>\n<text text-anchor=\"middle\" x=\"496.5\" y=\"-69.8\" font-family=\"Times,serif\" font-size=\"14.00\">grad 0.5001</text>\n</g>\n<!-- 132238688930448&#45;&gt;132238688937504+ -->\n<g id=\"edge9\" class=\"edge\">\n<title>132238688930448&#45;&gt;132238688937504+</title>\n<path fill=\"none\" stroke=\"black\" d=\"M537.53,-90.14C547.8,-91.79 557.66,-93.37 566.45,-94.79\"/>\n<polygon fill=\"black\" stroke=\"black\" points=\"566.16,-98.28 576.59,-96.42 567.27,-91.37 566.16,-98.28\"/>\n</g>\n<!-- 132238688930448* -->\n<g id=\"node7\" class=\"node\">\n<title>132238688930448*</title>\n<ellipse fill=\"none\" stroke=\"black\" cx=\"263\" cy=\"-73.5\" rx=\"27\" ry=\"18\"/>\n<text text-anchor=\"middle\" x=\"263\" y=\"-69.8\" font-family=\"Times,serif\" font-size=\"14.00\">*</text>\n</g>\n<!-- 132238688930448*&#45;&gt;132238688930448 -->\n<g id=\"edge3\" class=\"edge\">\n<title>132238688930448*&#45;&gt;132238688930448</title>\n<path fill=\"none\" stroke=\"black\" d=\"M290.25,-73.5C298.43,-73.5 308.03,-73.5 318.31,-73.5\"/>\n<polygon fill=\"black\" stroke=\"black\" points=\"318.35,-77 328.35,-73.5 318.35,-70 318.35,-77\"/>\n</g>\n<!-- 132238688939184 -->\n<g id=\"node8\" class=\"node\">\n<title>132238688939184</title>\n<polygon fill=\"none\" stroke=\"black\" points=\"668.5,-137.5 668.5,-173.5 853.5,-173.5 853.5,-137.5 668.5,-137.5\"/>\n<text text-anchor=\"middle\" x=\"708.5\" y=\"-151.8\" font-family=\"Times,serif\" font-size=\"14.00\">data 6.8813</text>\n<polyline fill=\"none\" stroke=\"black\" points=\"748.5,-137.5 748.5,-173.5 \"/>\n<text text-anchor=\"middle\" x=\"760\" y=\"-151.8\" font-family=\"Times,serif\" font-size=\"14.00\">b</text>\n<polyline fill=\"none\" stroke=\"black\" points=\"771.5,-137.5 771.5,-173.5 \"/>\n<text text-anchor=\"middle\" x=\"812.5\" y=\"-151.8\" font-family=\"Times,serif\" font-size=\"14.00\">grad 0.5001</text>\n</g>\n<!-- 132238688939184&#45;&gt;132238688942064+ -->\n<g id=\"edge12\" class=\"edge\">\n<title>132238688939184&#45;&gt;132238688942064+</title>\n<path fill=\"none\" stroke=\"black\" d=\"M853.65,-139.05C863.94,-137.2 873.91,-135.41 882.81,-133.82\"/>\n<polygon fill=\"black\" stroke=\"black\" points=\"883.48,-137.25 892.71,-132.04 882.25,-130.36 883.48,-137.25\"/>\n</g>\n<!-- 132238688938704 -->\n<g id=\"node9\" class=\"node\">\n<title>132238688938704</title>\n<polygon fill=\"none\" stroke=\"black\" points=\"1293,-109.5 1293,-145.5 1478,-145.5 1478,-109.5 1293,-109.5\"/>\n<text text-anchor=\"middle\" x=\"1333\" y=\"-123.8\" font-family=\"Times,serif\" font-size=\"14.00\">data 0.7071</text>\n<polyline fill=\"none\" stroke=\"black\" points=\"1373,-109.5 1373,-145.5 \"/>\n<text text-anchor=\"middle\" x=\"1384.5\" y=\"-123.8\" font-family=\"Times,serif\" font-size=\"14.00\">o</text>\n<polyline fill=\"none\" stroke=\"black\" points=\"1396,-109.5 1396,-145.5 \"/>\n<text text-anchor=\"middle\" x=\"1437\" y=\"-123.8\" font-family=\"Times,serif\" font-size=\"14.00\">grad 1.0000</text>\n</g>\n<!-- 132238688938704tanh -->\n<g id=\"node10\" class=\"node\">\n<title>132238688938704tanh</title>\n<ellipse fill=\"none\" stroke=\"black\" cx=\"1230\" cy=\"-127.5\" rx=\"27\" ry=\"18\"/>\n<text text-anchor=\"middle\" x=\"1230\" y=\"-123.8\" font-family=\"Times,serif\" font-size=\"14.00\">tanh</text>\n</g>\n<!-- 132238688938704tanh&#45;&gt;132238688938704 -->\n<g id=\"edge4\" class=\"edge\">\n<title>132238688938704tanh&#45;&gt;132238688938704</title>\n<path fill=\"none\" stroke=\"black\" d=\"M1257.04,-127.5C1264.58,-127.5 1273.3,-127.5 1282.57,-127.5\"/>\n<polygon fill=\"black\" stroke=\"black\" points=\"1282.81,-131 1292.81,-127.5 1282.81,-124 1282.81,-131\"/>\n</g>\n<!-- 132238688930544 -->\n<g id=\"node11\" class=\"node\">\n<title>132238688930544</title>\n<polygon fill=\"none\" stroke=\"black\" points=\"2.5,-55.5 2.5,-91.5 197.5,-91.5 197.5,-55.5 2.5,-55.5\"/>\n<text text-anchor=\"middle\" x=\"42.5\" y=\"-69.8\" font-family=\"Times,serif\" font-size=\"14.00\">data 1.0000</text>\n<polyline fill=\"none\" stroke=\"black\" points=\"82.5,-55.5 82.5,-91.5 \"/>\n<text text-anchor=\"middle\" x=\"99\" y=\"-69.8\" font-family=\"Times,serif\" font-size=\"14.00\">w2</text>\n<polyline fill=\"none\" stroke=\"black\" points=\"115.5,-55.5 115.5,-91.5 \"/>\n<text text-anchor=\"middle\" x=\"156.5\" y=\"-69.8\" font-family=\"Times,serif\" font-size=\"14.00\">grad 0.0000</text>\n</g>\n<!-- 132238688930544&#45;&gt;132238688930448* -->\n<g id=\"edge11\" class=\"edge\">\n<title>132238688930544&#45;&gt;132238688930448*</title>\n<path fill=\"none\" stroke=\"black\" d=\"M197.91,-73.5C207.65,-73.5 217.05,-73.5 225.52,-73.5\"/>\n<polygon fill=\"black\" stroke=\"black\" points=\"225.7,-77 235.7,-73.5 225.7,-70 225.7,-77\"/>\n</g>\n<!-- 132238688928144 -->\n<g id=\"node12\" class=\"node\">\n<title>132238688928144</title>\n<polygon fill=\"none\" stroke=\"black\" points=\"0,-110.5 0,-146.5 200,-146.5 200,-110.5 0,-110.5\"/>\n<text text-anchor=\"middle\" x=\"42.5\" y=\"-124.8\" font-family=\"Times,serif\" font-size=\"14.00\">data &#45;3.0000</text>\n<polyline fill=\"none\" stroke=\"black\" points=\"85,-110.5 85,-146.5 \"/>\n<text text-anchor=\"middle\" x=\"101.5\" y=\"-124.8\" font-family=\"Times,serif\" font-size=\"14.00\">w1</text>\n<polyline fill=\"none\" stroke=\"black\" points=\"118,-110.5 118,-146.5 \"/>\n<text text-anchor=\"middle\" x=\"159\" y=\"-124.8\" font-family=\"Times,serif\" font-size=\"14.00\">grad 1.0001</text>\n</g>\n<!-- 132238688928144&#45;&gt;132238688930352* -->\n<g id=\"edge6\" class=\"edge\">\n<title>132238688928144&#45;&gt;132238688930352*</title>\n<path fill=\"none\" stroke=\"black\" d=\"M200.21,-128.5C209.2,-128.5 217.86,-128.5 225.7,-128.5\"/>\n<polygon fill=\"black\" stroke=\"black\" points=\"225.85,-132 235.85,-128.5 225.85,-125 225.85,-132\"/>\n</g>\n<!-- 132238688930208 -->\n<g id=\"node13\" class=\"node\">\n<title>132238688930208</title>\n<polygon fill=\"none\" stroke=\"black\" points=\"4,-0.5 4,-36.5 196,-36.5 196,-0.5 4,-0.5\"/>\n<text text-anchor=\"middle\" x=\"44\" y=\"-14.8\" font-family=\"Times,serif\" font-size=\"14.00\">data 0.0000</text>\n<polyline fill=\"none\" stroke=\"black\" points=\"84,-0.5 84,-36.5 \"/>\n<text text-anchor=\"middle\" x=\"99\" y=\"-14.8\" font-family=\"Times,serif\" font-size=\"14.00\">x2</text>\n<polyline fill=\"none\" stroke=\"black\" points=\"114,-0.5 114,-36.5 \"/>\n<text text-anchor=\"middle\" x=\"155\" y=\"-14.8\" font-family=\"Times,serif\" font-size=\"14.00\">grad 0.5001</text>\n</g>\n<!-- 132238688930208&#45;&gt;132238688930448* -->\n<g id=\"edge13\" class=\"edge\">\n<title>132238688930208&#45;&gt;132238688930448*</title>\n<path fill=\"none\" stroke=\"black\" d=\"M169.28,-36.5C179.65,-39.61 190.16,-42.98 200,-46.5 210.28,-50.17 221.28,-54.74 231.11,-59.07\"/>\n<polygon fill=\"black\" stroke=\"black\" points=\"229.93,-62.37 240.48,-63.27 232.79,-55.99 229.93,-62.37\"/>\n</g>\n<!-- 132238688942064 -->\n<g id=\"node14\" class=\"node\">\n<title>132238688942064</title>\n<polygon fill=\"none\" stroke=\"black\" points=\"982,-109.5 982,-145.5 1167,-145.5 1167,-109.5 982,-109.5\"/>\n<text text-anchor=\"middle\" x=\"1022\" y=\"-123.8\" font-family=\"Times,serif\" font-size=\"14.00\">data 0.8813</text>\n<polyline fill=\"none\" stroke=\"black\" points=\"1062,-109.5 1062,-145.5 \"/>\n<text text-anchor=\"middle\" x=\"1073.5\" y=\"-123.8\" font-family=\"Times,serif\" font-size=\"14.00\">z</text>\n<polyline fill=\"none\" stroke=\"black\" points=\"1085,-109.5 1085,-145.5 \"/>\n<text text-anchor=\"middle\" x=\"1126\" y=\"-123.8\" font-family=\"Times,serif\" font-size=\"14.00\">grad 0.5001</text>\n</g>\n<!-- 132238688942064&#45;&gt;132238688938704tanh -->\n<g id=\"edge14\" class=\"edge\">\n<title>132238688942064&#45;&gt;132238688938704tanh</title>\n<path fill=\"none\" stroke=\"black\" d=\"M1167.01,-127.5C1176.01,-127.5 1184.74,-127.5 1192.66,-127.5\"/>\n<polygon fill=\"black\" stroke=\"black\" points=\"1192.91,-131 1202.91,-127.5 1192.91,-124 1192.91,-131\"/>\n</g>\n<!-- 132238688942064+&#45;&gt;132238688942064 -->\n<g id=\"edge5\" class=\"edge\">\n<title>132238688942064+&#45;&gt;132238688942064</title>\n<path fill=\"none\" stroke=\"black\" d=\"M946.04,-127.5C953.58,-127.5 962.3,-127.5 971.57,-127.5\"/>\n<polygon fill=\"black\" stroke=\"black\" points=\"971.81,-131 981.81,-127.5 971.81,-124 971.81,-131\"/>\n</g>\n</g>\n</svg>\n",
            "text/plain": [
              "<graphviz.graphs.Digraph at 0x784538145300>"
            ]
          },
          "metadata": {},
          "execution_count": 65
        }
      ]
    },
    {
      "cell_type": "code",
      "source": [
        "# in one go!!\n",
        "\n",
        "class Value:\n",
        "    def __init__(self, data, _children=(), _op=\"\", label = ''): #_children is tuple but set inside\n",
        "      self.data= data\n",
        "      self._prev = set(_children)\n",
        "      self._backward = lambda: None #empty function bcz for leaf node it needs to do nothing and return. therefore cant be None\n",
        "      self._op = _op\n",
        "      self.label = label\n",
        "      self.grad = 0.0\n",
        "\n",
        "\n",
        "    def __repr__(self):\n",
        "        return f\"Value(data={self.data})\"\n",
        "\n",
        "\n",
        "    def __add__(self, other): # using __add__ it will automatically be invoked when val1 + val2 is called\n",
        "      out = Value(self.data + other.data, (self, other), \"+\")\n",
        "\n",
        "      def _backward():\n",
        "        self.grad = 1.0 * out.grad\n",
        "        other.grad = 1.0 * out.grad\n",
        "      out._backward = _backward\n",
        "\n",
        "      return out\n",
        "\n",
        "\n",
        "    def __mul__(self, other): # using __mul__ it will automatically be invoked when val1*val2 is called\n",
        "      out = Value(self.data*other.data, (self, other), \"*\")\n",
        "\n",
        "      def _backward():\n",
        "        self.grad = other.data * out.grad\n",
        "        other.grad = self.data * out.grad\n",
        "      out._backward = _backward\n",
        "\n",
        "      return out\n",
        "\n",
        "    def tanh(self):\n",
        "      x = self.data\n",
        "      t = ((math.exp(2*x) - 1)/(math.exp(2*x) + 1))\n",
        "      out = Value(t, (self,), 'tanh')\n",
        "\n",
        "      def _backward():\n",
        "        self.grad = (1 - t**2) * out.grad\n",
        "      out._backward = _backward\n",
        "\n",
        "      return out\n",
        "\n",
        "\n",
        "    def backward(self):\n",
        "      topo = []\n",
        "      visited = set()\n",
        "\n",
        "      def build_topo(v):\n",
        "        if v not in visited:\n",
        "          visited.add(v)\n",
        "          for child in v._prev:\n",
        "            build_topo(child)\n",
        "          topo.append(v)\n",
        "\n",
        "      build_topo(self)\n",
        "      self.grad = 1\n",
        "\n",
        "      for i in topo[::-1]:\n",
        "        i._backward()"
      ],
      "metadata": {
        "id": "l8byQbE9tFwc"
      },
      "execution_count": 69,
      "outputs": []
    },
    {
      "cell_type": "code",
      "source": [
        "# NEURON\n",
        "\n",
        "x1 = Value(2.0, label='x1')\n",
        "x2 = Value(0.0, label='x2')\n",
        "\n",
        "w1 = Value(-3.0, label = \"w1\")\n",
        "w2 = Value(1.0, label = \"w2\")\n",
        "\n",
        "b = Value(6.8813, label=\"b\")\n",
        "\n",
        "x1w1 = x1*w1\n",
        "x1w1.label = \"x1w1\"\n",
        "\n",
        "x2w2 = x2*w2\n",
        "x2w2.label = \"x2w2\"\n",
        "\n",
        "a = x1w1 + x2w2\n",
        "a.label = \"a\"\n",
        "\n",
        "z = a + b\n",
        "z.label = \"z\"\n",
        "\n",
        "o = z.tanh()\n",
        "o.label = 'o'\n",
        "\n",
        "draw_dot(o)"
      ],
      "metadata": {
        "colab": {
          "base_uri": "https://localhost:8080/",
          "height": 321
        },
        "id": "hYFQEEZQv8Ly",
        "outputId": "f726d263-e5d4-4761-c6f2-3a7606232f49"
      },
      "execution_count": 71,
      "outputs": [
        {
          "output_type": "execute_result",
          "data": {
            "image/svg+xml": "<?xml version=\"1.0\" encoding=\"UTF-8\" standalone=\"no\"?>\n<!DOCTYPE svg PUBLIC \"-//W3C//DTD SVG 1.1//EN\"\n \"http://www.w3.org/Graphics/SVG/1.1/DTD/svg11.dtd\">\n<!-- Generated by graphviz version 2.43.0 (0)\n -->\n<!-- Title: %3 Pages: 1 -->\n<svg width=\"1486pt\" height=\"210pt\"\n viewBox=\"0.00 0.00 1486.00 210.00\" xmlns=\"http://www.w3.org/2000/svg\" xmlns:xlink=\"http://www.w3.org/1999/xlink\">\n<g id=\"graph0\" class=\"graph\" transform=\"scale(1 1) rotate(0) translate(4 206)\">\n<title>%3</title>\n<polygon fill=\"white\" stroke=\"transparent\" points=\"-4,4 -4,-206 1482,-206 1482,4 -4,4\"/>\n<!-- 132237862363648 -->\n<g id=\"node1\" class=\"node\">\n<title>132237862363648</title>\n<polygon fill=\"none\" stroke=\"black\" points=\"668.5,-137.5 668.5,-173.5 853.5,-173.5 853.5,-137.5 668.5,-137.5\"/>\n<text text-anchor=\"middle\" x=\"708.5\" y=\"-151.8\" font-family=\"Times,serif\" font-size=\"14.00\">data 6.8813</text>\n<polyline fill=\"none\" stroke=\"black\" points=\"748.5,-137.5 748.5,-173.5 \"/>\n<text text-anchor=\"middle\" x=\"760\" y=\"-151.8\" font-family=\"Times,serif\" font-size=\"14.00\">b</text>\n<polyline fill=\"none\" stroke=\"black\" points=\"771.5,-137.5 771.5,-173.5 \"/>\n<text text-anchor=\"middle\" x=\"812.5\" y=\"-151.8\" font-family=\"Times,serif\" font-size=\"14.00\">grad 0.0000</text>\n</g>\n<!-- 132237862365040+ -->\n<g id=\"node15\" class=\"node\">\n<title>132237862365040+</title>\n<ellipse fill=\"none\" stroke=\"black\" cx=\"919\" cy=\"-127.5\" rx=\"27\" ry=\"18\"/>\n<text text-anchor=\"middle\" x=\"919\" y=\"-123.8\" font-family=\"Times,serif\" font-size=\"14.00\">+</text>\n</g>\n<!-- 132237862363648&#45;&gt;132237862365040+ -->\n<g id=\"edge10\" class=\"edge\">\n<title>132237862363648&#45;&gt;132237862365040+</title>\n<path fill=\"none\" stroke=\"black\" d=\"M853.65,-139.05C863.94,-137.2 873.91,-135.41 882.81,-133.82\"/>\n<polygon fill=\"black\" stroke=\"black\" points=\"883.48,-137.25 892.71,-132.04 882.25,-130.36 883.48,-137.25\"/>\n</g>\n<!-- 132237862369840 -->\n<g id=\"node2\" class=\"node\">\n<title>132237862369840</title>\n<polygon fill=\"none\" stroke=\"black\" points=\"4,-165.5 4,-201.5 196,-201.5 196,-165.5 4,-165.5\"/>\n<text text-anchor=\"middle\" x=\"44\" y=\"-179.8\" font-family=\"Times,serif\" font-size=\"14.00\">data 2.0000</text>\n<polyline fill=\"none\" stroke=\"black\" points=\"84,-165.5 84,-201.5 \"/>\n<text text-anchor=\"middle\" x=\"99\" y=\"-179.8\" font-family=\"Times,serif\" font-size=\"14.00\">x1</text>\n<polyline fill=\"none\" stroke=\"black\" points=\"114,-165.5 114,-201.5 \"/>\n<text text-anchor=\"middle\" x=\"155\" y=\"-179.8\" font-family=\"Times,serif\" font-size=\"14.00\">grad 0.0000</text>\n</g>\n<!-- 132237862362832* -->\n<g id=\"node8\" class=\"node\">\n<title>132237862362832*</title>\n<ellipse fill=\"none\" stroke=\"black\" cx=\"263\" cy=\"-128.5\" rx=\"27\" ry=\"18\"/>\n<text text-anchor=\"middle\" x=\"263\" y=\"-124.8\" font-family=\"Times,serif\" font-size=\"14.00\">*</text>\n</g>\n<!-- 132237862369840&#45;&gt;132237862362832* -->\n<g id=\"edge6\" class=\"edge\">\n<title>132237862369840&#45;&gt;132237862362832*</title>\n<path fill=\"none\" stroke=\"black\" d=\"M172.53,-165.44C181.84,-162.67 191.2,-159.67 200,-156.5 210.53,-152.71 221.75,-147.9 231.72,-143.33\"/>\n<polygon fill=\"black\" stroke=\"black\" points=\"233.25,-146.48 240.82,-139.07 230.28,-140.14 233.25,-146.48\"/>\n</g>\n<!-- 132237862355008 -->\n<g id=\"node3\" class=\"node\">\n<title>132237862355008</title>\n<polygon fill=\"none\" stroke=\"black\" points=\"4,-55.5 4,-91.5 196,-91.5 196,-55.5 4,-55.5\"/>\n<text text-anchor=\"middle\" x=\"44\" y=\"-69.8\" font-family=\"Times,serif\" font-size=\"14.00\">data 0.0000</text>\n<polyline fill=\"none\" stroke=\"black\" points=\"84,-55.5 84,-91.5 \"/>\n<text text-anchor=\"middle\" x=\"99\" y=\"-69.8\" font-family=\"Times,serif\" font-size=\"14.00\">x2</text>\n<polyline fill=\"none\" stroke=\"black\" points=\"114,-55.5 114,-91.5 \"/>\n<text text-anchor=\"middle\" x=\"155\" y=\"-69.8\" font-family=\"Times,serif\" font-size=\"14.00\">grad 0.0000</text>\n</g>\n<!-- 132237862364416* -->\n<g id=\"node10\" class=\"node\">\n<title>132237862364416*</title>\n<ellipse fill=\"none\" stroke=\"black\" cx=\"263\" cy=\"-73.5\" rx=\"27\" ry=\"18\"/>\n<text text-anchor=\"middle\" x=\"263\" y=\"-69.8\" font-family=\"Times,serif\" font-size=\"14.00\">*</text>\n</g>\n<!-- 132237862355008&#45;&gt;132237862364416* -->\n<g id=\"edge7\" class=\"edge\">\n<title>132237862355008&#45;&gt;132237862364416*</title>\n<path fill=\"none\" stroke=\"black\" d=\"M196.05,-73.5C206.52,-73.5 216.65,-73.5 225.71,-73.5\"/>\n<polygon fill=\"black\" stroke=\"black\" points=\"225.79,-77 235.79,-73.5 225.79,-70 225.79,-77\"/>\n</g>\n<!-- 132237862356064 -->\n<g id=\"node4\" class=\"node\">\n<title>132237862356064</title>\n<polygon fill=\"none\" stroke=\"black\" points=\"2.5,-0.5 2.5,-36.5 197.5,-36.5 197.5,-0.5 2.5,-0.5\"/>\n<text text-anchor=\"middle\" x=\"42.5\" y=\"-14.8\" font-family=\"Times,serif\" font-size=\"14.00\">data 1.0000</text>\n<polyline fill=\"none\" stroke=\"black\" points=\"82.5,-0.5 82.5,-36.5 \"/>\n<text text-anchor=\"middle\" x=\"99\" y=\"-14.8\" font-family=\"Times,serif\" font-size=\"14.00\">w2</text>\n<polyline fill=\"none\" stroke=\"black\" points=\"115.5,-0.5 115.5,-36.5 \"/>\n<text text-anchor=\"middle\" x=\"156.5\" y=\"-14.8\" font-family=\"Times,serif\" font-size=\"14.00\">grad 0.0000</text>\n</g>\n<!-- 132237862356064&#45;&gt;132237862364416* -->\n<g id=\"edge8\" class=\"edge\">\n<title>132237862356064&#45;&gt;132237862364416*</title>\n<path fill=\"none\" stroke=\"black\" d=\"M169.28,-36.5C179.65,-39.61 190.16,-42.98 200,-46.5 210.28,-50.17 221.28,-54.74 231.11,-59.07\"/>\n<polygon fill=\"black\" stroke=\"black\" points=\"229.93,-62.37 240.48,-63.27 232.79,-55.99 229.93,-62.37\"/>\n</g>\n<!-- 132237862364320 -->\n<g id=\"node5\" class=\"node\">\n<title>132237862364320</title>\n<polygon fill=\"none\" stroke=\"black\" points=\"1293,-109.5 1293,-145.5 1478,-145.5 1478,-109.5 1293,-109.5\"/>\n<text text-anchor=\"middle\" x=\"1333\" y=\"-123.8\" font-family=\"Times,serif\" font-size=\"14.00\">data 0.7071</text>\n<polyline fill=\"none\" stroke=\"black\" points=\"1373,-109.5 1373,-145.5 \"/>\n<text text-anchor=\"middle\" x=\"1384.5\" y=\"-123.8\" font-family=\"Times,serif\" font-size=\"14.00\">o</text>\n<polyline fill=\"none\" stroke=\"black\" points=\"1396,-109.5 1396,-145.5 \"/>\n<text text-anchor=\"middle\" x=\"1437\" y=\"-123.8\" font-family=\"Times,serif\" font-size=\"14.00\">grad 0.0000</text>\n</g>\n<!-- 132237862364320tanh -->\n<g id=\"node6\" class=\"node\">\n<title>132237862364320tanh</title>\n<ellipse fill=\"none\" stroke=\"black\" cx=\"1230\" cy=\"-127.5\" rx=\"27\" ry=\"18\"/>\n<text text-anchor=\"middle\" x=\"1230\" y=\"-123.8\" font-family=\"Times,serif\" font-size=\"14.00\">tanh</text>\n</g>\n<!-- 132237862364320tanh&#45;&gt;132237862364320 -->\n<g id=\"edge1\" class=\"edge\">\n<title>132237862364320tanh&#45;&gt;132237862364320</title>\n<path fill=\"none\" stroke=\"black\" d=\"M1257.04,-127.5C1264.58,-127.5 1273.3,-127.5 1282.57,-127.5\"/>\n<polygon fill=\"black\" stroke=\"black\" points=\"1282.81,-131 1292.81,-127.5 1282.81,-124 1282.81,-131\"/>\n</g>\n<!-- 132237862362832 -->\n<g id=\"node7\" class=\"node\">\n<title>132237862362832</title>\n<polygon fill=\"none\" stroke=\"black\" points=\"326,-110.5 326,-146.5 540,-146.5 540,-110.5 326,-110.5\"/>\n<text text-anchor=\"middle\" x=\"368.5\" y=\"-124.8\" font-family=\"Times,serif\" font-size=\"14.00\">data &#45;6.0000</text>\n<polyline fill=\"none\" stroke=\"black\" points=\"411,-110.5 411,-146.5 \"/>\n<text text-anchor=\"middle\" x=\"434.5\" y=\"-124.8\" font-family=\"Times,serif\" font-size=\"14.00\">x1w1</text>\n<polyline fill=\"none\" stroke=\"black\" points=\"458,-110.5 458,-146.5 \"/>\n<text text-anchor=\"middle\" x=\"499\" y=\"-124.8\" font-family=\"Times,serif\" font-size=\"14.00\">grad 0.0000</text>\n</g>\n<!-- 132237862357264+ -->\n<g id=\"node12\" class=\"node\">\n<title>132237862357264+</title>\n<ellipse fill=\"none\" stroke=\"black\" cx=\"603\" cy=\"-100.5\" rx=\"27\" ry=\"18\"/>\n<text text-anchor=\"middle\" x=\"603\" y=\"-96.8\" font-family=\"Times,serif\" font-size=\"14.00\">+</text>\n</g>\n<!-- 132237862362832&#45;&gt;132237862357264+ -->\n<g id=\"edge14\" class=\"edge\">\n<title>132237862362832&#45;&gt;132237862357264+</title>\n<path fill=\"none\" stroke=\"black\" d=\"M540.4,-110.77C549.72,-109.21 558.65,-107.72 566.68,-106.39\"/>\n<polygon fill=\"black\" stroke=\"black\" points=\"567.38,-109.82 576.66,-104.72 566.22,-102.91 567.38,-109.82\"/>\n</g>\n<!-- 132237862362832*&#45;&gt;132237862362832 -->\n<g id=\"edge2\" class=\"edge\">\n<title>132237862362832*&#45;&gt;132237862362832</title>\n<path fill=\"none\" stroke=\"black\" d=\"M290.25,-128.5C297.7,-128.5 306.34,-128.5 315.59,-128.5\"/>\n<polygon fill=\"black\" stroke=\"black\" points=\"315.84,-132 325.84,-128.5 315.84,-125 315.84,-132\"/>\n</g>\n<!-- 132237862364416 -->\n<g id=\"node9\" class=\"node\">\n<title>132237862364416</title>\n<polygon fill=\"none\" stroke=\"black\" points=\"328.5,-55.5 328.5,-91.5 537.5,-91.5 537.5,-55.5 328.5,-55.5\"/>\n<text text-anchor=\"middle\" x=\"368.5\" y=\"-69.8\" font-family=\"Times,serif\" font-size=\"14.00\">data 0.0000</text>\n<polyline fill=\"none\" stroke=\"black\" points=\"408.5,-55.5 408.5,-91.5 \"/>\n<text text-anchor=\"middle\" x=\"432\" y=\"-69.8\" font-family=\"Times,serif\" font-size=\"14.00\">x2w2</text>\n<polyline fill=\"none\" stroke=\"black\" points=\"455.5,-55.5 455.5,-91.5 \"/>\n<text text-anchor=\"middle\" x=\"496.5\" y=\"-69.8\" font-family=\"Times,serif\" font-size=\"14.00\">grad 0.0000</text>\n</g>\n<!-- 132237862364416&#45;&gt;132237862357264+ -->\n<g id=\"edge13\" class=\"edge\">\n<title>132237862364416&#45;&gt;132237862357264+</title>\n<path fill=\"none\" stroke=\"black\" d=\"M537.53,-90.14C547.8,-91.79 557.66,-93.37 566.45,-94.79\"/>\n<polygon fill=\"black\" stroke=\"black\" points=\"566.16,-98.28 576.59,-96.42 567.27,-91.37 566.16,-98.28\"/>\n</g>\n<!-- 132237862364416*&#45;&gt;132237862364416 -->\n<g id=\"edge3\" class=\"edge\">\n<title>132237862364416*&#45;&gt;132237862364416</title>\n<path fill=\"none\" stroke=\"black\" d=\"M290.25,-73.5C298.43,-73.5 308.03,-73.5 318.31,-73.5\"/>\n<polygon fill=\"black\" stroke=\"black\" points=\"318.35,-77 328.35,-73.5 318.35,-70 318.35,-77\"/>\n</g>\n<!-- 132237862357264 -->\n<g id=\"node11\" class=\"node\">\n<title>132237862357264</title>\n<polygon fill=\"none\" stroke=\"black\" points=\"666,-82.5 666,-118.5 856,-118.5 856,-82.5 666,-82.5\"/>\n<text text-anchor=\"middle\" x=\"708.5\" y=\"-96.8\" font-family=\"Times,serif\" font-size=\"14.00\">data &#45;6.0000</text>\n<polyline fill=\"none\" stroke=\"black\" points=\"751,-82.5 751,-118.5 \"/>\n<text text-anchor=\"middle\" x=\"762.5\" y=\"-96.8\" font-family=\"Times,serif\" font-size=\"14.00\">a</text>\n<polyline fill=\"none\" stroke=\"black\" points=\"774,-82.5 774,-118.5 \"/>\n<text text-anchor=\"middle\" x=\"815\" y=\"-96.8\" font-family=\"Times,serif\" font-size=\"14.00\">grad 0.0000</text>\n</g>\n<!-- 132237862357264&#45;&gt;132237862365040+ -->\n<g id=\"edge11\" class=\"edge\">\n<title>132237862357264&#45;&gt;132237862365040+</title>\n<path fill=\"none\" stroke=\"black\" d=\"M856.34,-116.83C865.62,-118.44 874.58,-119.99 882.66,-121.38\"/>\n<polygon fill=\"black\" stroke=\"black\" points=\"882.27,-124.87 892.72,-123.12 883.46,-117.97 882.27,-124.87\"/>\n</g>\n<!-- 132237862357264+&#45;&gt;132237862357264 -->\n<g id=\"edge4\" class=\"edge\">\n<title>132237862357264+&#45;&gt;132237862357264</title>\n<path fill=\"none\" stroke=\"black\" d=\"M630.11,-100.5C637.63,-100.5 646.32,-100.5 655.58,-100.5\"/>\n<polygon fill=\"black\" stroke=\"black\" points=\"655.81,-104 665.81,-100.5 655.81,-97 655.81,-104\"/>\n</g>\n<!-- 132237862361440 -->\n<g id=\"node13\" class=\"node\">\n<title>132237862361440</title>\n<polygon fill=\"none\" stroke=\"black\" points=\"0,-110.5 0,-146.5 200,-146.5 200,-110.5 0,-110.5\"/>\n<text text-anchor=\"middle\" x=\"42.5\" y=\"-124.8\" font-family=\"Times,serif\" font-size=\"14.00\">data &#45;3.0000</text>\n<polyline fill=\"none\" stroke=\"black\" points=\"85,-110.5 85,-146.5 \"/>\n<text text-anchor=\"middle\" x=\"101.5\" y=\"-124.8\" font-family=\"Times,serif\" font-size=\"14.00\">w1</text>\n<polyline fill=\"none\" stroke=\"black\" points=\"118,-110.5 118,-146.5 \"/>\n<text text-anchor=\"middle\" x=\"159\" y=\"-124.8\" font-family=\"Times,serif\" font-size=\"14.00\">grad 0.0000</text>\n</g>\n<!-- 132237862361440&#45;&gt;132237862362832* -->\n<g id=\"edge9\" class=\"edge\">\n<title>132237862361440&#45;&gt;132237862362832*</title>\n<path fill=\"none\" stroke=\"black\" d=\"M200.21,-128.5C209.2,-128.5 217.86,-128.5 225.7,-128.5\"/>\n<polygon fill=\"black\" stroke=\"black\" points=\"225.85,-132 235.85,-128.5 225.85,-125 225.85,-132\"/>\n</g>\n<!-- 132237862365040 -->\n<g id=\"node14\" class=\"node\">\n<title>132237862365040</title>\n<polygon fill=\"none\" stroke=\"black\" points=\"982,-109.5 982,-145.5 1167,-145.5 1167,-109.5 982,-109.5\"/>\n<text text-anchor=\"middle\" x=\"1022\" y=\"-123.8\" font-family=\"Times,serif\" font-size=\"14.00\">data 0.8813</text>\n<polyline fill=\"none\" stroke=\"black\" points=\"1062,-109.5 1062,-145.5 \"/>\n<text text-anchor=\"middle\" x=\"1073.5\" y=\"-123.8\" font-family=\"Times,serif\" font-size=\"14.00\">z</text>\n<polyline fill=\"none\" stroke=\"black\" points=\"1085,-109.5 1085,-145.5 \"/>\n<text text-anchor=\"middle\" x=\"1126\" y=\"-123.8\" font-family=\"Times,serif\" font-size=\"14.00\">grad 0.0000</text>\n</g>\n<!-- 132237862365040&#45;&gt;132237862364320tanh -->\n<g id=\"edge12\" class=\"edge\">\n<title>132237862365040&#45;&gt;132237862364320tanh</title>\n<path fill=\"none\" stroke=\"black\" d=\"M1167.01,-127.5C1176.01,-127.5 1184.74,-127.5 1192.66,-127.5\"/>\n<polygon fill=\"black\" stroke=\"black\" points=\"1192.91,-131 1202.91,-127.5 1192.91,-124 1192.91,-131\"/>\n</g>\n<!-- 132237862365040+&#45;&gt;132237862365040 -->\n<g id=\"edge5\" class=\"edge\">\n<title>132237862365040+&#45;&gt;132237862365040</title>\n<path fill=\"none\" stroke=\"black\" d=\"M946.04,-127.5C953.58,-127.5 962.3,-127.5 971.57,-127.5\"/>\n<polygon fill=\"black\" stroke=\"black\" points=\"971.81,-131 981.81,-127.5 971.81,-124 971.81,-131\"/>\n</g>\n</g>\n</svg>\n",
            "text/plain": [
              "<graphviz.graphs.Digraph at 0x784506cff340>"
            ]
          },
          "metadata": {},
          "execution_count": 71
        }
      ]
    },
    {
      "cell_type": "code",
      "source": [
        "o.backward()"
      ],
      "metadata": {
        "id": "eYp1vXHxuspK"
      },
      "execution_count": 72,
      "outputs": []
    },
    {
      "cell_type": "code",
      "source": [
        "draw_dot(o)"
      ],
      "metadata": {
        "colab": {
          "base_uri": "https://localhost:8080/",
          "height": 321
        },
        "id": "iRhhbiXuut14",
        "outputId": "39cca223-3cf2-4ab4-e391-08d278fbccd9"
      },
      "execution_count": 73,
      "outputs": [
        {
          "output_type": "execute_result",
          "data": {
            "image/svg+xml": "<?xml version=\"1.0\" encoding=\"UTF-8\" standalone=\"no\"?>\n<!DOCTYPE svg PUBLIC \"-//W3C//DTD SVG 1.1//EN\"\n \"http://www.w3.org/Graphics/SVG/1.1/DTD/svg11.dtd\">\n<!-- Generated by graphviz version 2.43.0 (0)\n -->\n<!-- Title: %3 Pages: 1 -->\n<svg width=\"1486pt\" height=\"210pt\"\n viewBox=\"0.00 0.00 1486.00 210.00\" xmlns=\"http://www.w3.org/2000/svg\" xmlns:xlink=\"http://www.w3.org/1999/xlink\">\n<g id=\"graph0\" class=\"graph\" transform=\"scale(1 1) rotate(0) translate(4 206)\">\n<title>%3</title>\n<polygon fill=\"white\" stroke=\"transparent\" points=\"-4,4 -4,-206 1482,-206 1482,4 -4,4\"/>\n<!-- 132237862363648 -->\n<g id=\"node1\" class=\"node\">\n<title>132237862363648</title>\n<polygon fill=\"none\" stroke=\"black\" points=\"668.5,-137.5 668.5,-173.5 853.5,-173.5 853.5,-137.5 668.5,-137.5\"/>\n<text text-anchor=\"middle\" x=\"708.5\" y=\"-151.8\" font-family=\"Times,serif\" font-size=\"14.00\">data 6.8813</text>\n<polyline fill=\"none\" stroke=\"black\" points=\"748.5,-137.5 748.5,-173.5 \"/>\n<text text-anchor=\"middle\" x=\"760\" y=\"-151.8\" font-family=\"Times,serif\" font-size=\"14.00\">b</text>\n<polyline fill=\"none\" stroke=\"black\" points=\"771.5,-137.5 771.5,-173.5 \"/>\n<text text-anchor=\"middle\" x=\"812.5\" y=\"-151.8\" font-family=\"Times,serif\" font-size=\"14.00\">grad 0.5001</text>\n</g>\n<!-- 132237862365040+ -->\n<g id=\"node15\" class=\"node\">\n<title>132237862365040+</title>\n<ellipse fill=\"none\" stroke=\"black\" cx=\"919\" cy=\"-127.5\" rx=\"27\" ry=\"18\"/>\n<text text-anchor=\"middle\" x=\"919\" y=\"-123.8\" font-family=\"Times,serif\" font-size=\"14.00\">+</text>\n</g>\n<!-- 132237862363648&#45;&gt;132237862365040+ -->\n<g id=\"edge10\" class=\"edge\">\n<title>132237862363648&#45;&gt;132237862365040+</title>\n<path fill=\"none\" stroke=\"black\" d=\"M853.65,-139.05C863.94,-137.2 873.91,-135.41 882.81,-133.82\"/>\n<polygon fill=\"black\" stroke=\"black\" points=\"883.48,-137.25 892.71,-132.04 882.25,-130.36 883.48,-137.25\"/>\n</g>\n<!-- 132237862369840 -->\n<g id=\"node2\" class=\"node\">\n<title>132237862369840</title>\n<polygon fill=\"none\" stroke=\"black\" points=\"2,-165.5 2,-201.5 198,-201.5 198,-165.5 2,-165.5\"/>\n<text text-anchor=\"middle\" x=\"42\" y=\"-179.8\" font-family=\"Times,serif\" font-size=\"14.00\">data 2.0000</text>\n<polyline fill=\"none\" stroke=\"black\" points=\"82,-165.5 82,-201.5 \"/>\n<text text-anchor=\"middle\" x=\"97\" y=\"-179.8\" font-family=\"Times,serif\" font-size=\"14.00\">x1</text>\n<polyline fill=\"none\" stroke=\"black\" points=\"112,-165.5 112,-201.5 \"/>\n<text text-anchor=\"middle\" x=\"155\" y=\"-179.8\" font-family=\"Times,serif\" font-size=\"14.00\">grad &#45;1.5002</text>\n</g>\n<!-- 132237862362832* -->\n<g id=\"node8\" class=\"node\">\n<title>132237862362832*</title>\n<ellipse fill=\"none\" stroke=\"black\" cx=\"263\" cy=\"-128.5\" rx=\"27\" ry=\"18\"/>\n<text text-anchor=\"middle\" x=\"263\" y=\"-124.8\" font-family=\"Times,serif\" font-size=\"14.00\">*</text>\n</g>\n<!-- 132237862369840&#45;&gt;132237862362832* -->\n<g id=\"edge6\" class=\"edge\">\n<title>132237862369840&#45;&gt;132237862362832*</title>\n<path fill=\"none\" stroke=\"black\" d=\"M172.53,-165.44C181.84,-162.67 191.2,-159.67 200,-156.5 210.53,-152.71 221.75,-147.9 231.72,-143.33\"/>\n<polygon fill=\"black\" stroke=\"black\" points=\"233.25,-146.48 240.82,-139.07 230.28,-140.14 233.25,-146.48\"/>\n</g>\n<!-- 132237862355008 -->\n<g id=\"node3\" class=\"node\">\n<title>132237862355008</title>\n<polygon fill=\"none\" stroke=\"black\" points=\"4,-55.5 4,-91.5 196,-91.5 196,-55.5 4,-55.5\"/>\n<text text-anchor=\"middle\" x=\"44\" y=\"-69.8\" font-family=\"Times,serif\" font-size=\"14.00\">data 0.0000</text>\n<polyline fill=\"none\" stroke=\"black\" points=\"84,-55.5 84,-91.5 \"/>\n<text text-anchor=\"middle\" x=\"99\" y=\"-69.8\" font-family=\"Times,serif\" font-size=\"14.00\">x2</text>\n<polyline fill=\"none\" stroke=\"black\" points=\"114,-55.5 114,-91.5 \"/>\n<text text-anchor=\"middle\" x=\"155\" y=\"-69.8\" font-family=\"Times,serif\" font-size=\"14.00\">grad 0.5001</text>\n</g>\n<!-- 132237862364416* -->\n<g id=\"node10\" class=\"node\">\n<title>132237862364416*</title>\n<ellipse fill=\"none\" stroke=\"black\" cx=\"263\" cy=\"-73.5\" rx=\"27\" ry=\"18\"/>\n<text text-anchor=\"middle\" x=\"263\" y=\"-69.8\" font-family=\"Times,serif\" font-size=\"14.00\">*</text>\n</g>\n<!-- 132237862355008&#45;&gt;132237862364416* -->\n<g id=\"edge7\" class=\"edge\">\n<title>132237862355008&#45;&gt;132237862364416*</title>\n<path fill=\"none\" stroke=\"black\" d=\"M196.05,-73.5C206.52,-73.5 216.65,-73.5 225.71,-73.5\"/>\n<polygon fill=\"black\" stroke=\"black\" points=\"225.79,-77 235.79,-73.5 225.79,-70 225.79,-77\"/>\n</g>\n<!-- 132237862356064 -->\n<g id=\"node4\" class=\"node\">\n<title>132237862356064</title>\n<polygon fill=\"none\" stroke=\"black\" points=\"2.5,-0.5 2.5,-36.5 197.5,-36.5 197.5,-0.5 2.5,-0.5\"/>\n<text text-anchor=\"middle\" x=\"42.5\" y=\"-14.8\" font-family=\"Times,serif\" font-size=\"14.00\">data 1.0000</text>\n<polyline fill=\"none\" stroke=\"black\" points=\"82.5,-0.5 82.5,-36.5 \"/>\n<text text-anchor=\"middle\" x=\"99\" y=\"-14.8\" font-family=\"Times,serif\" font-size=\"14.00\">w2</text>\n<polyline fill=\"none\" stroke=\"black\" points=\"115.5,-0.5 115.5,-36.5 \"/>\n<text text-anchor=\"middle\" x=\"156.5\" y=\"-14.8\" font-family=\"Times,serif\" font-size=\"14.00\">grad 0.0000</text>\n</g>\n<!-- 132237862356064&#45;&gt;132237862364416* -->\n<g id=\"edge8\" class=\"edge\">\n<title>132237862356064&#45;&gt;132237862364416*</title>\n<path fill=\"none\" stroke=\"black\" d=\"M169.28,-36.5C179.65,-39.61 190.16,-42.98 200,-46.5 210.28,-50.17 221.28,-54.74 231.11,-59.07\"/>\n<polygon fill=\"black\" stroke=\"black\" points=\"229.93,-62.37 240.48,-63.27 232.79,-55.99 229.93,-62.37\"/>\n</g>\n<!-- 132237862364320 -->\n<g id=\"node5\" class=\"node\">\n<title>132237862364320</title>\n<polygon fill=\"none\" stroke=\"black\" points=\"1293,-109.5 1293,-145.5 1478,-145.5 1478,-109.5 1293,-109.5\"/>\n<text text-anchor=\"middle\" x=\"1333\" y=\"-123.8\" font-family=\"Times,serif\" font-size=\"14.00\">data 0.7071</text>\n<polyline fill=\"none\" stroke=\"black\" points=\"1373,-109.5 1373,-145.5 \"/>\n<text text-anchor=\"middle\" x=\"1384.5\" y=\"-123.8\" font-family=\"Times,serif\" font-size=\"14.00\">o</text>\n<polyline fill=\"none\" stroke=\"black\" points=\"1396,-109.5 1396,-145.5 \"/>\n<text text-anchor=\"middle\" x=\"1437\" y=\"-123.8\" font-family=\"Times,serif\" font-size=\"14.00\">grad 1.0000</text>\n</g>\n<!-- 132237862364320tanh -->\n<g id=\"node6\" class=\"node\">\n<title>132237862364320tanh</title>\n<ellipse fill=\"none\" stroke=\"black\" cx=\"1230\" cy=\"-127.5\" rx=\"27\" ry=\"18\"/>\n<text text-anchor=\"middle\" x=\"1230\" y=\"-123.8\" font-family=\"Times,serif\" font-size=\"14.00\">tanh</text>\n</g>\n<!-- 132237862364320tanh&#45;&gt;132237862364320 -->\n<g id=\"edge1\" class=\"edge\">\n<title>132237862364320tanh&#45;&gt;132237862364320</title>\n<path fill=\"none\" stroke=\"black\" d=\"M1257.04,-127.5C1264.58,-127.5 1273.3,-127.5 1282.57,-127.5\"/>\n<polygon fill=\"black\" stroke=\"black\" points=\"1282.81,-131 1292.81,-127.5 1282.81,-124 1282.81,-131\"/>\n</g>\n<!-- 132237862362832 -->\n<g id=\"node7\" class=\"node\">\n<title>132237862362832</title>\n<polygon fill=\"none\" stroke=\"black\" points=\"326,-110.5 326,-146.5 540,-146.5 540,-110.5 326,-110.5\"/>\n<text text-anchor=\"middle\" x=\"368.5\" y=\"-124.8\" font-family=\"Times,serif\" font-size=\"14.00\">data &#45;6.0000</text>\n<polyline fill=\"none\" stroke=\"black\" points=\"411,-110.5 411,-146.5 \"/>\n<text text-anchor=\"middle\" x=\"434.5\" y=\"-124.8\" font-family=\"Times,serif\" font-size=\"14.00\">x1w1</text>\n<polyline fill=\"none\" stroke=\"black\" points=\"458,-110.5 458,-146.5 \"/>\n<text text-anchor=\"middle\" x=\"499\" y=\"-124.8\" font-family=\"Times,serif\" font-size=\"14.00\">grad 0.5001</text>\n</g>\n<!-- 132237862357264+ -->\n<g id=\"node12\" class=\"node\">\n<title>132237862357264+</title>\n<ellipse fill=\"none\" stroke=\"black\" cx=\"603\" cy=\"-100.5\" rx=\"27\" ry=\"18\"/>\n<text text-anchor=\"middle\" x=\"603\" y=\"-96.8\" font-family=\"Times,serif\" font-size=\"14.00\">+</text>\n</g>\n<!-- 132237862362832&#45;&gt;132237862357264+ -->\n<g id=\"edge14\" class=\"edge\">\n<title>132237862362832&#45;&gt;132237862357264+</title>\n<path fill=\"none\" stroke=\"black\" d=\"M540.4,-110.77C549.72,-109.21 558.65,-107.72 566.68,-106.39\"/>\n<polygon fill=\"black\" stroke=\"black\" points=\"567.38,-109.82 576.66,-104.72 566.22,-102.91 567.38,-109.82\"/>\n</g>\n<!-- 132237862362832*&#45;&gt;132237862362832 -->\n<g id=\"edge2\" class=\"edge\">\n<title>132237862362832*&#45;&gt;132237862362832</title>\n<path fill=\"none\" stroke=\"black\" d=\"M290.25,-128.5C297.7,-128.5 306.34,-128.5 315.59,-128.5\"/>\n<polygon fill=\"black\" stroke=\"black\" points=\"315.84,-132 325.84,-128.5 315.84,-125 315.84,-132\"/>\n</g>\n<!-- 132237862364416 -->\n<g id=\"node9\" class=\"node\">\n<title>132237862364416</title>\n<polygon fill=\"none\" stroke=\"black\" points=\"328.5,-55.5 328.5,-91.5 537.5,-91.5 537.5,-55.5 328.5,-55.5\"/>\n<text text-anchor=\"middle\" x=\"368.5\" y=\"-69.8\" font-family=\"Times,serif\" font-size=\"14.00\">data 0.0000</text>\n<polyline fill=\"none\" stroke=\"black\" points=\"408.5,-55.5 408.5,-91.5 \"/>\n<text text-anchor=\"middle\" x=\"432\" y=\"-69.8\" font-family=\"Times,serif\" font-size=\"14.00\">x2w2</text>\n<polyline fill=\"none\" stroke=\"black\" points=\"455.5,-55.5 455.5,-91.5 \"/>\n<text text-anchor=\"middle\" x=\"496.5\" y=\"-69.8\" font-family=\"Times,serif\" font-size=\"14.00\">grad 0.5001</text>\n</g>\n<!-- 132237862364416&#45;&gt;132237862357264+ -->\n<g id=\"edge13\" class=\"edge\">\n<title>132237862364416&#45;&gt;132237862357264+</title>\n<path fill=\"none\" stroke=\"black\" d=\"M537.53,-90.14C547.8,-91.79 557.66,-93.37 566.45,-94.79\"/>\n<polygon fill=\"black\" stroke=\"black\" points=\"566.16,-98.28 576.59,-96.42 567.27,-91.37 566.16,-98.28\"/>\n</g>\n<!-- 132237862364416*&#45;&gt;132237862364416 -->\n<g id=\"edge3\" class=\"edge\">\n<title>132237862364416*&#45;&gt;132237862364416</title>\n<path fill=\"none\" stroke=\"black\" d=\"M290.25,-73.5C298.43,-73.5 308.03,-73.5 318.31,-73.5\"/>\n<polygon fill=\"black\" stroke=\"black\" points=\"318.35,-77 328.35,-73.5 318.35,-70 318.35,-77\"/>\n</g>\n<!-- 132237862357264 -->\n<g id=\"node11\" class=\"node\">\n<title>132237862357264</title>\n<polygon fill=\"none\" stroke=\"black\" points=\"666,-82.5 666,-118.5 856,-118.5 856,-82.5 666,-82.5\"/>\n<text text-anchor=\"middle\" x=\"708.5\" y=\"-96.8\" font-family=\"Times,serif\" font-size=\"14.00\">data &#45;6.0000</text>\n<polyline fill=\"none\" stroke=\"black\" points=\"751,-82.5 751,-118.5 \"/>\n<text text-anchor=\"middle\" x=\"762.5\" y=\"-96.8\" font-family=\"Times,serif\" font-size=\"14.00\">a</text>\n<polyline fill=\"none\" stroke=\"black\" points=\"774,-82.5 774,-118.5 \"/>\n<text text-anchor=\"middle\" x=\"815\" y=\"-96.8\" font-family=\"Times,serif\" font-size=\"14.00\">grad 0.5001</text>\n</g>\n<!-- 132237862357264&#45;&gt;132237862365040+ -->\n<g id=\"edge11\" class=\"edge\">\n<title>132237862357264&#45;&gt;132237862365040+</title>\n<path fill=\"none\" stroke=\"black\" d=\"M856.34,-116.83C865.62,-118.44 874.58,-119.99 882.66,-121.38\"/>\n<polygon fill=\"black\" stroke=\"black\" points=\"882.27,-124.87 892.72,-123.12 883.46,-117.97 882.27,-124.87\"/>\n</g>\n<!-- 132237862357264+&#45;&gt;132237862357264 -->\n<g id=\"edge4\" class=\"edge\">\n<title>132237862357264+&#45;&gt;132237862357264</title>\n<path fill=\"none\" stroke=\"black\" d=\"M630.11,-100.5C637.63,-100.5 646.32,-100.5 655.58,-100.5\"/>\n<polygon fill=\"black\" stroke=\"black\" points=\"655.81,-104 665.81,-100.5 655.81,-97 655.81,-104\"/>\n</g>\n<!-- 132237862361440 -->\n<g id=\"node13\" class=\"node\">\n<title>132237862361440</title>\n<polygon fill=\"none\" stroke=\"black\" points=\"0,-110.5 0,-146.5 200,-146.5 200,-110.5 0,-110.5\"/>\n<text text-anchor=\"middle\" x=\"42.5\" y=\"-124.8\" font-family=\"Times,serif\" font-size=\"14.00\">data &#45;3.0000</text>\n<polyline fill=\"none\" stroke=\"black\" points=\"85,-110.5 85,-146.5 \"/>\n<text text-anchor=\"middle\" x=\"101.5\" y=\"-124.8\" font-family=\"Times,serif\" font-size=\"14.00\">w1</text>\n<polyline fill=\"none\" stroke=\"black\" points=\"118,-110.5 118,-146.5 \"/>\n<text text-anchor=\"middle\" x=\"159\" y=\"-124.8\" font-family=\"Times,serif\" font-size=\"14.00\">grad 1.0001</text>\n</g>\n<!-- 132237862361440&#45;&gt;132237862362832* -->\n<g id=\"edge9\" class=\"edge\">\n<title>132237862361440&#45;&gt;132237862362832*</title>\n<path fill=\"none\" stroke=\"black\" d=\"M200.21,-128.5C209.2,-128.5 217.86,-128.5 225.7,-128.5\"/>\n<polygon fill=\"black\" stroke=\"black\" points=\"225.85,-132 235.85,-128.5 225.85,-125 225.85,-132\"/>\n</g>\n<!-- 132237862365040 -->\n<g id=\"node14\" class=\"node\">\n<title>132237862365040</title>\n<polygon fill=\"none\" stroke=\"black\" points=\"982,-109.5 982,-145.5 1167,-145.5 1167,-109.5 982,-109.5\"/>\n<text text-anchor=\"middle\" x=\"1022\" y=\"-123.8\" font-family=\"Times,serif\" font-size=\"14.00\">data 0.8813</text>\n<polyline fill=\"none\" stroke=\"black\" points=\"1062,-109.5 1062,-145.5 \"/>\n<text text-anchor=\"middle\" x=\"1073.5\" y=\"-123.8\" font-family=\"Times,serif\" font-size=\"14.00\">z</text>\n<polyline fill=\"none\" stroke=\"black\" points=\"1085,-109.5 1085,-145.5 \"/>\n<text text-anchor=\"middle\" x=\"1126\" y=\"-123.8\" font-family=\"Times,serif\" font-size=\"14.00\">grad 0.5001</text>\n</g>\n<!-- 132237862365040&#45;&gt;132237862364320tanh -->\n<g id=\"edge12\" class=\"edge\">\n<title>132237862365040&#45;&gt;132237862364320tanh</title>\n<path fill=\"none\" stroke=\"black\" d=\"M1167.01,-127.5C1176.01,-127.5 1184.74,-127.5 1192.66,-127.5\"/>\n<polygon fill=\"black\" stroke=\"black\" points=\"1192.91,-131 1202.91,-127.5 1192.91,-124 1192.91,-131\"/>\n</g>\n<!-- 132237862365040+&#45;&gt;132237862365040 -->\n<g id=\"edge5\" class=\"edge\">\n<title>132237862365040+&#45;&gt;132237862365040</title>\n<path fill=\"none\" stroke=\"black\" d=\"M946.04,-127.5C953.58,-127.5 962.3,-127.5 971.57,-127.5\"/>\n<polygon fill=\"black\" stroke=\"black\" points=\"971.81,-131 981.81,-127.5 971.81,-124 971.81,-131\"/>\n</g>\n</g>\n</svg>\n",
            "text/plain": [
              "<graphviz.graphs.Digraph at 0x784506cfe110>"
            ]
          },
          "metadata": {},
          "execution_count": 73
        }
      ]
    },
    {
      "cell_type": "markdown",
      "source": [
        "BAD BUG"
      ],
      "metadata": {
        "id": "3n7QGj7bwYXY"
      }
    },
    {
      "cell_type": "code",
      "source": [
        "a = Value(3.0, label = 'a')\n",
        "b = a + a; b.albel = b\n",
        "b.backward()\n",
        "draw_dot(b)"
      ],
      "metadata": {
        "colab": {
          "base_uri": "https://localhost:8080/",
          "height": 81
        },
        "id": "xYNPso2lv_Br",
        "outputId": "f0bea2b6-cc61-479e-cc65-41b189a7d861"
      },
      "execution_count": 74,
      "outputs": [
        {
          "output_type": "execute_result",
          "data": {
            "image/svg+xml": "<?xml version=\"1.0\" encoding=\"UTF-8\" standalone=\"no\"?>\n<!DOCTYPE svg PUBLIC \"-//W3C//DTD SVG 1.1//EN\"\n \"http://www.w3.org/Graphics/SVG/1.1/DTD/svg11.dtd\">\n<!-- Generated by graphviz version 2.43.0 (0)\n -->\n<!-- Title: %3 Pages: 1 -->\n<svg width=\"501pt\" height=\"45pt\"\n viewBox=\"0.00 0.00 501.00 45.00\" xmlns=\"http://www.w3.org/2000/svg\" xmlns:xlink=\"http://www.w3.org/1999/xlink\">\n<g id=\"graph0\" class=\"graph\" transform=\"scale(1 1) rotate(0) translate(4 41)\">\n<title>%3</title>\n<polygon fill=\"white\" stroke=\"transparent\" points=\"-4,4 -4,-41 497,-41 497,4 -4,4\"/>\n<!-- 132237862369792 -->\n<g id=\"node1\" class=\"node\">\n<title>132237862369792</title>\n<polygon fill=\"none\" stroke=\"black\" points=\"311,-0.5 311,-36.5 493,-36.5 493,-0.5 311,-0.5\"/>\n<text text-anchor=\"middle\" x=\"351\" y=\"-14.8\" font-family=\"Times,serif\" font-size=\"14.00\">data 6.0000</text>\n<polyline fill=\"none\" stroke=\"black\" points=\"391,-0.5 391,-36.5 \"/>\n<text text-anchor=\"middle\" x=\"401\" y=\"-14.8\" font-family=\"Times,serif\" font-size=\"14.00\"> </text>\n<polyline fill=\"none\" stroke=\"black\" points=\"411,-0.5 411,-36.5 \"/>\n<text text-anchor=\"middle\" x=\"452\" y=\"-14.8\" font-family=\"Times,serif\" font-size=\"14.00\">grad 1.0000</text>\n</g>\n<!-- 132237862369792+ -->\n<g id=\"node2\" class=\"node\">\n<title>132237862369792+</title>\n<ellipse fill=\"none\" stroke=\"black\" cx=\"248\" cy=\"-18.5\" rx=\"27\" ry=\"18\"/>\n<text text-anchor=\"middle\" x=\"248\" y=\"-14.8\" font-family=\"Times,serif\" font-size=\"14.00\">+</text>\n</g>\n<!-- 132237862369792+&#45;&gt;132237862369792 -->\n<g id=\"edge1\" class=\"edge\">\n<title>132237862369792+&#45;&gt;132237862369792</title>\n<path fill=\"none\" stroke=\"black\" d=\"M275.13,-18.5C282.67,-18.5 291.39,-18.5 300.64,-18.5\"/>\n<polygon fill=\"black\" stroke=\"black\" points=\"300.87,-22 310.87,-18.5 300.87,-15 300.87,-22\"/>\n</g>\n<!-- 132237862361152 -->\n<g id=\"node3\" class=\"node\">\n<title>132237862361152</title>\n<polygon fill=\"none\" stroke=\"black\" points=\"0,-0.5 0,-36.5 185,-36.5 185,-0.5 0,-0.5\"/>\n<text text-anchor=\"middle\" x=\"40\" y=\"-14.8\" font-family=\"Times,serif\" font-size=\"14.00\">data 3.0000</text>\n<polyline fill=\"none\" stroke=\"black\" points=\"80,-0.5 80,-36.5 \"/>\n<text text-anchor=\"middle\" x=\"91.5\" y=\"-14.8\" font-family=\"Times,serif\" font-size=\"14.00\">a</text>\n<polyline fill=\"none\" stroke=\"black\" points=\"103,-0.5 103,-36.5 \"/>\n<text text-anchor=\"middle\" x=\"144\" y=\"-14.8\" font-family=\"Times,serif\" font-size=\"14.00\">grad 1.0000</text>\n</g>\n<!-- 132237862361152&#45;&gt;132237862369792+ -->\n<g id=\"edge2\" class=\"edge\">\n<title>132237862361152&#45;&gt;132237862369792+</title>\n<path fill=\"none\" stroke=\"black\" d=\"M185.01,-18.5C194.01,-18.5 202.74,-18.5 210.66,-18.5\"/>\n<polygon fill=\"black\" stroke=\"black\" points=\"210.91,-22 220.91,-18.5 210.91,-15 210.91,-22\"/>\n</g>\n</g>\n</svg>\n",
            "text/plain": [
              "<graphviz.graphs.Digraph at 0x784506cfd090>"
            ]
          },
          "metadata": {},
          "execution_count": 74
        }
      ]
    },
    {
      "cell_type": "markdown",
      "source": [
        "derivative should be 2!!\n",
        "\n",
        "\n",
        "self.grad set to 1\n",
        "\n",
        "other.grad also set to 1 . overwritten\n",
        "\n",
        "and self and other are the same thing here..\n",
        "\n",
        "\n",
        "so always pile up gradients\n"
      ],
      "metadata": {
        "id": "WExy0GMgwhHW"
      }
    },
    {
      "cell_type": "code",
      "source": [
        "# in one go!!\n",
        "\n",
        "class Value:\n",
        "    def __init__(self, data, _children=(), _op=\"\", label = ''): #_children is tuple but set inside\n",
        "      self.data= data\n",
        "      self._prev = set(_children)\n",
        "      self._backward = lambda: None #empty function bcz for leaf node it needs to do nothing and return. therefore cant be None\n",
        "      self._op = _op\n",
        "      self.label = label\n",
        "      self.grad = 0.0\n",
        "\n",
        "\n",
        "    def __repr__(self):\n",
        "        return f\"Value(data={self.data})\"\n",
        "\n",
        "\n",
        "    def __add__(self, other): # using __add__ it will automatically be invoked when val1 + val2 is called\n",
        "      other = other if isinstance(other, Value) else Value(other)\n",
        "      out = Value(self.data + other.data, (self, other), \"+\")\n",
        "\n",
        "      def _backward():\n",
        "        self.grad += 1.0 * out.grad\n",
        "        other.grad += 1.0 * out.grad\n",
        "      out._backward = _backward\n",
        "\n",
        "      return out\n",
        "\n",
        "    def __radd__(self, other): # other + self\n",
        "      return self + other\n",
        "\n",
        "    def __mul__(self, other): # using __mul__ it will automatically be invoked when val1*val2 is called\n",
        "      other = other if isinstance(other, Value) else Value(other)\n",
        "      out = Value(self.data*other.data, (self, other), \"*\")\n",
        "\n",
        "      def _backward():\n",
        "        self.grad += other.data * out.grad\n",
        "        other.grad += self.data * out.grad\n",
        "      out._backward = _backward\n",
        "\n",
        "      return out\n",
        "\n",
        "    def __sub__(self, other):\n",
        "      return self + other*(-1)\n",
        "\n",
        "    def exp(self):\n",
        "      x = self.data\n",
        "      t = math.exp(x)\n",
        "      out = Value(t, (self,), 'exp')\n",
        "\n",
        "      def _backward():\n",
        "        self.grad += t * out.grad\n",
        "      out._backward = _backward\n",
        "\n",
        "      return out\n",
        "\n",
        "    # since division a/b is a* (b**-1)\n",
        "    def __truediv__(self, other):\n",
        "      return self * other**-1\n",
        "\n",
        "    def __pow__(self, other):\n",
        "      x = self.data\n",
        "      t = self.data**other\n",
        "      out = Value(t, (self,), f'**{other}')\n",
        "\n",
        "      def _backward():\n",
        "        self.grad += other* (self.data**(other -1)) * out.grad\n",
        "      out._backward = _backward\n",
        "\n",
        "      return out\n",
        "\n",
        "\n",
        "    def tanh(self):\n",
        "      x = self.data\n",
        "      t = ((math.exp(2*x) - 1)/(math.exp(2*x) + 1))\n",
        "      out = Value(t, (self,), 'tanh')\n",
        "\n",
        "      def _backward():\n",
        "        self.grad += (1 - t**2) * out.grad\n",
        "      out._backward = _backward\n",
        "\n",
        "      return out\n",
        "\n",
        "\n",
        "\n",
        "    def backward(self):\n",
        "      topo = []\n",
        "      visited = set()\n",
        "\n",
        "      def build_topo(v):\n",
        "        if v not in visited:\n",
        "          visited.add(v)\n",
        "          for child in v._prev:\n",
        "            build_topo(child)\n",
        "          topo.append(v)\n",
        "\n",
        "      build_topo(self)\n",
        "      self.grad = 1\n",
        "\n",
        "      for i in topo[::-1]:\n",
        "        i._backward()"
      ],
      "metadata": {
        "id": "BFsXHvlowgN8"
      },
      "execution_count": 50,
      "outputs": []
    },
    {
      "cell_type": "code",
      "source": [
        "a = Value(2.0)\n",
        "b = Value(4.0)\n",
        "\n",
        "print(a - b)\n",
        "print(a**4)\n",
        "print(a/b)"
      ],
      "metadata": {
        "colab": {
          "base_uri": "https://localhost:8080/"
        },
        "id": "hoxeChWFzYg4",
        "outputId": "891086ae-add8-4ca6-e247-f0f0007afbda"
      },
      "execution_count": 2,
      "outputs": [
        {
          "output_type": "stream",
          "name": "stdout",
          "text": [
            "Value(data=-2.0)\n",
            "Value(data=16.0)\n",
            "Value(data=0.5)\n"
          ]
        }
      ]
    },
    {
      "cell_type": "code",
      "source": [
        "# NEURON\n",
        "\n",
        "x1 = Value(2.0, label='x1')\n",
        "x2 = Value(0.0, label='x2')\n",
        "\n",
        "w1 = Value(-3.0, label = \"w1\")\n",
        "w2 = Value(1.0, label = \"w2\")\n",
        "\n",
        "b = Value(6.8813, label=\"b\")\n",
        "\n",
        "x1w1 = x1*w1\n",
        "x1w1.label = \"x1w1\"\n",
        "\n",
        "x2w2 = x2*w2\n",
        "x2w2.label = \"x2w2\"\n",
        "\n",
        "a = x1w1 + x2w2\n",
        "a.label = \"a\"\n",
        "\n",
        "z = a + b\n",
        "z.label = \"z\"\n",
        "\n",
        "o_num =  z.exp()**2 - 1\n",
        "o_den =  z.exp()**2 + 1\n",
        "\n",
        "o_num.label = 'o_num'\n",
        "o_den.label = 'o_den'\n",
        "\n",
        "o = o_num/o_den\n",
        "o.label = 'o'\n",
        "\n",
        "o.backward()\n",
        "draw_dot(o)\n"
      ],
      "metadata": {
        "colab": {
          "base_uri": "https://localhost:8080/",
          "height": 365
        },
        "id": "c9TwG4BXzjPa",
        "outputId": "224c152e-d9f4-428e-c4e3-26f69479bf6c"
      },
      "execution_count": 3,
      "outputs": [
        {
          "output_type": "error",
          "ename": "NameError",
          "evalue": "ignored",
          "traceback": [
            "\u001b[0;31m---------------------------------------------------------------------------\u001b[0m",
            "\u001b[0;31mNameError\u001b[0m                                 Traceback (most recent call last)",
            "\u001b[0;32m<ipython-input-3-115252fb757d>\u001b[0m in \u001b[0;36m<cell line: 23>\u001b[0;34m()\u001b[0m\n\u001b[1;32m     21\u001b[0m \u001b[0mz\u001b[0m\u001b[0;34m.\u001b[0m\u001b[0mlabel\u001b[0m \u001b[0;34m=\u001b[0m \u001b[0;34m\"z\"\u001b[0m\u001b[0;34m\u001b[0m\u001b[0;34m\u001b[0m\u001b[0m\n\u001b[1;32m     22\u001b[0m \u001b[0;34m\u001b[0m\u001b[0m\n\u001b[0;32m---> 23\u001b[0;31m \u001b[0mo_num\u001b[0m \u001b[0;34m=\u001b[0m  \u001b[0mz\u001b[0m\u001b[0;34m.\u001b[0m\u001b[0mexp\u001b[0m\u001b[0;34m(\u001b[0m\u001b[0;34m)\u001b[0m\u001b[0;34m**\u001b[0m\u001b[0;36m2\u001b[0m \u001b[0;34m-\u001b[0m \u001b[0;36m1\u001b[0m\u001b[0;34m\u001b[0m\u001b[0;34m\u001b[0m\u001b[0m\n\u001b[0m\u001b[1;32m     24\u001b[0m \u001b[0mo_den\u001b[0m \u001b[0;34m=\u001b[0m  \u001b[0mz\u001b[0m\u001b[0;34m.\u001b[0m\u001b[0mexp\u001b[0m\u001b[0;34m(\u001b[0m\u001b[0;34m)\u001b[0m\u001b[0;34m**\u001b[0m\u001b[0;36m2\u001b[0m \u001b[0;34m+\u001b[0m \u001b[0;36m1\u001b[0m\u001b[0;34m\u001b[0m\u001b[0;34m\u001b[0m\u001b[0m\n\u001b[1;32m     25\u001b[0m \u001b[0;34m\u001b[0m\u001b[0m\n",
            "\u001b[0;32m<ipython-input-1-2f585ced32d7>\u001b[0m in \u001b[0;36mexp\u001b[0;34m(self)\u001b[0m\n\u001b[1;32m     43\u001b[0m     \u001b[0;32mdef\u001b[0m \u001b[0mexp\u001b[0m\u001b[0;34m(\u001b[0m\u001b[0mself\u001b[0m\u001b[0;34m)\u001b[0m\u001b[0;34m:\u001b[0m\u001b[0;34m\u001b[0m\u001b[0;34m\u001b[0m\u001b[0m\n\u001b[1;32m     44\u001b[0m       \u001b[0mx\u001b[0m \u001b[0;34m=\u001b[0m \u001b[0mself\u001b[0m\u001b[0;34m.\u001b[0m\u001b[0mdata\u001b[0m\u001b[0;34m\u001b[0m\u001b[0;34m\u001b[0m\u001b[0m\n\u001b[0;32m---> 45\u001b[0;31m       \u001b[0mt\u001b[0m \u001b[0;34m=\u001b[0m \u001b[0mmath\u001b[0m\u001b[0;34m.\u001b[0m\u001b[0mexp\u001b[0m\u001b[0;34m(\u001b[0m\u001b[0mx\u001b[0m\u001b[0;34m)\u001b[0m\u001b[0;34m\u001b[0m\u001b[0;34m\u001b[0m\u001b[0m\n\u001b[0m\u001b[1;32m     46\u001b[0m       \u001b[0mout\u001b[0m \u001b[0;34m=\u001b[0m \u001b[0mValue\u001b[0m\u001b[0;34m(\u001b[0m\u001b[0mt\u001b[0m\u001b[0;34m,\u001b[0m \u001b[0;34m(\u001b[0m\u001b[0mself\u001b[0m\u001b[0;34m,\u001b[0m\u001b[0;34m)\u001b[0m\u001b[0;34m,\u001b[0m \u001b[0;34m'exp'\u001b[0m\u001b[0;34m)\u001b[0m\u001b[0;34m\u001b[0m\u001b[0;34m\u001b[0m\u001b[0m\n\u001b[1;32m     47\u001b[0m \u001b[0;34m\u001b[0m\u001b[0m\n",
            "\u001b[0;31mNameError\u001b[0m: name 'math' is not defined"
          ]
        }
      ]
    },
    {
      "cell_type": "code",
      "source": [
        "import torch\n",
        "import random\n",
        "\n",
        "x1 = torch.Tensor([2.0]).double()                ; x1.requires_grad = True\n",
        "x2 = torch.Tensor([0.0]).double()                ; x2.requires_grad = True\n",
        "w1 = torch.Tensor([-3.0]).double()               ; w1.requires_grad = True\n",
        "w2 = torch.Tensor([1.0]).double()                ; w2.requires_grad = True\n",
        "b = torch.Tensor([6.8813735870195432]).double()  ; b.requires_grad = True\n",
        "n = x1*w1 + x2*w2 + b\n",
        "o = torch.tanh(n)\n",
        "\n",
        "print(o.data.item())  # item() is for scalalr stuff\n",
        "o.backward()\n",
        "\n",
        "print('---')\n",
        "print('x2', x2.grad.item())\n",
        "print('w2', w2.grad.item())\n",
        "print('x1', x1.grad.item())\n",
        "print('w1', w1.grad.item())"
      ],
      "metadata": {
        "colab": {
          "base_uri": "https://localhost:8080/"
        },
        "id": "80B9df1g3vWU",
        "outputId": "fd0542b9-73e8-4671-81a8-be97f32c4fa7"
      },
      "execution_count": 4,
      "outputs": [
        {
          "output_type": "stream",
          "name": "stdout",
          "text": [
            "0.7071066904050358\n",
            "---\n",
            "x2 0.5000001283844369\n",
            "w2 0.0\n",
            "x1 -1.5000003851533106\n",
            "w1 1.0000002567688737\n"
          ]
        }
      ]
    },
    {
      "cell_type": "code",
      "source": [
        "o.data"
      ],
      "metadata": {
        "colab": {
          "base_uri": "https://localhost:8080/"
        },
        "id": "V-yOcSvL43J0",
        "outputId": "b7804e57-6dc6-4304-8300-a77e05167493"
      },
      "execution_count": 5,
      "outputs": [
        {
          "output_type": "execute_result",
          "data": {
            "text/plain": [
              "tensor([0.7071], dtype=torch.float64)"
            ]
          },
          "metadata": {},
          "execution_count": 5
        }
      ]
    },
    {
      "cell_type": "code",
      "source": [
        "class Neuron:\n",
        "\n",
        "  def __init__(self, nin):\n",
        "    self.w = [Value(random.uniform(-1, 1)) for _ in range(nin)]\n",
        "    self.b = Value(random.uniform(-1, 1))\n",
        "\n",
        "  def __call__(self, x):\n",
        "    result = self.b\n",
        "\n",
        "    for i in zip(self.w, x):\n",
        "      result+= i[0]*i[1]\n",
        "\n",
        "    out = result.tanh()\n",
        "\n",
        "    return out\n",
        "\n",
        "  def parameters(self):\n",
        "    return self.w + [self.b]\n",
        "\n",
        "n = Neuron(2)"
      ],
      "metadata": {
        "id": "eSGReE5H5mbc"
      },
      "execution_count": 104,
      "outputs": []
    },
    {
      "cell_type": "code",
      "source": [
        "x = [2, 3]\n",
        "n(x)"
      ],
      "metadata": {
        "colab": {
          "base_uri": "https://localhost:8080/"
        },
        "id": "ny7wiPAK7B7x",
        "outputId": "8bf89acd-52c5-4058-9d35-d66afe55d584"
      },
      "execution_count": 105,
      "outputs": [
        {
          "output_type": "execute_result",
          "data": {
            "text/plain": [
              "Value(data=-0.6210137899616579)"
            ]
          },
          "metadata": {},
          "execution_count": 105
        }
      ]
    },
    {
      "cell_type": "code",
      "source": [
        "class Layer:\n",
        "\n",
        "  def __init__(self, nin, nout):\n",
        "    self.neurons = [Neuron(nin) for _ in range(nout)]\n",
        "\n",
        "  def __call__(self, x):\n",
        "    out = []\n",
        "\n",
        "    for n in self.neurons:\n",
        "      out.append(n(x))\n",
        "\n",
        "    return out[0] if len(out)==1 else out\n",
        "\n",
        "\n",
        "  def parameters(self):\n",
        "    return [p for neuron in self.neurons for p in neuron.parameters()]"
      ],
      "metadata": {
        "id": "WwANZewJ7uIS"
      },
      "execution_count": 106,
      "outputs": []
    },
    {
      "cell_type": "code",
      "source": [
        "l = Layer(2, 4)\n",
        "x = [2, 3]\n",
        "l(x)"
      ],
      "metadata": {
        "colab": {
          "base_uri": "https://localhost:8080/"
        },
        "id": "yov4XuU08yOZ",
        "outputId": "27380e1a-481a-4c0b-bc45-f66bc11611a4"
      },
      "execution_count": 107,
      "outputs": [
        {
          "output_type": "execute_result",
          "data": {
            "text/plain": [
              "[Value(data=-0.8224316886468743),\n",
              " Value(data=0.9982184261767313),\n",
              " Value(data=-0.9998942097583269),\n",
              " Value(data=-0.9846743899431316)]"
            ]
          },
          "metadata": {},
          "execution_count": 107
        }
      ]
    },
    {
      "cell_type": "code",
      "source": [
        "class MLP:\n",
        "\n",
        "  def __init__(self, nin, nouts):\n",
        "    sz = [nin] + nouts\n",
        "    self.layers = [Layer(sz[i], sz[i+1]) for i in range(len(nouts))]\n",
        "\n",
        "  def __call__(self, x):\n",
        "    for layer in self.layers:\n",
        "      x = layer(x)\n",
        "    return x\n",
        "\n",
        "  def parameters(self):\n",
        "    return [p for layer in self.layers for p in layer.parameters()]"
      ],
      "metadata": {
        "id": "iG0XGfw186Bq"
      },
      "execution_count": 108,
      "outputs": []
    },
    {
      "cell_type": "code",
      "source": [
        "mlp = MLP(3, [4, 4, 1])\n",
        "x = [2, 3, 1]\n",
        "mlp(x)"
      ],
      "metadata": {
        "colab": {
          "base_uri": "https://localhost:8080/"
        },
        "id": "hzdZwhQ6jLod",
        "outputId": "357e0ba0-5fad-4053-dd56-6740ac8b19df"
      },
      "execution_count": 109,
      "outputs": [
        {
          "output_type": "execute_result",
          "data": {
            "text/plain": [
              "Value(data=0.9563367912473931)"
            ]
          },
          "metadata": {},
          "execution_count": 109
        }
      ]
    },
    {
      "cell_type": "code",
      "source": [
        "xs = [\n",
        "  [2.0, 3.0, -1.0],\n",
        "  [3.0, -1.0, 0.5],\n",
        "  [0.5, 1.0, 1.0],\n",
        "  [1.0, 1.0, -1.0],\n",
        "]\n",
        "ys = [1.0, -1.0, -1.0, 1.0] # desired targets"
      ],
      "metadata": {
        "id": "D6JronBmkyM8"
      },
      "execution_count": 110,
      "outputs": []
    },
    {
      "cell_type": "code",
      "source": [
        "y_pred = [mlp(x) for x in xs]\n",
        "print(y_pred)"
      ],
      "metadata": {
        "colab": {
          "base_uri": "https://localhost:8080/"
        },
        "id": "2m8zzxL-liOs",
        "outputId": "8d2d78f9-5685-4615-ef89-6db8d0fe9a5c"
      },
      "execution_count": 111,
      "outputs": [
        {
          "output_type": "stream",
          "name": "stdout",
          "text": [
            "[Value(data=0.9716775960017827), Value(data=-0.002505708489806226), Value(data=0.8906743703433587), Value(data=0.9037857268372773)]\n"
          ]
        }
      ]
    },
    {
      "cell_type": "code",
      "source": [
        "y_pred"
      ],
      "metadata": {
        "colab": {
          "base_uri": "https://localhost:8080/"
        },
        "id": "WrWdHZSzma4y",
        "outputId": "c043655d-fecd-4986-db5c-6e8878e8fe3f"
      },
      "execution_count": 112,
      "outputs": [
        {
          "output_type": "execute_result",
          "data": {
            "text/plain": [
              "[Value(data=0.9716775960017827),\n",
              " Value(data=-0.002505708489806226),\n",
              " Value(data=0.8906743703433587),\n",
              " Value(data=0.9037857268372773)]"
            ]
          },
          "metadata": {},
          "execution_count": 112
        }
      ]
    },
    {
      "cell_type": "code",
      "source": [
        "a = [(y_p - y_gt)**2 for y_gt, y_p in zip(ys, y_pred)]"
      ],
      "metadata": {
        "id": "Jtt57iBkmLXS"
      },
      "execution_count": 113,
      "outputs": []
    },
    {
      "cell_type": "code",
      "source": [
        "a"
      ],
      "metadata": {
        "colab": {
          "base_uri": "https://localhost:8080/"
        },
        "id": "8OFZBcZ4nR0w",
        "outputId": "c0d1cb5a-5e99-4094-c112-c66769a8f4ad"
      },
      "execution_count": 114,
      "outputs": [
        {
          "output_type": "execute_result",
          "data": {
            "text/plain": [
              "[Value(data=0.0008021585682382343),\n",
              " Value(data=0.9949948615954234),\n",
              " Value(data=3.5746495746732565),\n",
              " Value(data=0.00925718636023102)]"
            ]
          },
          "metadata": {},
          "execution_count": 114
        }
      ]
    },
    {
      "cell_type": "code",
      "source": [
        "loss = sum(((y_p - y_gt)**2 for y_gt, y_p in zip(ys, y_pred)))\n",
        "print(loss)"
      ],
      "metadata": {
        "colab": {
          "base_uri": "https://localhost:8080/"
        },
        "id": "J2LIT-uymT7E",
        "outputId": "2fa3c8fb-9c82-4b68-f661-70fb26c94fc6"
      },
      "execution_count": 116,
      "outputs": [
        {
          "output_type": "stream",
          "name": "stdout",
          "text": [
            "Value(data=4.579703781197149)\n"
          ]
        }
      ]
    },
    {
      "cell_type": "code",
      "source": [
        "params = mlp.parameters()\n",
        "print(len(params))"
      ],
      "metadata": {
        "colab": {
          "base_uri": "https://localhost:8080/"
        },
        "id": "ac7kYqe8nDKV",
        "outputId": "65875c6c-8d88-446a-bbdd-5ac3411df63f"
      },
      "execution_count": 117,
      "outputs": [
        {
          "output_type": "stream",
          "name": "stdout",
          "text": [
            "41\n"
          ]
        }
      ]
    },
    {
      "cell_type": "code",
      "source": [
        "for k in range(10):\n",
        "  y_pred = [mlp(x) for x in xs]\n",
        "  loss = sum(((y_p - y_gt)**2 for y_gt, y_p in zip(ys, y_pred)))\n",
        "\n",
        "  # backward pass\n",
        "  for p in mlp.parameters():\n",
        "    p.grad = 0.0\n",
        "  loss.backward()\n",
        "\n",
        "  # update\n",
        "  for p in mlp.parameters():\n",
        "    p.data += -0.1 * p.grad\n",
        "\n",
        "  print(k, loss.data)"
      ],
      "metadata": {
        "colab": {
          "base_uri": "https://localhost:8080/"
        },
        "id": "983W-df9sqSb",
        "outputId": "01edfef9-e65a-4b98-cb18-6e69430f4678"
      },
      "execution_count": 136,
      "outputs": [
        {
          "output_type": "stream",
          "name": "stdout",
          "text": [
            "0 0.00027526327983568477\n",
            "1 0.0002750202651309752\n",
            "2 0.00027477767562088804\n",
            "3 0.00027453551019473977\n",
            "4 0.00027429376774569465\n",
            "5 0.0002740524471707501\n",
            "6 0.0002738115473707346\n",
            "7 0.0002735710672502745\n",
            "8 0.0002733310057178038\n",
            "9 0.0002730913616855145\n"
          ]
        }
      ]
    },
    {
      "cell_type": "code",
      "source": [
        "y_pred\n",
        "# very near 1, -1, -1, 1"
      ],
      "metadata": {
        "colab": {
          "base_uri": "https://localhost:8080/"
        },
        "id": "WR3zubBstmEC",
        "outputId": "c96f7dd8-4ab8-416f-9274-c731e821f54b"
      },
      "execution_count": 137,
      "outputs": [
        {
          "output_type": "execute_result",
          "data": {
            "text/plain": [
              "[Value(data=0.9949670289074588),\n",
              " Value(data=-0.9942082501094198),\n",
              " Value(data=-0.9886394214775593),\n",
              " Value(data=0.9907721371646744)]"
            ]
          },
          "metadata": {},
          "execution_count": 137
        }
      ]
    },
    {
      "cell_type": "code",
      "source": [
        "sum(((y_p - y_gt)**2 for y_gt, y_p in zip(ys, y_pred)))"
      ],
      "metadata": {
        "colab": {
          "base_uri": "https://localhost:8080/"
        },
        "id": "SmlwYYttvro6",
        "outputId": "c05d0843-0543-436c-810e-d7e0b85fb743"
      },
      "execution_count": 138,
      "outputs": [
        {
          "output_type": "execute_result",
          "data": {
            "text/plain": [
              "Value(data=0.0002730913616855145)"
            ]
          },
          "metadata": {},
          "execution_count": 138
        }
      ]
    },
    {
      "cell_type": "code",
      "source": [],
      "metadata": {
        "id": "IcE4CUORvtGp"
      },
      "execution_count": null,
      "outputs": []
    }
  ]
}