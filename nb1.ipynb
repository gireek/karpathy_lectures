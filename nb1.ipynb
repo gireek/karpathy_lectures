{
  "nbformat": 4,
  "nbformat_minor": 0,
  "metadata": {
    "colab": {
      "provenance": [],
      "authorship_tag": "ABX9TyP8ET1IIXFin0jrZXhr/Qux"
    },
    "kernelspec": {
      "name": "python3",
      "display_name": "Python 3"
    },
    "language_info": {
      "name": "python"
    }
  },
  "cells": [
    {
      "cell_type": "code",
      "execution_count": null,
      "metadata": {
        "colab": {
          "base_uri": "https://localhost:8080/"
        },
        "id": "LwFPIW4zMKDR",
        "outputId": "592bd008-9724-4d89-eee5-1913a054cb60"
      },
      "outputs": [
        {
          "output_type": "stream",
          "name": "stdout",
          "text": [
            "Mounted at /content/drive\n"
          ]
        }
      ],
      "source": [
        "from google.colab import drive\n",
        "drive.mount('/content/drive')"
      ]
    },
    {
      "cell_type": "code",
      "source": [
        "ls"
      ],
      "metadata": {
        "colab": {
          "base_uri": "https://localhost:8080/"
        },
        "id": "ZpXUFbcBN2vi",
        "outputId": "5f75ce36-be7c-4cbf-fdac-50ff030565aa"
      },
      "execution_count": null,
      "outputs": [
        {
          "output_type": "stream",
          "name": "stdout",
          "text": [
            "\u001b[0m\u001b[01;34mdrive\u001b[0m/  \u001b[01;34msample_data\u001b[0m/\n"
          ]
        }
      ]
    },
    {
      "cell_type": "markdown",
      "source": [
        "https://github.com/karpathy/micrograd\n",
        "\n",
        "Only has 2 files"
      ],
      "metadata": {
        "id": "kW7BaMMpUF-p"
      }
    },
    {
      "cell_type": "code",
      "source": [
        "import math\n",
        "import numpy as np\n",
        "import matplotlib.pyplot as plt\n",
        "from graphviz import Digraph\n",
        "\n",
        "%matplotlib inline"
      ],
      "metadata": {
        "id": "BntqCX4wRORN"
      },
      "execution_count": 1,
      "outputs": []
    },
    {
      "cell_type": "code",
      "source": [
        "def f(x):\n",
        "  return 3*x**2 - 4*x + 5"
      ],
      "metadata": {
        "id": "8uAFzBNX_wFw"
      },
      "execution_count": 2,
      "outputs": []
    },
    {
      "cell_type": "code",
      "source": [
        "f(3.0)"
      ],
      "metadata": {
        "colab": {
          "base_uri": "https://localhost:8080/"
        },
        "id": "F789R32L_0Ze",
        "outputId": "c9c886ca-76ef-4285-b6ff-83289ba4caee"
      },
      "execution_count": 3,
      "outputs": [
        {
          "output_type": "execute_result",
          "data": {
            "text/plain": [
              "20.0"
            ]
          },
          "metadata": {},
          "execution_count": 3
        }
      ]
    },
    {
      "cell_type": "code",
      "source": [
        "xs = np.arange(-5, 5, 0.25)\n",
        "ys = f(xs)\n",
        "plt.plot(xs, ys)"
      ],
      "metadata": {
        "colab": {
          "base_uri": "https://localhost:8080/",
          "height": 448
        },
        "id": "ntV0cJRf_38f",
        "outputId": "ee33971e-35fe-4eea-bfb0-baa3893fb490"
      },
      "execution_count": 4,
      "outputs": [
        {
          "output_type": "execute_result",
          "data": {
            "text/plain": [
              "[<matplotlib.lines.Line2D at 0x7fd084f85d20>]"
            ]
          },
          "metadata": {},
          "execution_count": 4
        },
        {
          "output_type": "display_data",
          "data": {
            "text/plain": [
              "<Figure size 640x480 with 1 Axes>"
            ],
            "image/png": "[encoded data removed]"
          },
          "metadata": {}
        }
      ]
    },
    {
      "cell_type": "markdown",
      "source": [
        "You cant do rule based derivatives for neural net models"
      ],
      "metadata": {
        "id": "yRjCBnS9ARvQ"
      }
    },
    {
      "cell_type": "code",
      "source": [
        "h = 0.00000001\n",
        "x = 2/3\n",
        "f(x+h)"
      ],
      "metadata": {
        "colab": {
          "base_uri": "https://localhost:8080/"
        },
        "id": "truZ6CCw_9Xz",
        "outputId": "284d819e-002d-42e3-ff66-e1965a7743be"
      },
      "execution_count": 5,
      "outputs": [
        {
          "output_type": "execute_result",
          "data": {
            "text/plain": [
              "3.666666666666667"
            ]
          },
          "metadata": {},
          "execution_count": 5
        }
      ]
    },
    {
      "cell_type": "code",
      "source": [
        "(f(x+h) - f(x))/h\n",
        "# is 0 bcz derivative is zero at that point"
      ],
      "metadata": {
        "colab": {
          "base_uri": "https://localhost:8080/"
        },
        "id": "S38ioCinAsQC",
        "outputId": "7f83a017-d48b-4e13-f9a5-0f6925a1882d"
      },
      "execution_count": 7,
      "outputs": [
        {
          "output_type": "execute_result",
          "data": {
            "text/plain": [
              "0.0"
            ]
          },
          "metadata": {},
          "execution_count": 7
        }
      ]
    },
    {
      "cell_type": "code",
      "source": [
        "# little complex\n",
        "\n",
        "#inputs\n",
        "a = 2.0\n",
        "b = -3.0\n",
        "c = 10.0\n",
        "\n",
        "# d computation\n",
        "d = a*b + c\n",
        "d"
      ],
      "metadata": {
        "colab": {
          "base_uri": "https://localhost:8080/"
        },
        "id": "SI8nstcrAy7q",
        "outputId": "d5d1e464-7334-4468-f80a-2a593303076d"
      },
      "execution_count": 8,
      "outputs": [
        {
          "output_type": "execute_result",
          "data": {
            "text/plain": [
              "4.0"
            ]
          },
          "metadata": {},
          "execution_count": 8
        }
      ]
    },
    {
      "cell_type": "markdown",
      "source": [
        "t4esting for derivtive on a,b,c"
      ],
      "metadata": {
        "id": "oBuXWRDjeKy0"
      }
    },
    {
      "cell_type": "code",
      "source": [
        "d1 = a*b + c\n",
        "a += h\n",
        "d2 = a*b + c\n",
        "\n",
        "(d2 - d1)/h"
      ],
      "metadata": {
        "colab": {
          "base_uri": "https://localhost:8080/"
        },
        "id": "gvq2iOyaBqje",
        "outputId": "e0edb469-d22d-42ce-a266-189322b840fa"
      },
      "execution_count": 9,
      "outputs": [
        {
          "output_type": "execute_result",
          "data": {
            "text/plain": [
              "-2.999999981767587"
            ]
          },
          "metadata": {},
          "execution_count": 9
        }
      ]
    },
    {
      "cell_type": "code",
      "source": [
        "d1 = a*b + c\n",
        "b += h\n",
        "d2 = a*b + c\n",
        "\n",
        "(d2 - d1)/h"
      ],
      "metadata": {
        "colab": {
          "base_uri": "https://localhost:8080/"
        },
        "id": "WRUXH461B-1U",
        "outputId": "c120ae43-2185-429e-89ed-cc81b65be6ba"
      },
      "execution_count": 10,
      "outputs": [
        {
          "output_type": "execute_result",
          "data": {
            "text/plain": [
              "1.999999987845058"
            ]
          },
          "metadata": {},
          "execution_count": 10
        }
      ]
    },
    {
      "cell_type": "code",
      "source": [
        "d1 = a*b + c\n",
        "c += h\n",
        "d2 = a*b + c\n",
        "\n",
        "(d2 - d1)/h"
      ],
      "metadata": {
        "colab": {
          "base_uri": "https://localhost:8080/"
        },
        "id": "8571P4V-CczQ",
        "outputId": "95b2ff56-b8c0-46ac-ecfa-a5556816582b"
      },
      "execution_count": 11,
      "outputs": [
        {
          "output_type": "execute_result",
          "data": {
            "text/plain": [
              "1.000000082740371"
            ]
          },
          "metadata": {},
          "execution_count": 11
        }
      ]
    },
    {
      "cell_type": "code",
      "source": [],
      "metadata": {
        "id": "E8Rmad44Chwr"
      },
      "execution_count": 11,
      "outputs": []
    },
    {
      "cell_type": "markdown",
      "source": [
        "Value object"
      ],
      "metadata": {
        "id": "Ly-iRCoVCxBS"
      }
    },
    {
      "cell_type": "code",
      "source": [
        "class Value:\n",
        "    def __init__(self, data, _children=(), _op=\"\", label = ''): #_children is tuple but set inside\n",
        "      self.data= data\n",
        "      self._prev = set(_children)\n",
        "      self._op = _op\n",
        "      self.label = label\n",
        "      self.grad = 0.0\n",
        "\n",
        "\n",
        "    def __repr__(self):\n",
        "        return f\"Value(data={self.data})\"\n",
        "\n",
        "\n",
        "    def __add__(self, other): # using __add__ it will automatically be invoked when val1 + val2 is called\n",
        "      out = Value(self.data + other.data, (self, other), \"+\")\n",
        "      return out\n",
        "\n",
        "\n",
        "    def __mul__(self, other): # using __mul__ it will automatically be invoked when val1*val2 is called\n",
        "      out = Value(self.data*other.data, (self, other), \"*\")\n",
        "      return out\n",
        "\n",
        "\n",
        "\n",
        "a = Value(2.0)\n",
        "b = Value(3.0)\n",
        "print(a + b)\n",
        "print(b.__add__(a))\n",
        "print(a.__add__(b))\n",
        "\n",
        "print(a*b)\n",
        "print(b.__mul__(a))\n"
      ],
      "metadata": {
        "colab": {
          "base_uri": "https://localhost:8080/"
        },
        "id": "q7ECd5SlCr-I",
        "outputId": "3172f39c-dac3-468d-e94a-bc117ec2439f"
      },
      "execution_count": 50,
      "outputs": [
        {
          "output_type": "stream",
          "name": "stdout",
          "text": [
            "Value(data=5.0)\n",
            "Value(data=5.0)\n",
            "Value(data=5.0)\n",
            "Value(data=6.0)\n",
            "Value(data=6.0)\n"
          ]
        }
      ]
    },
    {
      "cell_type": "code",
      "source": [
        "a = Value(2.0, label = 'a')\n",
        "b = Value(-3.0, label = 'b')\n",
        "c = Value(10.0, label = 'c')\n",
        "e = a*b\n",
        "e.label = 'e'\n",
        "d = e + c\n",
        "d.label = 'd'\n",
        "f = Value(-2.0, label = 'f')\n",
        "L = d*f\n",
        "L.label = \"L\""
      ],
      "metadata": {
        "id": "IKLK2IEaDPGx"
      },
      "execution_count": 51,
      "outputs": []
    },
    {
      "cell_type": "code",
      "source": [
        "d._prev"
      ],
      "metadata": {
        "colab": {
          "base_uri": "https://localhost:8080/"
        },
        "id": "-_0g7LgPXP0j",
        "outputId": "1ad4b164-194c-49eb-b7b5-ac06d03f1a00"
      },
      "execution_count": 52,
      "outputs": [
        {
          "output_type": "execute_result",
          "data": {
            "text/plain": [
              "{Value(data=-6.0), Value(data=10.0)}"
            ]
          },
          "metadata": {},
          "execution_count": 52
        }
      ]
    },
    {
      "cell_type": "code",
      "source": [
        "d._op"
      ],
      "metadata": {
        "colab": {
          "base_uri": "https://localhost:8080/",
          "height": 35
        },
        "id": "h-6M6dYIXRpd",
        "outputId": "92041565-de0a-4285-a1a0-e7a3158bc964"
      },
      "execution_count": 53,
      "outputs": [
        {
          "output_type": "execute_result",
          "data": {
            "text/plain": [
              "'+'"
            ],
            "application/vnd.google.colaboratory.intrinsic+json": {
              "type": "string"
            }
          },
          "metadata": {},
          "execution_count": 53
        }
      ]
    },
    {
      "cell_type": "code",
      "source": [
        "def trace(root):\n",
        "    nodes, edges = set(), set()\n",
        "    def build(v):\n",
        "        if v not in nodes:\n",
        "            nodes.add(v)\n",
        "            for child in v._prev:\n",
        "                edges.add((child, v))\n",
        "                build(child)\n",
        "    build(root)\n",
        "    return nodes, edges\n",
        "\n",
        "def draw_dot(root, format='svg', rankdir='LR'):\n",
        "    \"\"\"\n",
        "    format: png | svg | ...\n",
        "    rankdir: TB (top to bottom graph) | LR (left to right)\n",
        "    \"\"\"\n",
        "    assert rankdir in ['LR', 'TB']\n",
        "    nodes, edges = trace(root)\n",
        "    dot = Digraph(format=format, graph_attr={'rankdir': rankdir}) #, node_attr={'rankdir': 'TB'})\n",
        "\n",
        "    for n in nodes:\n",
        "        dot.node(name=str(id(n)), label = \"{ data %.4f | %s | grad %.4f}\" % (n.data, n.label, n.grad), shape='record')\n",
        "        if n._op:\n",
        "            dot.node(name=str(id(n)) + n._op, label=n._op)\n",
        "            dot.edge(str(id(n)) + n._op, str(id(n)))\n",
        "\n",
        "    for n1, n2 in edges:\n",
        "        dot.edge(str(id(n1)), str(id(n2)) + n2._op)\n",
        "\n",
        "    return dot"
      ],
      "metadata": {
        "id": "vPkuXKZjXkdZ"
      },
      "execution_count": 54,
      "outputs": []
    },
    {
      "cell_type": "code",
      "source": [
        "draw_dot(L)"
      ],
      "metadata": {
        "colab": {
          "base_uri": "https://localhost:8080/",
          "height": 246
        },
        "id": "7-KKOh08XxT6",
        "outputId": "5bc138a5-8f5d-4977-98b0-ab05230634f4"
      },
      "execution_count": 55,
      "outputs": [
        {
          "output_type": "execute_result",
          "data": {
            "image/svg+xml": "<?xml version=\"1.0\" encoding=\"UTF-8\" standalone=\"no\"?>\n<!DOCTYPE svg PUBLIC \"-//W3C//DTD SVG 1.1//EN\"\n \"http://www.w3.org/Graphics/SVG/1.1/DTD/svg11.dtd\">\n<!-- Generated by graphviz version 2.43.0 (0)\n -->\n<!-- Title: %3 Pages: 1 -->\n<svg width=\"1148pt\" height=\"154pt\"\n viewBox=\"0.00 0.00 1148.00 154.00\" xmlns=\"http://www.w3.org/2000/svg\" xmlns:xlink=\"http://www.w3.org/1999/xlink\">\n<g id=\"graph0\" class=\"graph\" transform=\"scale(1 1) rotate(0) translate(4 150)\">\n<title>%3</title>\n<polygon fill=\"white\" stroke=\"transparent\" points=\"-4,4 -4,-150 1144,-150 1144,4 -4,4\"/>\n<!-- 140532886826496 -->\n<g id=\"node1\" class=\"node\">\n<title>140532886826496</title>\n<polygon fill=\"none\" stroke=\"black\" points=\"635.5,-54.5 635.5,-90.5 820.5,-90.5 820.5,-54.5 635.5,-54.5\"/>\n<text text-anchor=\"middle\" x=\"675.5\" y=\"-68.8\" font-family=\"Times,serif\" font-size=\"14.00\">data 4.0000</text>\n<polyline fill=\"none\" stroke=\"black\" points=\"715.5,-54.5 715.5,-90.5 \"/>\n<text text-anchor=\"middle\" x=\"727\" y=\"-68.8\" font-family=\"Times,serif\" font-size=\"14.00\">d</text>\n<polyline fill=\"none\" stroke=\"black\" points=\"738.5,-54.5 738.5,-90.5 \"/>\n<text text-anchor=\"middle\" x=\"779.5\" y=\"-68.8\" font-family=\"Times,serif\" font-size=\"14.00\">grad 0.0000</text>\n</g>\n<!-- 140532886822416* -->\n<g id=\"node4\" class=\"node\">\n<title>140532886822416*</title>\n<ellipse fill=\"none\" stroke=\"black\" cx=\"885\" cy=\"-99.5\" rx=\"27\" ry=\"18\"/>\n<text text-anchor=\"middle\" x=\"885\" y=\"-95.8\" font-family=\"Times,serif\" font-size=\"14.00\">*</text>\n</g>\n<!-- 140532886826496&#45;&gt;140532886822416* -->\n<g id=\"edge5\" class=\"edge\">\n<title>140532886826496&#45;&gt;140532886822416*</title>\n<path fill=\"none\" stroke=\"black\" d=\"M820.51,-88.44C830.48,-90.18 840.13,-91.86 848.77,-93.36\"/>\n<polygon fill=\"black\" stroke=\"black\" points=\"848.31,-96.84 858.77,-95.1 849.52,-89.94 848.31,-96.84\"/>\n</g>\n<!-- 140532886826496+ -->\n<g id=\"node2\" class=\"node\">\n<title>140532886826496+</title>\n<ellipse fill=\"none\" stroke=\"black\" cx=\"571\" cy=\"-72.5\" rx=\"27\" ry=\"18\"/>\n<text text-anchor=\"middle\" x=\"571\" y=\"-68.8\" font-family=\"Times,serif\" font-size=\"14.00\">+</text>\n</g>\n<!-- 140532886826496+&#45;&gt;140532886826496 -->\n<g id=\"edge1\" class=\"edge\">\n<title>140532886826496+&#45;&gt;140532886826496</title>\n<path fill=\"none\" stroke=\"black\" d=\"M598.29,-72.5C606.26,-72.5 615.54,-72.5 625.39,-72.5\"/>\n<polygon fill=\"black\" stroke=\"black\" points=\"625.41,-76 635.41,-72.5 625.41,-69 625.41,-76\"/>\n</g>\n<!-- 140532886822416 -->\n<g id=\"node3\" class=\"node\">\n<title>140532886822416</title>\n<polygon fill=\"none\" stroke=\"black\" points=\"948,-81.5 948,-117.5 1140,-117.5 1140,-81.5 948,-81.5\"/>\n<text text-anchor=\"middle\" x=\"990.5\" y=\"-95.8\" font-family=\"Times,serif\" font-size=\"14.00\">data &#45;8.0000</text>\n<polyline fill=\"none\" stroke=\"black\" points=\"1033,-81.5 1033,-117.5 \"/>\n<text text-anchor=\"middle\" x=\"1045.5\" y=\"-95.8\" font-family=\"Times,serif\" font-size=\"14.00\">L</text>\n<polyline fill=\"none\" stroke=\"black\" points=\"1058,-81.5 1058,-117.5 \"/>\n<text text-anchor=\"middle\" x=\"1099\" y=\"-95.8\" font-family=\"Times,serif\" font-size=\"14.00\">grad 0.0000</text>\n</g>\n<!-- 140532886822416*&#45;&gt;140532886822416 -->\n<g id=\"edge2\" class=\"edge\">\n<title>140532886822416*&#45;&gt;140532886822416</title>\n<path fill=\"none\" stroke=\"black\" d=\"M912.28,-99.5C919.78,-99.5 928.44,-99.5 937.67,-99.5\"/>\n<polygon fill=\"black\" stroke=\"black\" points=\"937.87,-103 947.87,-99.5 937.87,-96 937.87,-103\"/>\n</g>\n<!-- 140532886820880 -->\n<g id=\"node5\" class=\"node\">\n<title>140532886820880</title>\n<polygon fill=\"none\" stroke=\"black\" points=\"316,-82.5 316,-118.5 508,-118.5 508,-82.5 316,-82.5\"/>\n<text text-anchor=\"middle\" x=\"359.5\" y=\"-96.8\" font-family=\"Times,serif\" font-size=\"14.00\">data 10.0000</text>\n<polyline fill=\"none\" stroke=\"black\" points=\"403,-82.5 403,-118.5 \"/>\n<text text-anchor=\"middle\" x=\"414.5\" y=\"-96.8\" font-family=\"Times,serif\" font-size=\"14.00\">c</text>\n<polyline fill=\"none\" stroke=\"black\" points=\"426,-82.5 426,-118.5 \"/>\n<text text-anchor=\"middle\" x=\"467\" y=\"-96.8\" font-family=\"Times,serif\" font-size=\"14.00\">grad 0.0000</text>\n</g>\n<!-- 140532886820880&#45;&gt;140532886826496+ -->\n<g id=\"edge6\" class=\"edge\">\n<title>140532886820880&#45;&gt;140532886826496+</title>\n<path fill=\"none\" stroke=\"black\" d=\"M508.4,-83.49C517.69,-81.83 526.64,-80.23 534.71,-78.79\"/>\n<polygon fill=\"black\" stroke=\"black\" points=\"535.53,-82.2 544.76,-77 534.31,-75.31 535.53,-82.2\"/>\n</g>\n<!-- 140532886830624 -->\n<g id=\"node6\" class=\"node\">\n<title>140532886830624</title>\n<polygon fill=\"none\" stroke=\"black\" points=\"2.5,-55.5 2.5,-91.5 187.5,-91.5 187.5,-55.5 2.5,-55.5\"/>\n<text text-anchor=\"middle\" x=\"42.5\" y=\"-69.8\" font-family=\"Times,serif\" font-size=\"14.00\">data 2.0000</text>\n<polyline fill=\"none\" stroke=\"black\" points=\"82.5,-55.5 82.5,-91.5 \"/>\n<text text-anchor=\"middle\" x=\"94\" y=\"-69.8\" font-family=\"Times,serif\" font-size=\"14.00\">a</text>\n<polyline fill=\"none\" stroke=\"black\" points=\"105.5,-55.5 105.5,-91.5 \"/>\n<text text-anchor=\"middle\" x=\"146.5\" y=\"-69.8\" font-family=\"Times,serif\" font-size=\"14.00\">grad 0.0000</text>\n</g>\n<!-- 140532886821072* -->\n<g id=\"node8\" class=\"node\">\n<title>140532886821072*</title>\n<ellipse fill=\"none\" stroke=\"black\" cx=\"253\" cy=\"-45.5\" rx=\"27\" ry=\"18\"/>\n<text text-anchor=\"middle\" x=\"253\" y=\"-41.8\" font-family=\"Times,serif\" font-size=\"14.00\">*</text>\n</g>\n<!-- 140532886830624&#45;&gt;140532886821072* -->\n<g id=\"edge9\" class=\"edge\">\n<title>140532886830624&#45;&gt;140532886821072*</title>\n<path fill=\"none\" stroke=\"black\" d=\"M187.65,-57.05C197.94,-55.2 207.91,-53.41 216.81,-51.82\"/>\n<polygon fill=\"black\" stroke=\"black\" points=\"217.48,-55.25 226.71,-50.04 216.25,-48.36 217.48,-55.25\"/>\n</g>\n<!-- 140532886821072 -->\n<g id=\"node7\" class=\"node\">\n<title>140532886821072</title>\n<polygon fill=\"none\" stroke=\"black\" points=\"317,-27.5 317,-63.5 507,-63.5 507,-27.5 317,-27.5\"/>\n<text text-anchor=\"middle\" x=\"359.5\" y=\"-41.8\" font-family=\"Times,serif\" font-size=\"14.00\">data &#45;6.0000</text>\n<polyline fill=\"none\" stroke=\"black\" points=\"402,-27.5 402,-63.5 \"/>\n<text text-anchor=\"middle\" x=\"413.5\" y=\"-41.8\" font-family=\"Times,serif\" font-size=\"14.00\">e</text>\n<polyline fill=\"none\" stroke=\"black\" points=\"425,-27.5 425,-63.5 \"/>\n<text text-anchor=\"middle\" x=\"466\" y=\"-41.8\" font-family=\"Times,serif\" font-size=\"14.00\">grad 0.0000</text>\n</g>\n<!-- 140532886821072&#45;&gt;140532886826496+ -->\n<g id=\"edge8\" class=\"edge\">\n<title>140532886821072&#45;&gt;140532886826496+</title>\n<path fill=\"none\" stroke=\"black\" d=\"M507.05,-61.67C516.78,-63.35 526.18,-64.96 534.62,-66.42\"/>\n<polygon fill=\"black\" stroke=\"black\" points=\"534.3,-69.91 544.75,-68.16 535.49,-63.01 534.3,-69.91\"/>\n</g>\n<!-- 140532886821072*&#45;&gt;140532886821072 -->\n<g id=\"edge3\" class=\"edge\">\n<title>140532886821072*&#45;&gt;140532886821072</title>\n<path fill=\"none\" stroke=\"black\" d=\"M280.28,-45.5C288.05,-45.5 297.08,-45.5 306.68,-45.5\"/>\n<polygon fill=\"black\" stroke=\"black\" points=\"306.88,-49 316.88,-45.5 306.88,-42 306.88,-49\"/>\n</g>\n<!-- 140532886826304 -->\n<g id=\"node9\" class=\"node\">\n<title>140532886826304</title>\n<polygon fill=\"none\" stroke=\"black\" points=\"634,-109.5 634,-145.5 822,-145.5 822,-109.5 634,-109.5\"/>\n<text text-anchor=\"middle\" x=\"676.5\" y=\"-123.8\" font-family=\"Times,serif\" font-size=\"14.00\">data &#45;2.0000</text>\n<polyline fill=\"none\" stroke=\"black\" points=\"719,-109.5 719,-145.5 \"/>\n<text text-anchor=\"middle\" x=\"729.5\" y=\"-123.8\" font-family=\"Times,serif\" font-size=\"14.00\">f</text>\n<polyline fill=\"none\" stroke=\"black\" points=\"740,-109.5 740,-145.5 \"/>\n<text text-anchor=\"middle\" x=\"781\" y=\"-123.8\" font-family=\"Times,serif\" font-size=\"14.00\">grad 0.0000</text>\n</g>\n<!-- 140532886826304&#45;&gt;140532886822416* -->\n<g id=\"edge4\" class=\"edge\">\n<title>140532886826304&#45;&gt;140532886822416*</title>\n<path fill=\"none\" stroke=\"black\" d=\"M822.29,-110.65C831.57,-108.97 840.52,-107.35 848.61,-105.89\"/>\n<polygon fill=\"black\" stroke=\"black\" points=\"849.46,-109.3 858.68,-104.07 848.21,-102.41 849.46,-109.3\"/>\n</g>\n<!-- 140532886823856 -->\n<g id=\"node10\" class=\"node\">\n<title>140532886823856</title>\n<polygon fill=\"none\" stroke=\"black\" points=\"0,-0.5 0,-36.5 190,-36.5 190,-0.5 0,-0.5\"/>\n<text text-anchor=\"middle\" x=\"42.5\" y=\"-14.8\" font-family=\"Times,serif\" font-size=\"14.00\">data &#45;3.0000</text>\n<polyline fill=\"none\" stroke=\"black\" points=\"85,-0.5 85,-36.5 \"/>\n<text text-anchor=\"middle\" x=\"96.5\" y=\"-14.8\" font-family=\"Times,serif\" font-size=\"14.00\">b</text>\n<polyline fill=\"none\" stroke=\"black\" points=\"108,-0.5 108,-36.5 \"/>\n<text text-anchor=\"middle\" x=\"149\" y=\"-14.8\" font-family=\"Times,serif\" font-size=\"14.00\">grad 0.0000</text>\n</g>\n<!-- 140532886823856&#45;&gt;140532886821072* -->\n<g id=\"edge7\" class=\"edge\">\n<title>140532886823856&#45;&gt;140532886821072*</title>\n<path fill=\"none\" stroke=\"black\" d=\"M190.34,-34.83C199.62,-36.44 208.58,-37.99 216.66,-39.38\"/>\n<polygon fill=\"black\" stroke=\"black\" points=\"216.27,-42.87 226.72,-41.12 217.46,-35.97 216.27,-42.87\"/>\n</g>\n</g>\n</svg>\n",
            "text/plain": [
              "<graphviz.graphs.Digraph at 0x7fd05cd522f0>"
            ]
          },
          "metadata": {},
          "execution_count": 55
        }
      ]
    },
    {
      "cell_type": "code",
      "source": [
        "L.grad = 1"
      ],
      "metadata": {
        "id": "qXubjVoeaTl6"
      },
      "execution_count": 56,
      "outputs": []
    },
    {
      "cell_type": "code",
      "source": [
        "def backprop(last_node):\n",
        "  grad_here = last_node.grad\n",
        "\n",
        "  if last_node._op == \"+\":\n",
        "    for child in last_node._prev:\n",
        "      child.grad = grad_here\n",
        "      backprop(child)\n",
        "\n",
        "  elif last_node._op == \"*\":\n",
        "    child1,child2 = list(last_node._prev)[0], list(last_node._prev)[1]\n",
        "\n",
        "    child1.grad = grad_here * child2.data\n",
        "    backprop(child1)\n",
        "    child2.grad = grad_here * child1.data\n",
        "    backprop(child2)\n",
        "\n",
        "  else:\n",
        "    return\n",
        "\n",
        "backprop(L)"
      ],
      "metadata": {
        "id": "OEylXOvqghNd"
      },
      "execution_count": 57,
      "outputs": []
    },
    {
      "cell_type": "code",
      "source": [
        "for i in range(10):\n",
        "\n",
        "  a.data += 0.01 * a.grad\n",
        "  b.data += 0.01 * b.grad\n",
        "  c.data += 0.01 * c.grad\n",
        "  f.data += 0.01 * f.grad\n",
        "\n",
        "  e = a*b\n",
        "  d = e + c\n",
        "  L = d*f\n",
        "\n",
        "  print(L.data)\n",
        "\n",
        "  L.grad = 1\n",
        "  backprop(L)"
      ],
      "metadata": {
        "colab": {
          "base_uri": "https://localhost:8080/"
        },
        "id": "ddWyjK0zlxz3",
        "outputId": "d90d9edc-56bb-4eeb-ee90-69e75eda5e6b"
      },
      "execution_count": 59,
      "outputs": [
        {
          "output_type": "stream",
          "name": "stdout",
          "text": [
            "inf\n",
            "inf\n",
            "inf\n",
            "inf\n",
            "inf\n",
            "inf\n",
            "inf\n",
            "inf\n",
            "inf\n",
            "inf\n"
          ]
        }
      ]
    },
    {
      "cell_type": "code",
      "source": [
        "def lol():\n",
        "  h = 0.0001\n",
        "\n",
        "  a = Value(2.0, label = 'a')\n",
        "  b = Value(-3.0, label = 'b')\n",
        "  c = Value(10.0, label = 'c')\n",
        "  d = a*b + c\n",
        "  d.label = 'd'\n",
        "  f = Value(-2.0, label = 'f')\n",
        "  L = d*f\n",
        "  L.label = \"L\"\n",
        "  L1 = L.data\n",
        "\n",
        "  a = Value(2.0 + h, label = 'a')\n",
        "  b = Value(-3.0, label = 'b')\n",
        "  c = Value(10.0, label = 'c')\n",
        "  d = a*b + c\n",
        "  d.label = 'd'\n",
        "  f = Value(-2.0, label = 'f')\n",
        "  L = d*f\n",
        "  L.label = \"L\"\n",
        "  L2 = L.data\n",
        "\n",
        "  print((L2 - L1)/h)\n",
        "\n",
        "lol()"
      ],
      "metadata": {
        "colab": {
          "base_uri": "https://localhost:8080/"
        },
        "id": "QxuDyTI1X9bB",
        "outputId": "ca027f2e-c541-41d0-db97-b9d69d4b18f0"
      },
      "execution_count": null,
      "outputs": [
        {
          "output_type": "stream",
          "name": "stdout",
          "text": [
            "6.000000000021544\n"
          ]
        }
      ]
    },
    {
      "cell_type": "code",
      "source": [],
      "metadata": {
        "id": "tpLMI24maQ-7"
      },
      "execution_count": null,
      "outputs": []
    },
    {
      "cell_type": "code",
      "source": [],
      "metadata": {
        "id": "ffPOZNZk2AAL"
      },
      "execution_count": null,
      "outputs": []
    },
    {
      "cell_type": "code",
      "source": [
        "# NEURON\n",
        "\n",
        "x1 = Value(2.0, label='x1')\n",
        "x2 = Value(0.0, label='x2')\n",
        "\n",
        "w1 = Value(-3.0, label = \"w1\")\n",
        "w2 = Value(1.0, label = \"w2\")\n",
        "\n",
        "b = Value(6.8813, label=\"b\")\n",
        "\n",
        "x1w1 = x1*w1\n",
        "x1w1.label = \"x1w1\"\n",
        "\n",
        "x2w2 = x2*w2\n",
        "x2w2.label = \"x2w2\"\n",
        "\n",
        "a = x1w1 + x2w2\n",
        "a.label = \"a\"\n",
        "\n",
        "z = a + b\n",
        "z.label = \"z\"\n",
        "\n",
        "o = z.tanh()\n",
        "o.label = 'o'\n",
        "\n",
        "draw_dot(o)"
      ],
      "metadata": {
        "colab": {
          "base_uri": "https://localhost:8080/",
          "height": 321
        },
        "id": "f_rP6GLw1_96",
        "outputId": "9fbd37e8-2798-4055-d257-4b5a7833d8ec"
      },
      "execution_count": 71,
      "outputs": [
        {
          "output_type": "execute_result",
          "data": {
            "image/svg+xml": "<?xml version=\"1.0\" encoding=\"UTF-8\" standalone=\"no\"?>\n<!DOCTYPE svg PUBLIC \"-//W3C//DTD SVG 1.1//EN\"\n \"http://www.w3.org/Graphics/SVG/1.1/DTD/svg11.dtd\">\n<!-- Generated by graphviz version 2.43.0 (0)\n -->\n<!-- Title: %3 Pages: 1 -->\n<svg width=\"1486pt\" height=\"210pt\"\n viewBox=\"0.00 0.00 1486.00 210.00\" xmlns=\"http://www.w3.org/2000/svg\" xmlns:xlink=\"http://www.w3.org/1999/xlink\">\n<g id=\"graph0\" class=\"graph\" transform=\"scale(1 1) rotate(0) translate(4 206)\">\n<title>%3</title>\n<polygon fill=\"white\" stroke=\"transparent\" points=\"-4,4 -4,-206 1482,-206 1482,4 -4,4\"/>\n<!-- 140532885432848 -->\n<g id=\"node1\" class=\"node\">\n<title>140532885432848</title>\n<polygon fill=\"none\" stroke=\"black\" points=\"2.5,-165.5 2.5,-201.5 197.5,-201.5 197.5,-165.5 2.5,-165.5\"/>\n<text text-anchor=\"middle\" x=\"42.5\" y=\"-179.8\" font-family=\"Times,serif\" font-size=\"14.00\">data 1.0000</text>\n<polyline fill=\"none\" stroke=\"black\" points=\"82.5,-165.5 82.5,-201.5 \"/>\n<text text-anchor=\"middle\" x=\"99\" y=\"-179.8\" font-family=\"Times,serif\" font-size=\"14.00\">w2</text>\n<polyline fill=\"none\" stroke=\"black\" points=\"115.5,-165.5 115.5,-201.5 \"/>\n<text text-anchor=\"middle\" x=\"156.5\" y=\"-179.8\" font-family=\"Times,serif\" font-size=\"14.00\">grad 0.0000</text>\n</g>\n<!-- 140532885425936* -->\n<g id=\"node9\" class=\"node\">\n<title>140532885425936*</title>\n<ellipse fill=\"none\" stroke=\"black\" cx=\"263\" cy=\"-128.5\" rx=\"27\" ry=\"18\"/>\n<text text-anchor=\"middle\" x=\"263\" y=\"-124.8\" font-family=\"Times,serif\" font-size=\"14.00\">*</text>\n</g>\n<!-- 140532885432848&#45;&gt;140532885425936* -->\n<g id=\"edge14\" class=\"edge\">\n<title>140532885432848&#45;&gt;140532885425936*</title>\n<path fill=\"none\" stroke=\"black\" d=\"M172.53,-165.44C181.84,-162.67 191.2,-159.67 200,-156.5 210.53,-152.71 221.75,-147.9 231.72,-143.33\"/>\n<polygon fill=\"black\" stroke=\"black\" points=\"233.25,-146.48 240.82,-139.07 230.28,-140.14 233.25,-146.48\"/>\n</g>\n<!-- 140532885434960 -->\n<g id=\"node2\" class=\"node\">\n<title>140532885434960</title>\n<polygon fill=\"none\" stroke=\"black\" points=\"1293,-54.5 1293,-90.5 1478,-90.5 1478,-54.5 1293,-54.5\"/>\n<text text-anchor=\"middle\" x=\"1333\" y=\"-68.8\" font-family=\"Times,serif\" font-size=\"14.00\">data 0.7071</text>\n<polyline fill=\"none\" stroke=\"black\" points=\"1373,-54.5 1373,-90.5 \"/>\n<text text-anchor=\"middle\" x=\"1384.5\" y=\"-68.8\" font-family=\"Times,serif\" font-size=\"14.00\">o</text>\n<polyline fill=\"none\" stroke=\"black\" points=\"1396,-54.5 1396,-90.5 \"/>\n<text text-anchor=\"middle\" x=\"1437\" y=\"-68.8\" font-family=\"Times,serif\" font-size=\"14.00\">grad 0.0000</text>\n</g>\n<!-- 140532885434960tanh -->\n<g id=\"node3\" class=\"node\">\n<title>140532885434960tanh</title>\n<ellipse fill=\"none\" stroke=\"black\" cx=\"1230\" cy=\"-72.5\" rx=\"27\" ry=\"18\"/>\n<text text-anchor=\"middle\" x=\"1230\" y=\"-68.8\" font-family=\"Times,serif\" font-size=\"14.00\">tanh</text>\n</g>\n<!-- 140532885434960tanh&#45;&gt;140532885434960 -->\n<g id=\"edge1\" class=\"edge\">\n<title>140532885434960tanh&#45;&gt;140532885434960</title>\n<path fill=\"none\" stroke=\"black\" d=\"M1257.04,-72.5C1264.58,-72.5 1273.3,-72.5 1282.57,-72.5\"/>\n<polygon fill=\"black\" stroke=\"black\" points=\"1282.81,-76 1292.81,-72.5 1282.81,-69 1282.81,-76\"/>\n</g>\n<!-- 140532885433472 -->\n<g id=\"node4\" class=\"node\">\n<title>140532885433472</title>\n<polygon fill=\"none\" stroke=\"black\" points=\"326,-55.5 326,-91.5 540,-91.5 540,-55.5 326,-55.5\"/>\n<text text-anchor=\"middle\" x=\"368.5\" y=\"-69.8\" font-family=\"Times,serif\" font-size=\"14.00\">data &#45;6.0000</text>\n<polyline fill=\"none\" stroke=\"black\" points=\"411,-55.5 411,-91.5 \"/>\n<text text-anchor=\"middle\" x=\"434.5\" y=\"-69.8\" font-family=\"Times,serif\" font-size=\"14.00\">x1w1</text>\n<polyline fill=\"none\" stroke=\"black\" points=\"458,-55.5 458,-91.5 \"/>\n<text text-anchor=\"middle\" x=\"499\" y=\"-69.8\" font-family=\"Times,serif\" font-size=\"14.00\">grad 0.0000</text>\n</g>\n<!-- 140532885435296+ -->\n<g id=\"node15\" class=\"node\">\n<title>140532885435296+</title>\n<ellipse fill=\"none\" stroke=\"black\" cx=\"603\" cy=\"-100.5\" rx=\"27\" ry=\"18\"/>\n<text text-anchor=\"middle\" x=\"603\" y=\"-96.8\" font-family=\"Times,serif\" font-size=\"14.00\">+</text>\n</g>\n<!-- 140532885433472&#45;&gt;140532885435296+ -->\n<g id=\"edge8\" class=\"edge\">\n<title>140532885433472&#45;&gt;140532885435296+</title>\n<path fill=\"none\" stroke=\"black\" d=\"M540.4,-90.6C549.72,-92.1 558.65,-93.53 566.68,-94.82\"/>\n<polygon fill=\"black\" stroke=\"black\" points=\"566.24,-98.3 576.66,-96.43 567.35,-91.39 566.24,-98.3\"/>\n</g>\n<!-- 140532885433472* -->\n<g id=\"node5\" class=\"node\">\n<title>140532885433472*</title>\n<ellipse fill=\"none\" stroke=\"black\" cx=\"263\" cy=\"-73.5\" rx=\"27\" ry=\"18\"/>\n<text text-anchor=\"middle\" x=\"263\" y=\"-69.8\" font-family=\"Times,serif\" font-size=\"14.00\">*</text>\n</g>\n<!-- 140532885433472*&#45;&gt;140532885433472 -->\n<g id=\"edge2\" class=\"edge\">\n<title>140532885433472*&#45;&gt;140532885433472</title>\n<path fill=\"none\" stroke=\"black\" d=\"M290.25,-73.5C297.7,-73.5 306.34,-73.5 315.59,-73.5\"/>\n<polygon fill=\"black\" stroke=\"black\" points=\"315.84,-77 325.84,-73.5 315.84,-70 315.84,-77\"/>\n</g>\n<!-- 140532885436592 -->\n<g id=\"node6\" class=\"node\">\n<title>140532885436592</title>\n<polygon fill=\"none\" stroke=\"black\" points=\"4,-110.5 4,-146.5 196,-146.5 196,-110.5 4,-110.5\"/>\n<text text-anchor=\"middle\" x=\"44\" y=\"-124.8\" font-family=\"Times,serif\" font-size=\"14.00\">data 0.0000</text>\n<polyline fill=\"none\" stroke=\"black\" points=\"84,-110.5 84,-146.5 \"/>\n<text text-anchor=\"middle\" x=\"99\" y=\"-124.8\" font-family=\"Times,serif\" font-size=\"14.00\">x2</text>\n<polyline fill=\"none\" stroke=\"black\" points=\"114,-110.5 114,-146.5 \"/>\n<text text-anchor=\"middle\" x=\"155\" y=\"-124.8\" font-family=\"Times,serif\" font-size=\"14.00\">grad 0.0000</text>\n</g>\n<!-- 140532885436592&#45;&gt;140532885425936* -->\n<g id=\"edge11\" class=\"edge\">\n<title>140532885436592&#45;&gt;140532885425936*</title>\n<path fill=\"none\" stroke=\"black\" d=\"M196.05,-128.5C206.52,-128.5 216.65,-128.5 225.71,-128.5\"/>\n<polygon fill=\"black\" stroke=\"black\" points=\"225.79,-132 235.79,-128.5 225.79,-125 225.79,-132\"/>\n</g>\n<!-- 140532885437120 -->\n<g id=\"node7\" class=\"node\">\n<title>140532885437120</title>\n<polygon fill=\"none\" stroke=\"black\" points=\"4,-55.5 4,-91.5 196,-91.5 196,-55.5 4,-55.5\"/>\n<text text-anchor=\"middle\" x=\"44\" y=\"-69.8\" font-family=\"Times,serif\" font-size=\"14.00\">data 2.0000</text>\n<polyline fill=\"none\" stroke=\"black\" points=\"84,-55.5 84,-91.5 \"/>\n<text text-anchor=\"middle\" x=\"99\" y=\"-69.8\" font-family=\"Times,serif\" font-size=\"14.00\">x1</text>\n<polyline fill=\"none\" stroke=\"black\" points=\"114,-55.5 114,-91.5 \"/>\n<text text-anchor=\"middle\" x=\"155\" y=\"-69.8\" font-family=\"Times,serif\" font-size=\"14.00\">grad 0.0000</text>\n</g>\n<!-- 140532885437120&#45;&gt;140532885433472* -->\n<g id=\"edge6\" class=\"edge\">\n<title>140532885437120&#45;&gt;140532885433472*</title>\n<path fill=\"none\" stroke=\"black\" d=\"M196.05,-73.5C206.52,-73.5 216.65,-73.5 225.71,-73.5\"/>\n<polygon fill=\"black\" stroke=\"black\" points=\"225.79,-77 235.79,-73.5 225.79,-70 225.79,-77\"/>\n</g>\n<!-- 140532885425936 -->\n<g id=\"node8\" class=\"node\">\n<title>140532885425936</title>\n<polygon fill=\"none\" stroke=\"black\" points=\"328.5,-110.5 328.5,-146.5 537.5,-146.5 537.5,-110.5 328.5,-110.5\"/>\n<text text-anchor=\"middle\" x=\"368.5\" y=\"-124.8\" font-family=\"Times,serif\" font-size=\"14.00\">data 0.0000</text>\n<polyline fill=\"none\" stroke=\"black\" points=\"408.5,-110.5 408.5,-146.5 \"/>\n<text text-anchor=\"middle\" x=\"432\" y=\"-124.8\" font-family=\"Times,serif\" font-size=\"14.00\">x2w2</text>\n<polyline fill=\"none\" stroke=\"black\" points=\"455.5,-110.5 455.5,-146.5 \"/>\n<text text-anchor=\"middle\" x=\"496.5\" y=\"-124.8\" font-family=\"Times,serif\" font-size=\"14.00\">grad 0.0000</text>\n</g>\n<!-- 140532885425936&#45;&gt;140532885435296+ -->\n<g id=\"edge9\" class=\"edge\">\n<title>140532885425936&#45;&gt;140532885435296+</title>\n<path fill=\"none\" stroke=\"black\" d=\"M537.53,-111.25C547.8,-109.53 557.66,-107.89 566.45,-106.43\"/>\n<polygon fill=\"black\" stroke=\"black\" points=\"567.3,-109.83 576.59,-104.74 566.15,-102.93 567.3,-109.83\"/>\n</g>\n<!-- 140532885425936*&#45;&gt;140532885425936 -->\n<g id=\"edge3\" class=\"edge\">\n<title>140532885425936*&#45;&gt;140532885425936</title>\n<path fill=\"none\" stroke=\"black\" d=\"M290.25,-128.5C298.43,-128.5 308.03,-128.5 318.31,-128.5\"/>\n<polygon fill=\"black\" stroke=\"black\" points=\"318.35,-132 328.35,-128.5 318.35,-125 318.35,-132\"/>\n</g>\n<!-- 140532885437744 -->\n<g id=\"node10\" class=\"node\">\n<title>140532885437744</title>\n<polygon fill=\"none\" stroke=\"black\" points=\"0,-0.5 0,-36.5 200,-36.5 200,-0.5 0,-0.5\"/>\n<text text-anchor=\"middle\" x=\"42.5\" y=\"-14.8\" font-family=\"Times,serif\" font-size=\"14.00\">data &#45;3.0000</text>\n<polyline fill=\"none\" stroke=\"black\" points=\"85,-0.5 85,-36.5 \"/>\n<text text-anchor=\"middle\" x=\"101.5\" y=\"-14.8\" font-family=\"Times,serif\" font-size=\"14.00\">w1</text>\n<polyline fill=\"none\" stroke=\"black\" points=\"118,-0.5 118,-36.5 \"/>\n<text text-anchor=\"middle\" x=\"159\" y=\"-14.8\" font-family=\"Times,serif\" font-size=\"14.00\">grad 0.0000</text>\n</g>\n<!-- 140532885437744&#45;&gt;140532885433472* -->\n<g id=\"edge12\" class=\"edge\">\n<title>140532885437744&#45;&gt;140532885433472*</title>\n<path fill=\"none\" stroke=\"black\" d=\"M169.28,-36.5C179.65,-39.61 190.16,-42.98 200,-46.5 210.28,-50.17 221.28,-54.74 231.11,-59.07\"/>\n<polygon fill=\"black\" stroke=\"black\" points=\"229.93,-62.37 240.48,-63.27 232.79,-55.99 229.93,-62.37\"/>\n</g>\n<!-- 140532885434720 -->\n<g id=\"node11\" class=\"node\">\n<title>140532885434720</title>\n<polygon fill=\"none\" stroke=\"black\" points=\"982,-54.5 982,-90.5 1167,-90.5 1167,-54.5 982,-54.5\"/>\n<text text-anchor=\"middle\" x=\"1022\" y=\"-68.8\" font-family=\"Times,serif\" font-size=\"14.00\">data 0.8813</text>\n<polyline fill=\"none\" stroke=\"black\" points=\"1062,-54.5 1062,-90.5 \"/>\n<text text-anchor=\"middle\" x=\"1073.5\" y=\"-68.8\" font-family=\"Times,serif\" font-size=\"14.00\">z</text>\n<polyline fill=\"none\" stroke=\"black\" points=\"1085,-54.5 1085,-90.5 \"/>\n<text text-anchor=\"middle\" x=\"1126\" y=\"-68.8\" font-family=\"Times,serif\" font-size=\"14.00\">grad 0.0000</text>\n</g>\n<!-- 140532885434720&#45;&gt;140532885434960tanh -->\n<g id=\"edge7\" class=\"edge\">\n<title>140532885434720&#45;&gt;140532885434960tanh</title>\n<path fill=\"none\" stroke=\"black\" d=\"M1167.01,-72.5C1176.01,-72.5 1184.74,-72.5 1192.66,-72.5\"/>\n<polygon fill=\"black\" stroke=\"black\" points=\"1192.91,-76 1202.91,-72.5 1192.91,-69 1192.91,-76\"/>\n</g>\n<!-- 140532885434720+ -->\n<g id=\"node12\" class=\"node\">\n<title>140532885434720+</title>\n<ellipse fill=\"none\" stroke=\"black\" cx=\"919\" cy=\"-72.5\" rx=\"27\" ry=\"18\"/>\n<text text-anchor=\"middle\" x=\"919\" y=\"-68.8\" font-family=\"Times,serif\" font-size=\"14.00\">+</text>\n</g>\n<!-- 140532885434720+&#45;&gt;140532885434720 -->\n<g id=\"edge4\" class=\"edge\">\n<title>140532885434720+&#45;&gt;140532885434720</title>\n<path fill=\"none\" stroke=\"black\" d=\"M946.04,-72.5C953.58,-72.5 962.3,-72.5 971.57,-72.5\"/>\n<polygon fill=\"black\" stroke=\"black\" points=\"971.81,-76 981.81,-72.5 971.81,-69 971.81,-76\"/>\n</g>\n<!-- 140532885426032 -->\n<g id=\"node13\" class=\"node\">\n<title>140532885426032</title>\n<polygon fill=\"none\" stroke=\"black\" points=\"668.5,-27.5 668.5,-63.5 853.5,-63.5 853.5,-27.5 668.5,-27.5\"/>\n<text text-anchor=\"middle\" x=\"708.5\" y=\"-41.8\" font-family=\"Times,serif\" font-size=\"14.00\">data 6.8813</text>\n<polyline fill=\"none\" stroke=\"black\" points=\"748.5,-27.5 748.5,-63.5 \"/>\n<text text-anchor=\"middle\" x=\"760\" y=\"-41.8\" font-family=\"Times,serif\" font-size=\"14.00\">b</text>\n<polyline fill=\"none\" stroke=\"black\" points=\"771.5,-27.5 771.5,-63.5 \"/>\n<text text-anchor=\"middle\" x=\"812.5\" y=\"-41.8\" font-family=\"Times,serif\" font-size=\"14.00\">grad 0.0000</text>\n</g>\n<!-- 140532885426032&#45;&gt;140532885434720+ -->\n<g id=\"edge13\" class=\"edge\">\n<title>140532885426032&#45;&gt;140532885434720+</title>\n<path fill=\"none\" stroke=\"black\" d=\"M853.65,-61.36C863.94,-63.14 873.91,-64.87 882.81,-66.41\"/>\n<polygon fill=\"black\" stroke=\"black\" points=\"882.26,-69.87 892.71,-68.12 883.45,-62.97 882.26,-69.87\"/>\n</g>\n<!-- 140532885435296 -->\n<g id=\"node14\" class=\"node\">\n<title>140532885435296</title>\n<polygon fill=\"none\" stroke=\"black\" points=\"666,-82.5 666,-118.5 856,-118.5 856,-82.5 666,-82.5\"/>\n<text text-anchor=\"middle\" x=\"708.5\" y=\"-96.8\" font-family=\"Times,serif\" font-size=\"14.00\">data &#45;6.0000</text>\n<polyline fill=\"none\" stroke=\"black\" points=\"751,-82.5 751,-118.5 \"/>\n<text text-anchor=\"middle\" x=\"762.5\" y=\"-96.8\" font-family=\"Times,serif\" font-size=\"14.00\">a</text>\n<polyline fill=\"none\" stroke=\"black\" points=\"774,-82.5 774,-118.5 \"/>\n<text text-anchor=\"middle\" x=\"815\" y=\"-96.8\" font-family=\"Times,serif\" font-size=\"14.00\">grad 0.0000</text>\n</g>\n<!-- 140532885435296&#45;&gt;140532885434720+ -->\n<g id=\"edge10\" class=\"edge\">\n<title>140532885435296&#45;&gt;140532885434720+</title>\n<path fill=\"none\" stroke=\"black\" d=\"M856.34,-83.57C865.62,-81.9 874.58,-80.29 882.66,-78.84\"/>\n<polygon fill=\"black\" stroke=\"black\" points=\"883.49,-82.25 892.72,-77.04 882.26,-75.36 883.49,-82.25\"/>\n</g>\n<!-- 140532885435296+&#45;&gt;140532885435296 -->\n<g id=\"edge5\" class=\"edge\">\n<title>140532885435296+&#45;&gt;140532885435296</title>\n<path fill=\"none\" stroke=\"black\" d=\"M630.11,-100.5C637.63,-100.5 646.32,-100.5 655.58,-100.5\"/>\n<polygon fill=\"black\" stroke=\"black\" points=\"655.81,-104 665.81,-100.5 655.81,-97 655.81,-104\"/>\n</g>\n</g>\n</svg>\n",
            "text/plain": [
              "<graphviz.graphs.Digraph at 0x7fd05cb72980>"
            ]
          },
          "metadata": {},
          "execution_count": 71
        }
      ]
    },
    {
      "cell_type": "code",
      "source": [
        "class Value:\n",
        "    def __init__(self, data, _children=(), _op=\"\", label = ''): #_children is tuple but set inside\n",
        "      self.data= data\n",
        "      self._prev = set(_children)\n",
        "      self._op = _op\n",
        "      self.label = label\n",
        "      self.grad = 0.0\n",
        "\n",
        "\n",
        "    def __repr__(self):\n",
        "        return f\"Value(data={self.data})\"\n",
        "\n",
        "\n",
        "    def __add__(self, other): # using __add__ it will automatically be invoked when val1 + val2 is called\n",
        "      out = Value(self.data + other.data, (self, other), \"+\")\n",
        "      return out\n",
        "\n",
        "\n",
        "    def __mul__(self, other): # using __mul__ it will automatically be invoked when val1*val2 is called\n",
        "      out = Value(self.data*other.data, (self, other), \"*\")\n",
        "      return out\n",
        "\n",
        "    def tanh(self):\n",
        "      x = self.data\n",
        "      t = ((math.exp(2*x) - 1)/(math.exp(2*x) + 1))\n",
        "      out = Value(t, (self,), 'tanh')\n",
        "      return out"
      ],
      "metadata": {
        "id": "-FGaFv661_7h"
      },
      "execution_count": 72,
      "outputs": []
    },
    {
      "cell_type": "code",
      "source": [
        "o.grad = 1\n",
        "\n",
        "def backprop(last_node):\n",
        "  grad_here = last_node.grad\n",
        "\n",
        "  if last_node._op == \"+\":\n",
        "    for child in last_node._prev:\n",
        "      child.grad = grad_here\n",
        "      backprop(child)\n",
        "\n",
        "  elif last_node._op == \"*\":\n",
        "    child1,child2 = list(last_node._prev)[0], list(last_node._prev)[1]\n",
        "\n",
        "    child1.grad = grad_here * child2.data\n",
        "    backprop(child1)\n",
        "    child2.grad = grad_here * child1.data\n",
        "    backprop(child2)\n",
        "\n",
        "  elif last_node._op == \"tanh\":\n",
        "    child1 = list(last_node._prev)[0]\n",
        "    child1.grad = grad_here * (1 - last_node.data*last_node.data)\n",
        "    backprop(child1)\n",
        "\n",
        "  else:\n",
        "    return\n",
        "\n",
        "backprop(o)"
      ],
      "metadata": {
        "id": "exBQ8cDe1_5I"
      },
      "execution_count": 73,
      "outputs": []
    },
    {
      "cell_type": "code",
      "source": [
        "draw_dot(o)"
      ],
      "metadata": {
        "colab": {
          "base_uri": "https://localhost:8080/",
          "height": 321
        },
        "id": "IS9pmddL1_22",
        "outputId": "e2bc76a2-0711-48c9-f47e-5b7b58610e8e"
      },
      "execution_count": 74,
      "outputs": [
        {
          "output_type": "execute_result",
          "data": {
            "image/svg+xml": "<?xml version=\"1.0\" encoding=\"UTF-8\" standalone=\"no\"?>\n<!DOCTYPE svg PUBLIC \"-//W3C//DTD SVG 1.1//EN\"\n \"http://www.w3.org/Graphics/SVG/1.1/DTD/svg11.dtd\">\n<!-- Generated by graphviz version 2.43.0 (0)\n -->\n<!-- Title: %3 Pages: 1 -->\n<svg width=\"1486pt\" height=\"210pt\"\n viewBox=\"0.00 0.00 1486.00 210.00\" xmlns=\"http://www.w3.org/2000/svg\" xmlns:xlink=\"http://www.w3.org/1999/xlink\">\n<g id=\"graph0\" class=\"graph\" transform=\"scale(1 1) rotate(0) translate(4 206)\">\n<title>%3</title>\n<polygon fill=\"white\" stroke=\"transparent\" points=\"-4,4 -4,-206 1482,-206 1482,4 -4,4\"/>\n<!-- 140532885432848 -->\n<g id=\"node1\" class=\"node\">\n<title>140532885432848</title>\n<polygon fill=\"none\" stroke=\"black\" points=\"2.5,-165.5 2.5,-201.5 197.5,-201.5 197.5,-165.5 2.5,-165.5\"/>\n<text text-anchor=\"middle\" x=\"42.5\" y=\"-179.8\" font-family=\"Times,serif\" font-size=\"14.00\">data 1.0000</text>\n<polyline fill=\"none\" stroke=\"black\" points=\"82.5,-165.5 82.5,-201.5 \"/>\n<text text-anchor=\"middle\" x=\"99\" y=\"-179.8\" font-family=\"Times,serif\" font-size=\"14.00\">w2</text>\n<polyline fill=\"none\" stroke=\"black\" points=\"115.5,-165.5 115.5,-201.5 \"/>\n<text text-anchor=\"middle\" x=\"156.5\" y=\"-179.8\" font-family=\"Times,serif\" font-size=\"14.00\">grad 0.0000</text>\n</g>\n<!-- 140532885425936* -->\n<g id=\"node9\" class=\"node\">\n<title>140532885425936*</title>\n<ellipse fill=\"none\" stroke=\"black\" cx=\"263\" cy=\"-128.5\" rx=\"27\" ry=\"18\"/>\n<text text-anchor=\"middle\" x=\"263\" y=\"-124.8\" font-family=\"Times,serif\" font-size=\"14.00\">*</text>\n</g>\n<!-- 140532885432848&#45;&gt;140532885425936* -->\n<g id=\"edge14\" class=\"edge\">\n<title>140532885432848&#45;&gt;140532885425936*</title>\n<path fill=\"none\" stroke=\"black\" d=\"M172.53,-165.44C181.84,-162.67 191.2,-159.67 200,-156.5 210.53,-152.71 221.75,-147.9 231.72,-143.33\"/>\n<polygon fill=\"black\" stroke=\"black\" points=\"233.25,-146.48 240.82,-139.07 230.28,-140.14 233.25,-146.48\"/>\n</g>\n<!-- 140532885434960 -->\n<g id=\"node2\" class=\"node\">\n<title>140532885434960</title>\n<polygon fill=\"none\" stroke=\"black\" points=\"1293,-54.5 1293,-90.5 1478,-90.5 1478,-54.5 1293,-54.5\"/>\n<text text-anchor=\"middle\" x=\"1333\" y=\"-68.8\" font-family=\"Times,serif\" font-size=\"14.00\">data 0.7071</text>\n<polyline fill=\"none\" stroke=\"black\" points=\"1373,-54.5 1373,-90.5 \"/>\n<text text-anchor=\"middle\" x=\"1384.5\" y=\"-68.8\" font-family=\"Times,serif\" font-size=\"14.00\">o</text>\n<polyline fill=\"none\" stroke=\"black\" points=\"1396,-54.5 1396,-90.5 \"/>\n<text text-anchor=\"middle\" x=\"1437\" y=\"-68.8\" font-family=\"Times,serif\" font-size=\"14.00\">grad 1.0000</text>\n</g>\n<!-- 140532885434960tanh -->\n<g id=\"node3\" class=\"node\">\n<title>140532885434960tanh</title>\n<ellipse fill=\"none\" stroke=\"black\" cx=\"1230\" cy=\"-72.5\" rx=\"27\" ry=\"18\"/>\n<text text-anchor=\"middle\" x=\"1230\" y=\"-68.8\" font-family=\"Times,serif\" font-size=\"14.00\">tanh</text>\n</g>\n<!-- 140532885434960tanh&#45;&gt;140532885434960 -->\n<g id=\"edge1\" class=\"edge\">\n<title>140532885434960tanh&#45;&gt;140532885434960</title>\n<path fill=\"none\" stroke=\"black\" d=\"M1257.04,-72.5C1264.58,-72.5 1273.3,-72.5 1282.57,-72.5\"/>\n<polygon fill=\"black\" stroke=\"black\" points=\"1282.81,-76 1292.81,-72.5 1282.81,-69 1282.81,-76\"/>\n</g>\n<!-- 140532885433472 -->\n<g id=\"node4\" class=\"node\">\n<title>140532885433472</title>\n<polygon fill=\"none\" stroke=\"black\" points=\"326,-55.5 326,-91.5 540,-91.5 540,-55.5 326,-55.5\"/>\n<text text-anchor=\"middle\" x=\"368.5\" y=\"-69.8\" font-family=\"Times,serif\" font-size=\"14.00\">data &#45;6.0000</text>\n<polyline fill=\"none\" stroke=\"black\" points=\"411,-55.5 411,-91.5 \"/>\n<text text-anchor=\"middle\" x=\"434.5\" y=\"-69.8\" font-family=\"Times,serif\" font-size=\"14.00\">x1w1</text>\n<polyline fill=\"none\" stroke=\"black\" points=\"458,-55.5 458,-91.5 \"/>\n<text text-anchor=\"middle\" x=\"499\" y=\"-69.8\" font-family=\"Times,serif\" font-size=\"14.00\">grad 0.5001</text>\n</g>\n<!-- 140532885435296+ -->\n<g id=\"node15\" class=\"node\">\n<title>140532885435296+</title>\n<ellipse fill=\"none\" stroke=\"black\" cx=\"603\" cy=\"-100.5\" rx=\"27\" ry=\"18\"/>\n<text text-anchor=\"middle\" x=\"603\" y=\"-96.8\" font-family=\"Times,serif\" font-size=\"14.00\">+</text>\n</g>\n<!-- 140532885433472&#45;&gt;140532885435296+ -->\n<g id=\"edge8\" class=\"edge\">\n<title>140532885433472&#45;&gt;140532885435296+</title>\n<path fill=\"none\" stroke=\"black\" d=\"M540.4,-90.6C549.72,-92.1 558.65,-93.53 566.68,-94.82\"/>\n<polygon fill=\"black\" stroke=\"black\" points=\"566.24,-98.3 576.66,-96.43 567.35,-91.39 566.24,-98.3\"/>\n</g>\n<!-- 140532885433472* -->\n<g id=\"node5\" class=\"node\">\n<title>140532885433472*</title>\n<ellipse fill=\"none\" stroke=\"black\" cx=\"263\" cy=\"-73.5\" rx=\"27\" ry=\"18\"/>\n<text text-anchor=\"middle\" x=\"263\" y=\"-69.8\" font-family=\"Times,serif\" font-size=\"14.00\">*</text>\n</g>\n<!-- 140532885433472*&#45;&gt;140532885433472 -->\n<g id=\"edge2\" class=\"edge\">\n<title>140532885433472*&#45;&gt;140532885433472</title>\n<path fill=\"none\" stroke=\"black\" d=\"M290.25,-73.5C297.7,-73.5 306.34,-73.5 315.59,-73.5\"/>\n<polygon fill=\"black\" stroke=\"black\" points=\"315.84,-77 325.84,-73.5 315.84,-70 315.84,-77\"/>\n</g>\n<!-- 140532885436592 -->\n<g id=\"node6\" class=\"node\">\n<title>140532885436592</title>\n<polygon fill=\"none\" stroke=\"black\" points=\"4,-110.5 4,-146.5 196,-146.5 196,-110.5 4,-110.5\"/>\n<text text-anchor=\"middle\" x=\"44\" y=\"-124.8\" font-family=\"Times,serif\" font-size=\"14.00\">data 0.0000</text>\n<polyline fill=\"none\" stroke=\"black\" points=\"84,-110.5 84,-146.5 \"/>\n<text text-anchor=\"middle\" x=\"99\" y=\"-124.8\" font-family=\"Times,serif\" font-size=\"14.00\">x2</text>\n<polyline fill=\"none\" stroke=\"black\" points=\"114,-110.5 114,-146.5 \"/>\n<text text-anchor=\"middle\" x=\"155\" y=\"-124.8\" font-family=\"Times,serif\" font-size=\"14.00\">grad 0.5001</text>\n</g>\n<!-- 140532885436592&#45;&gt;140532885425936* -->\n<g id=\"edge11\" class=\"edge\">\n<title>140532885436592&#45;&gt;140532885425936*</title>\n<path fill=\"none\" stroke=\"black\" d=\"M196.05,-128.5C206.52,-128.5 216.65,-128.5 225.71,-128.5\"/>\n<polygon fill=\"black\" stroke=\"black\" points=\"225.79,-132 235.79,-128.5 225.79,-125 225.79,-132\"/>\n</g>\n<!-- 140532885437120 -->\n<g id=\"node7\" class=\"node\">\n<title>140532885437120</title>\n<polygon fill=\"none\" stroke=\"black\" points=\"2,-55.5 2,-91.5 198,-91.5 198,-55.5 2,-55.5\"/>\n<text text-anchor=\"middle\" x=\"42\" y=\"-69.8\" font-family=\"Times,serif\" font-size=\"14.00\">data 2.0000</text>\n<polyline fill=\"none\" stroke=\"black\" points=\"82,-55.5 82,-91.5 \"/>\n<text text-anchor=\"middle\" x=\"97\" y=\"-69.8\" font-family=\"Times,serif\" font-size=\"14.00\">x1</text>\n<polyline fill=\"none\" stroke=\"black\" points=\"112,-55.5 112,-91.5 \"/>\n<text text-anchor=\"middle\" x=\"155\" y=\"-69.8\" font-family=\"Times,serif\" font-size=\"14.00\">grad &#45;1.5002</text>\n</g>\n<!-- 140532885437120&#45;&gt;140532885433472* -->\n<g id=\"edge6\" class=\"edge\">\n<title>140532885437120&#45;&gt;140532885433472*</title>\n<path fill=\"none\" stroke=\"black\" d=\"M198.37,-73.5C208.05,-73.5 217.4,-73.5 225.8,-73.5\"/>\n<polygon fill=\"black\" stroke=\"black\" points=\"225.91,-77 235.91,-73.5 225.91,-70 225.91,-77\"/>\n</g>\n<!-- 140532885425936 -->\n<g id=\"node8\" class=\"node\">\n<title>140532885425936</title>\n<polygon fill=\"none\" stroke=\"black\" points=\"328.5,-110.5 328.5,-146.5 537.5,-146.5 537.5,-110.5 328.5,-110.5\"/>\n<text text-anchor=\"middle\" x=\"368.5\" y=\"-124.8\" font-family=\"Times,serif\" font-size=\"14.00\">data 0.0000</text>\n<polyline fill=\"none\" stroke=\"black\" points=\"408.5,-110.5 408.5,-146.5 \"/>\n<text text-anchor=\"middle\" x=\"432\" y=\"-124.8\" font-family=\"Times,serif\" font-size=\"14.00\">x2w2</text>\n<polyline fill=\"none\" stroke=\"black\" points=\"455.5,-110.5 455.5,-146.5 \"/>\n<text text-anchor=\"middle\" x=\"496.5\" y=\"-124.8\" font-family=\"Times,serif\" font-size=\"14.00\">grad 0.5001</text>\n</g>\n<!-- 140532885425936&#45;&gt;140532885435296+ -->\n<g id=\"edge9\" class=\"edge\">\n<title>140532885425936&#45;&gt;140532885435296+</title>\n<path fill=\"none\" stroke=\"black\" d=\"M537.53,-111.25C547.8,-109.53 557.66,-107.89 566.45,-106.43\"/>\n<polygon fill=\"black\" stroke=\"black\" points=\"567.3,-109.83 576.59,-104.74 566.15,-102.93 567.3,-109.83\"/>\n</g>\n<!-- 140532885425936*&#45;&gt;140532885425936 -->\n<g id=\"edge3\" class=\"edge\">\n<title>140532885425936*&#45;&gt;140532885425936</title>\n<path fill=\"none\" stroke=\"black\" d=\"M290.25,-128.5C298.43,-128.5 308.03,-128.5 318.31,-128.5\"/>\n<polygon fill=\"black\" stroke=\"black\" points=\"318.35,-132 328.35,-128.5 318.35,-125 318.35,-132\"/>\n</g>\n<!-- 140532885437744 -->\n<g id=\"node10\" class=\"node\">\n<title>140532885437744</title>\n<polygon fill=\"none\" stroke=\"black\" points=\"0,-0.5 0,-36.5 200,-36.5 200,-0.5 0,-0.5\"/>\n<text text-anchor=\"middle\" x=\"42.5\" y=\"-14.8\" font-family=\"Times,serif\" font-size=\"14.00\">data &#45;3.0000</text>\n<polyline fill=\"none\" stroke=\"black\" points=\"85,-0.5 85,-36.5 \"/>\n<text text-anchor=\"middle\" x=\"101.5\" y=\"-14.8\" font-family=\"Times,serif\" font-size=\"14.00\">w1</text>\n<polyline fill=\"none\" stroke=\"black\" points=\"118,-0.5 118,-36.5 \"/>\n<text text-anchor=\"middle\" x=\"159\" y=\"-14.8\" font-family=\"Times,serif\" font-size=\"14.00\">grad 1.0001</text>\n</g>\n<!-- 140532885437744&#45;&gt;140532885433472* -->\n<g id=\"edge12\" class=\"edge\">\n<title>140532885437744&#45;&gt;140532885433472*</title>\n<path fill=\"none\" stroke=\"black\" d=\"M169.28,-36.5C179.65,-39.61 190.16,-42.98 200,-46.5 210.28,-50.17 221.28,-54.74 231.11,-59.07\"/>\n<polygon fill=\"black\" stroke=\"black\" points=\"229.93,-62.37 240.48,-63.27 232.79,-55.99 229.93,-62.37\"/>\n</g>\n<!-- 140532885434720 -->\n<g id=\"node11\" class=\"node\">\n<title>140532885434720</title>\n<polygon fill=\"none\" stroke=\"black\" points=\"982,-54.5 982,-90.5 1167,-90.5 1167,-54.5 982,-54.5\"/>\n<text text-anchor=\"middle\" x=\"1022\" y=\"-68.8\" font-family=\"Times,serif\" font-size=\"14.00\">data 0.8813</text>\n<polyline fill=\"none\" stroke=\"black\" points=\"1062,-54.5 1062,-90.5 \"/>\n<text text-anchor=\"middle\" x=\"1073.5\" y=\"-68.8\" font-family=\"Times,serif\" font-size=\"14.00\">z</text>\n<polyline fill=\"none\" stroke=\"black\" points=\"1085,-54.5 1085,-90.5 \"/>\n<text text-anchor=\"middle\" x=\"1126\" y=\"-68.8\" font-family=\"Times,serif\" font-size=\"14.00\">grad 0.5001</text>\n</g>\n<!-- 140532885434720&#45;&gt;140532885434960tanh -->\n<g id=\"edge7\" class=\"edge\">\n<title>140532885434720&#45;&gt;140532885434960tanh</title>\n<path fill=\"none\" stroke=\"black\" d=\"M1167.01,-72.5C1176.01,-72.5 1184.74,-72.5 1192.66,-72.5\"/>\n<polygon fill=\"black\" stroke=\"black\" points=\"1192.91,-76 1202.91,-72.5 1192.91,-69 1192.91,-76\"/>\n</g>\n<!-- 140532885434720+ -->\n<g id=\"node12\" class=\"node\">\n<title>140532885434720+</title>\n<ellipse fill=\"none\" stroke=\"black\" cx=\"919\" cy=\"-72.5\" rx=\"27\" ry=\"18\"/>\n<text text-anchor=\"middle\" x=\"919\" y=\"-68.8\" font-family=\"Times,serif\" font-size=\"14.00\">+</text>\n</g>\n<!-- 140532885434720+&#45;&gt;140532885434720 -->\n<g id=\"edge4\" class=\"edge\">\n<title>140532885434720+&#45;&gt;140532885434720</title>\n<path fill=\"none\" stroke=\"black\" d=\"M946.04,-72.5C953.58,-72.5 962.3,-72.5 971.57,-72.5\"/>\n<polygon fill=\"black\" stroke=\"black\" points=\"971.81,-76 981.81,-72.5 971.81,-69 971.81,-76\"/>\n</g>\n<!-- 140532885426032 -->\n<g id=\"node13\" class=\"node\">\n<title>140532885426032</title>\n<polygon fill=\"none\" stroke=\"black\" points=\"668.5,-27.5 668.5,-63.5 853.5,-63.5 853.5,-27.5 668.5,-27.5\"/>\n<text text-anchor=\"middle\" x=\"708.5\" y=\"-41.8\" font-family=\"Times,serif\" font-size=\"14.00\">data 6.8813</text>\n<polyline fill=\"none\" stroke=\"black\" points=\"748.5,-27.5 748.5,-63.5 \"/>\n<text text-anchor=\"middle\" x=\"760\" y=\"-41.8\" font-family=\"Times,serif\" font-size=\"14.00\">b</text>\n<polyline fill=\"none\" stroke=\"black\" points=\"771.5,-27.5 771.5,-63.5 \"/>\n<text text-anchor=\"middle\" x=\"812.5\" y=\"-41.8\" font-family=\"Times,serif\" font-size=\"14.00\">grad 0.5001</text>\n</g>\n<!-- 140532885426032&#45;&gt;140532885434720+ -->\n<g id=\"edge13\" class=\"edge\">\n<title>140532885426032&#45;&gt;140532885434720+</title>\n<path fill=\"none\" stroke=\"black\" d=\"M853.65,-61.36C863.94,-63.14 873.91,-64.87 882.81,-66.41\"/>\n<polygon fill=\"black\" stroke=\"black\" points=\"882.26,-69.87 892.71,-68.12 883.45,-62.97 882.26,-69.87\"/>\n</g>\n<!-- 140532885435296 -->\n<g id=\"node14\" class=\"node\">\n<title>140532885435296</title>\n<polygon fill=\"none\" stroke=\"black\" points=\"666,-82.5 666,-118.5 856,-118.5 856,-82.5 666,-82.5\"/>\n<text text-anchor=\"middle\" x=\"708.5\" y=\"-96.8\" font-family=\"Times,serif\" font-size=\"14.00\">data &#45;6.0000</text>\n<polyline fill=\"none\" stroke=\"black\" points=\"751,-82.5 751,-118.5 \"/>\n<text text-anchor=\"middle\" x=\"762.5\" y=\"-96.8\" font-family=\"Times,serif\" font-size=\"14.00\">a</text>\n<polyline fill=\"none\" stroke=\"black\" points=\"774,-82.5 774,-118.5 \"/>\n<text text-anchor=\"middle\" x=\"815\" y=\"-96.8\" font-family=\"Times,serif\" font-size=\"14.00\">grad 0.5001</text>\n</g>\n<!-- 140532885435296&#45;&gt;140532885434720+ -->\n<g id=\"edge10\" class=\"edge\">\n<title>140532885435296&#45;&gt;140532885434720+</title>\n<path fill=\"none\" stroke=\"black\" d=\"M856.34,-83.57C865.62,-81.9 874.58,-80.29 882.66,-78.84\"/>\n<polygon fill=\"black\" stroke=\"black\" points=\"883.49,-82.25 892.72,-77.04 882.26,-75.36 883.49,-82.25\"/>\n</g>\n<!-- 140532885435296+&#45;&gt;140532885435296 -->\n<g id=\"edge5\" class=\"edge\">\n<title>140532885435296+&#45;&gt;140532885435296</title>\n<path fill=\"none\" stroke=\"black\" d=\"M630.11,-100.5C637.63,-100.5 646.32,-100.5 655.58,-100.5\"/>\n<polygon fill=\"black\" stroke=\"black\" points=\"655.81,-104 665.81,-100.5 655.81,-97 655.81,-104\"/>\n</g>\n</g>\n</svg>\n",
            "text/plain": [
              "<graphviz.graphs.Digraph at 0x7fd05cb736a0>"
            ]
          },
          "metadata": {},
          "execution_count": 74
        }
      ]
    },
    {
      "cell_type": "code",
      "source": [],
      "metadata": {
        "id": "Mpn8yQaO1_0g"
      },
      "execution_count": null,
      "outputs": []
    }
  ]
}